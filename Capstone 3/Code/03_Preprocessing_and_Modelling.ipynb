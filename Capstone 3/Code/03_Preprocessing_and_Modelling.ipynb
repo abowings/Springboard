{
 "cells": [
  {
   "cell_type": "markdown",
   "id": "pediatric-question",
   "metadata": {},
   "source": [
    "# 3 Training and Modelling the Data<a id='4_Training_and_Modeling_the_Data'></a>"
   ]
  },
  {
   "cell_type": "markdown",
   "id": "eligible-butter",
   "metadata": {},
   "source": [
    "## 3.1 Contents<a id='3.1_Contents'></a>\n",
    "* [3 Training and Modelling the Data](#3_Training_and_Modelling_the_Data)\n",
    "  * [3.1 Contents](#3.1_Contents)\n",
    "  * [3.2 Imports](#3.2_Imports)\n",
    "  * [3.3 Load Data](#3.3_Load_Data)\n",
    "  * [3.4 Train/Test Split](#3.4_Train_Test_Split)\n",
    "  * [3.5 Modelling](#3.5_Modelling)\n",
    "    * [3.5.1 Model 1](#3.5.1_----)\n",
    "        * [3.5.1.1 Train the model on the train split](#3.5.1.1_Train_the_model_on_the_train_split)\n",
    "        * [3.5.1.2 Make predictions using the model on both train and test splits](#3.5.1.2_Make_predictions_using_the_model_on_both_train_and_test_splits)\n",
    "        * [3.5.1.3 Assess model performance](#3.5.1.3_Assess_model_performance)\n",
    "    * [3.5.2 -----](#3.5.2_Decision_Tree_without_entropy)\n",
    "        * [3.5.2.1 Train the model on the train split](#3.5.2.1_Train_the_model_on_the_train_split)\n",
    "        * [3.5.2.2 Make predictions using the model on both train and test splits](#3.5.2.2_Make_predictions_using_the_model_on_both_train_and_test_splits)\n",
    "        * [3.5.2.3 Assess model performance](#3.5.1.3_Assess_model_performance)\n",
    "  * [3.6 Final Model Selection](#3.6_Final_Model_Selection)\n",
    "    * [3.6.1 --- model performance](#3.6.1_Logistic_regression_model_performance)\n",
    "    * [3.6.2 --- model performance](#3.6.2_Decision_Tree_model_performance)\n",
    "    * [3.6.3 Conclusion](#3.6.3_Conclusion)"
   ]
  },
  {
   "cell_type": "markdown",
   "id": "hired-manhattan",
   "metadata": {},
   "source": [
    "## 3.2 Imports<a id='3.2_Imports'></a>"
   ]
  },
  {
   "cell_type": "code",
   "execution_count": 1,
   "id": "rapid-handy",
   "metadata": {},
   "outputs": [],
   "source": [
    "import pandas as pd\n",
    "import numpy as np\n",
    "import os\n",
    "import pickle\n",
    "import matplotlib.pyplot as plt\n",
    "import seaborn as sns\n",
    "from sklearn.model_selection import train_test_split, cross_validate, GridSearchCV, learning_curve\n",
    "import datetime\n",
    "from sklearn import metrics\n",
    "from sklearn.tree import export_text\n",
    "import matplotlib.image as pltimg\n",
    "from IPython.display import Image  \n",
    "import pydotplus"
   ]
  },
  {
   "cell_type": "markdown",
   "id": "alternate-operator",
   "metadata": {},
   "source": [
    "## 3.3 Load Data<a id='3.3_Load_Data'></a>"
   ]
  },
  {
   "cell_type": "code",
   "execution_count": 2,
   "id": "thorough-thesis",
   "metadata": {
    "scrolled": true
   },
   "outputs": [
    {
     "data": {
      "text/html": [
       "<div>\n",
       "<style scoped>\n",
       "    .dataframe tbody tr th:only-of-type {\n",
       "        vertical-align: middle;\n",
       "    }\n",
       "\n",
       "    .dataframe tbody tr th {\n",
       "        vertical-align: top;\n",
       "    }\n",
       "\n",
       "    .dataframe thead th {\n",
       "        text-align: right;\n",
       "    }\n",
       "</style>\n",
       "<table border=\"1\" class=\"dataframe\">\n",
       "  <thead>\n",
       "    <tr style=\"text-align: right;\">\n",
       "      <th></th>\n",
       "      <th>Unnamed: 0</th>\n",
       "      <th>Position</th>\n",
       "      <th>Track Name</th>\n",
       "      <th>Artist</th>\n",
       "      <th>Stream Count/Week</th>\n",
       "      <th>URL</th>\n",
       "      <th>source</th>\n",
       "      <th>Week Ending</th>\n",
       "      <th>id</th>\n",
       "      <th>name</th>\n",
       "      <th>...</th>\n",
       "      <th>popularity</th>\n",
       "      <th>danceability</th>\n",
       "      <th>acousticness</th>\n",
       "      <th>energy</th>\n",
       "      <th>instrumentalness</th>\n",
       "      <th>liveness</th>\n",
       "      <th>loudness</th>\n",
       "      <th>speechiness</th>\n",
       "      <th>tempo</th>\n",
       "      <th>time_signature</th>\n",
       "    </tr>\n",
       "  </thead>\n",
       "  <tbody>\n",
       "    <tr>\n",
       "      <th>0</th>\n",
       "      <td>0</td>\n",
       "      <td>1</td>\n",
       "      <td>Blinding Lights</td>\n",
       "      <td>The Weeknd</td>\n",
       "      <td>41066317</td>\n",
       "      <td>https://open.spotify.com/track/0sf12qNH5qcw8qp...</td>\n",
       "      <td>regional-global-weekly-2020-03-06--2020-03-13.csv</td>\n",
       "      <td>2020-03-13</td>\n",
       "      <td>0sf12qNH5qcw8qpgymFOqD</td>\n",
       "      <td>Blinding Lights</td>\n",
       "      <td>...</td>\n",
       "      <td>30</td>\n",
       "      <td>0.513</td>\n",
       "      <td>0.00147</td>\n",
       "      <td>0.796</td>\n",
       "      <td>0.000209</td>\n",
       "      <td>0.0938</td>\n",
       "      <td>-4.075</td>\n",
       "      <td>0.0629</td>\n",
       "      <td>171.017</td>\n",
       "      <td>4</td>\n",
       "    </tr>\n",
       "    <tr>\n",
       "      <th>1</th>\n",
       "      <td>1</td>\n",
       "      <td>2</td>\n",
       "      <td>The Box</td>\n",
       "      <td>Roddy Ricch</td>\n",
       "      <td>37470185</td>\n",
       "      <td>https://open.spotify.com/track/0nbXyq5TXYPCO7p...</td>\n",
       "      <td>regional-global-weekly-2020-03-06--2020-03-13.csv</td>\n",
       "      <td>2020-03-13</td>\n",
       "      <td>0nbXyq5TXYPCO7pr3N8S4I</td>\n",
       "      <td>The Box</td>\n",
       "      <td>...</td>\n",
       "      <td>88</td>\n",
       "      <td>0.896</td>\n",
       "      <td>0.10400</td>\n",
       "      <td>0.586</td>\n",
       "      <td>0.000000</td>\n",
       "      <td>0.7900</td>\n",
       "      <td>-6.687</td>\n",
       "      <td>0.0559</td>\n",
       "      <td>116.971</td>\n",
       "      <td>4</td>\n",
       "    </tr>\n",
       "    <tr>\n",
       "      <th>2</th>\n",
       "      <td>2</td>\n",
       "      <td>3</td>\n",
       "      <td>Dance Monkey</td>\n",
       "      <td>Tones And I</td>\n",
       "      <td>36071262</td>\n",
       "      <td>https://open.spotify.com/track/1rgnBhdG2JDFTbY...</td>\n",
       "      <td>regional-global-weekly-2020-03-06--2020-03-13.csv</td>\n",
       "      <td>2020-03-13</td>\n",
       "      <td>1rgnBhdG2JDFTbYkYRZAku</td>\n",
       "      <td>Dance Monkey</td>\n",
       "      <td>...</td>\n",
       "      <td>69</td>\n",
       "      <td>0.825</td>\n",
       "      <td>0.68800</td>\n",
       "      <td>0.593</td>\n",
       "      <td>0.000161</td>\n",
       "      <td>0.1700</td>\n",
       "      <td>-6.401</td>\n",
       "      <td>0.0988</td>\n",
       "      <td>98.078</td>\n",
       "      <td>4</td>\n",
       "    </tr>\n",
       "    <tr>\n",
       "      <th>3</th>\n",
       "      <td>3</td>\n",
       "      <td>4</td>\n",
       "      <td>Don't Start Now</td>\n",
       "      <td>Dua Lipa</td>\n",
       "      <td>32169572</td>\n",
       "      <td>https://open.spotify.com/track/6WrI0LAC5M1Rw2M...</td>\n",
       "      <td>regional-global-weekly-2020-03-06--2020-03-13.csv</td>\n",
       "      <td>2020-03-13</td>\n",
       "      <td>6WrI0LAC5M1Rw2MnX2ZvEg</td>\n",
       "      <td>Don't Start Now</td>\n",
       "      <td>...</td>\n",
       "      <td>85</td>\n",
       "      <td>0.794</td>\n",
       "      <td>0.01250</td>\n",
       "      <td>0.793</td>\n",
       "      <td>0.000000</td>\n",
       "      <td>0.0952</td>\n",
       "      <td>-4.521</td>\n",
       "      <td>0.0842</td>\n",
       "      <td>123.941</td>\n",
       "      <td>4</td>\n",
       "    </tr>\n",
       "    <tr>\n",
       "      <th>4</th>\n",
       "      <td>4</td>\n",
       "      <td>5</td>\n",
       "      <td>La Difícil</td>\n",
       "      <td>Bad Bunny</td>\n",
       "      <td>29598307</td>\n",
       "      <td>https://open.spotify.com/track/6NfrH0ANGmgBXyx...</td>\n",
       "      <td>regional-global-weekly-2020-03-06--2020-03-13.csv</td>\n",
       "      <td>2020-03-13</td>\n",
       "      <td>6NfrH0ANGmgBXyxgV2PeXt</td>\n",
       "      <td>La Difícil</td>\n",
       "      <td>...</td>\n",
       "      <td>81</td>\n",
       "      <td>0.685</td>\n",
       "      <td>0.08610</td>\n",
       "      <td>0.848</td>\n",
       "      <td>0.000007</td>\n",
       "      <td>0.0783</td>\n",
       "      <td>-4.561</td>\n",
       "      <td>0.0858</td>\n",
       "      <td>179.870</td>\n",
       "      <td>4</td>\n",
       "    </tr>\n",
       "  </tbody>\n",
       "</table>\n",
       "<p>5 rows × 24 columns</p>\n",
       "</div>"
      ],
      "text/plain": [
       "   Unnamed: 0  Position       Track Name       Artist  Stream Count/Week  \\\n",
       "0           0         1  Blinding Lights   The Weeknd           41066317   \n",
       "1           1         2          The Box  Roddy Ricch           37470185   \n",
       "2           2         3     Dance Monkey  Tones And I           36071262   \n",
       "3           3         4  Don't Start Now     Dua Lipa           32169572   \n",
       "4           4         5       La Difícil    Bad Bunny           29598307   \n",
       "\n",
       "                                                 URL  \\\n",
       "0  https://open.spotify.com/track/0sf12qNH5qcw8qp...   \n",
       "1  https://open.spotify.com/track/0nbXyq5TXYPCO7p...   \n",
       "2  https://open.spotify.com/track/1rgnBhdG2JDFTbY...   \n",
       "3  https://open.spotify.com/track/6WrI0LAC5M1Rw2M...   \n",
       "4  https://open.spotify.com/track/6NfrH0ANGmgBXyx...   \n",
       "\n",
       "                                              source Week Ending  \\\n",
       "0  regional-global-weekly-2020-03-06--2020-03-13.csv  2020-03-13   \n",
       "1  regional-global-weekly-2020-03-06--2020-03-13.csv  2020-03-13   \n",
       "2  regional-global-weekly-2020-03-06--2020-03-13.csv  2020-03-13   \n",
       "3  regional-global-weekly-2020-03-06--2020-03-13.csv  2020-03-13   \n",
       "4  regional-global-weekly-2020-03-06--2020-03-13.csv  2020-03-13   \n",
       "\n",
       "                       id             name  ... popularity danceability  \\\n",
       "0  0sf12qNH5qcw8qpgymFOqD  Blinding Lights  ...         30        0.513   \n",
       "1  0nbXyq5TXYPCO7pr3N8S4I          The Box  ...         88        0.896   \n",
       "2  1rgnBhdG2JDFTbYkYRZAku     Dance Monkey  ...         69        0.825   \n",
       "3  6WrI0LAC5M1Rw2MnX2ZvEg  Don't Start Now  ...         85        0.794   \n",
       "4  6NfrH0ANGmgBXyxgV2PeXt       La Difícil  ...         81        0.685   \n",
       "\n",
       "  acousticness  energy  instrumentalness  liveness  loudness  speechiness  \\\n",
       "0      0.00147   0.796          0.000209    0.0938    -4.075       0.0629   \n",
       "1      0.10400   0.586          0.000000    0.7900    -6.687       0.0559   \n",
       "2      0.68800   0.593          0.000161    0.1700    -6.401       0.0988   \n",
       "3      0.01250   0.793          0.000000    0.0952    -4.521       0.0842   \n",
       "4      0.08610   0.848          0.000007    0.0783    -4.561       0.0858   \n",
       "\n",
       "     tempo  time_signature  \n",
       "0  171.017               4  \n",
       "1  116.971               4  \n",
       "2   98.078               4  \n",
       "3  123.941               4  \n",
       "4  179.870               4  \n",
       "\n",
       "[5 rows x 24 columns]"
      ]
     },
     "execution_count": 2,
     "metadata": {},
     "output_type": "execute_result"
    }
   ],
   "source": [
    "spotify_data = pd.read_csv('../data/top_200_tracks_features.csv')\n",
    "spotify_data.head()"
   ]
  },
  {
   "cell_type": "code",
   "execution_count": 3,
   "id": "later-expense",
   "metadata": {},
   "outputs": [
    {
     "data": {
      "text/plain": [
       "(10600, 24)"
      ]
     },
     "execution_count": 3,
     "metadata": {},
     "output_type": "execute_result"
    }
   ],
   "source": [
    "spotify_data.shape"
   ]
  },
  {
   "cell_type": "code",
   "execution_count": 4,
   "id": "monthly-trance",
   "metadata": {},
   "outputs": [
    {
     "name": "stdout",
     "output_type": "stream",
     "text": [
      "['Unnamed: 0', 'Position', 'Track Name', 'Artist', 'Stream Count/Week', 'URL', 'source', 'Week Ending', 'id', 'name', 'album', 'artist', 'release_date', 'length', 'popularity', 'danceability', 'acousticness', 'energy', 'instrumentalness', 'liveness', 'loudness', 'speechiness', 'tempo', 'time_signature']\n"
     ]
    }
   ],
   "source": [
    "print(list(spotify_data.columns))"
   ]
  },
  {
   "cell_type": "code",
   "execution_count": 5,
   "id": "large-credit",
   "metadata": {
    "scrolled": true
   },
   "outputs": [
    {
     "data": {
      "text/html": [
       "<div>\n",
       "<style scoped>\n",
       "    .dataframe tbody tr th:only-of-type {\n",
       "        vertical-align: middle;\n",
       "    }\n",
       "\n",
       "    .dataframe tbody tr th {\n",
       "        vertical-align: top;\n",
       "    }\n",
       "\n",
       "    .dataframe thead th {\n",
       "        text-align: right;\n",
       "    }\n",
       "</style>\n",
       "<table border=\"1\" class=\"dataframe\">\n",
       "  <thead>\n",
       "    <tr style=\"text-align: right;\">\n",
       "      <th></th>\n",
       "      <th>Position</th>\n",
       "      <th>Stream Count/Week</th>\n",
       "      <th>Week Ending</th>\n",
       "      <th>release_date</th>\n",
       "      <th>length</th>\n",
       "      <th>popularity</th>\n",
       "      <th>danceability</th>\n",
       "      <th>acousticness</th>\n",
       "      <th>energy</th>\n",
       "      <th>instrumentalness</th>\n",
       "      <th>liveness</th>\n",
       "      <th>loudness</th>\n",
       "      <th>speechiness</th>\n",
       "      <th>tempo</th>\n",
       "      <th>time_signature</th>\n",
       "    </tr>\n",
       "  </thead>\n",
       "  <tbody>\n",
       "    <tr>\n",
       "      <th>0</th>\n",
       "      <td>1</td>\n",
       "      <td>41066317</td>\n",
       "      <td>2020-03-13</td>\n",
       "      <td>2019-11-29</td>\n",
       "      <td>201573</td>\n",
       "      <td>30</td>\n",
       "      <td>0.513</td>\n",
       "      <td>0.00147</td>\n",
       "      <td>0.796</td>\n",
       "      <td>0.000209</td>\n",
       "      <td>0.0938</td>\n",
       "      <td>-4.075</td>\n",
       "      <td>0.0629</td>\n",
       "      <td>171.017</td>\n",
       "      <td>4</td>\n",
       "    </tr>\n",
       "    <tr>\n",
       "      <th>1</th>\n",
       "      <td>2</td>\n",
       "      <td>37470185</td>\n",
       "      <td>2020-03-13</td>\n",
       "      <td>2019-12-06</td>\n",
       "      <td>196652</td>\n",
       "      <td>88</td>\n",
       "      <td>0.896</td>\n",
       "      <td>0.10400</td>\n",
       "      <td>0.586</td>\n",
       "      <td>0.000000</td>\n",
       "      <td>0.7900</td>\n",
       "      <td>-6.687</td>\n",
       "      <td>0.0559</td>\n",
       "      <td>116.971</td>\n",
       "      <td>4</td>\n",
       "    </tr>\n",
       "    <tr>\n",
       "      <th>2</th>\n",
       "      <td>3</td>\n",
       "      <td>36071262</td>\n",
       "      <td>2020-03-13</td>\n",
       "      <td>2019-05-10</td>\n",
       "      <td>209754</td>\n",
       "      <td>69</td>\n",
       "      <td>0.825</td>\n",
       "      <td>0.68800</td>\n",
       "      <td>0.593</td>\n",
       "      <td>0.000161</td>\n",
       "      <td>0.1700</td>\n",
       "      <td>-6.401</td>\n",
       "      <td>0.0988</td>\n",
       "      <td>98.078</td>\n",
       "      <td>4</td>\n",
       "    </tr>\n",
       "    <tr>\n",
       "      <th>3</th>\n",
       "      <td>4</td>\n",
       "      <td>32169572</td>\n",
       "      <td>2020-03-13</td>\n",
       "      <td>2019-10-31</td>\n",
       "      <td>183290</td>\n",
       "      <td>85</td>\n",
       "      <td>0.794</td>\n",
       "      <td>0.01250</td>\n",
       "      <td>0.793</td>\n",
       "      <td>0.000000</td>\n",
       "      <td>0.0952</td>\n",
       "      <td>-4.521</td>\n",
       "      <td>0.0842</td>\n",
       "      <td>123.941</td>\n",
       "      <td>4</td>\n",
       "    </tr>\n",
       "    <tr>\n",
       "      <th>4</th>\n",
       "      <td>5</td>\n",
       "      <td>29598307</td>\n",
       "      <td>2020-03-13</td>\n",
       "      <td>2020-02-28</td>\n",
       "      <td>163084</td>\n",
       "      <td>81</td>\n",
       "      <td>0.685</td>\n",
       "      <td>0.08610</td>\n",
       "      <td>0.848</td>\n",
       "      <td>0.000007</td>\n",
       "      <td>0.0783</td>\n",
       "      <td>-4.561</td>\n",
       "      <td>0.0858</td>\n",
       "      <td>179.870</td>\n",
       "      <td>4</td>\n",
       "    </tr>\n",
       "  </tbody>\n",
       "</table>\n",
       "</div>"
      ],
      "text/plain": [
       "   Position  Stream Count/Week Week Ending release_date  length  popularity  \\\n",
       "0         1           41066317  2020-03-13   2019-11-29  201573          30   \n",
       "1         2           37470185  2020-03-13   2019-12-06  196652          88   \n",
       "2         3           36071262  2020-03-13   2019-05-10  209754          69   \n",
       "3         4           32169572  2020-03-13   2019-10-31  183290          85   \n",
       "4         5           29598307  2020-03-13   2020-02-28  163084          81   \n",
       "\n",
       "   danceability  acousticness  energy  instrumentalness  liveness  loudness  \\\n",
       "0         0.513       0.00147   0.796          0.000209    0.0938    -4.075   \n",
       "1         0.896       0.10400   0.586          0.000000    0.7900    -6.687   \n",
       "2         0.825       0.68800   0.593          0.000161    0.1700    -6.401   \n",
       "3         0.794       0.01250   0.793          0.000000    0.0952    -4.521   \n",
       "4         0.685       0.08610   0.848          0.000007    0.0783    -4.561   \n",
       "\n",
       "   speechiness    tempo  time_signature  \n",
       "0       0.0629  171.017               4  \n",
       "1       0.0559  116.971               4  \n",
       "2       0.0988   98.078               4  \n",
       "3       0.0842  123.941               4  \n",
       "4       0.0858  179.870               4  "
      ]
     },
     "execution_count": 5,
     "metadata": {},
     "output_type": "execute_result"
    }
   ],
   "source": [
    "spotify_data = spotify_data.drop(['Unnamed: 0','Track Name', 'Artist','URL', 'source','id','name', 'album', 'artist'],axis = 1)\n",
    "spotify_data.head()"
   ]
  },
  {
   "cell_type": "code",
   "execution_count": 6,
   "id": "failing-algorithm",
   "metadata": {},
   "outputs": [
    {
     "data": {
      "text/plain": [
       "(10600, 15)"
      ]
     },
     "execution_count": 6,
     "metadata": {},
     "output_type": "execute_result"
    }
   ],
   "source": [
    "spotify_data.shape"
   ]
  },
  {
   "cell_type": "code",
   "execution_count": 7,
   "id": "automotive-principle",
   "metadata": {},
   "outputs": [
    {
     "name": "stdout",
     "output_type": "stream",
     "text": [
      "<class 'pandas.core.frame.DataFrame'>\n",
      "RangeIndex: 10600 entries, 0 to 10599\n",
      "Data columns (total 15 columns):\n",
      " #   Column             Non-Null Count  Dtype  \n",
      "---  ------             --------------  -----  \n",
      " 0   Position           10600 non-null  int64  \n",
      " 1   Stream Count/Week  10600 non-null  int64  \n",
      " 2   Week Ending        10600 non-null  object \n",
      " 3   release_date       10600 non-null  object \n",
      " 4   length             10600 non-null  int64  \n",
      " 5   popularity         10600 non-null  int64  \n",
      " 6   danceability       10600 non-null  float64\n",
      " 7   acousticness       10600 non-null  float64\n",
      " 8   energy             10600 non-null  float64\n",
      " 9   instrumentalness   10600 non-null  float64\n",
      " 10  liveness           10600 non-null  float64\n",
      " 11  loudness           10600 non-null  float64\n",
      " 12  speechiness        10600 non-null  float64\n",
      " 13  tempo              10600 non-null  float64\n",
      " 14  time_signature     10600 non-null  int64  \n",
      "dtypes: float64(8), int64(5), object(2)\n",
      "memory usage: 1.2+ MB\n"
     ]
    }
   ],
   "source": [
    "spotify_data.info()"
   ]
  },
  {
   "cell_type": "code",
   "execution_count": 8,
   "id": "aware-davis",
   "metadata": {},
   "outputs": [],
   "source": [
    "spotify_data[\"release_date\"] = pd.to_datetime(spotify_data[\"release_date\"])\n",
    "spotify_data[\"Week Ending\"]  = pd.to_datetime(spotify_data[\"Week Ending\"])"
   ]
  },
  {
   "cell_type": "code",
   "execution_count": 9,
   "id": "alert-trick",
   "metadata": {},
   "outputs": [],
   "source": [
    "spotify_data[\"days elapsed\"] = (spotify_data[\"release_date\"] - spotify_data[\"Week Ending\"]).dt.days"
   ]
  },
  {
   "cell_type": "code",
   "execution_count": 10,
   "id": "indie-island",
   "metadata": {},
   "outputs": [
    {
     "data": {
      "text/plain": [
       "DatetimeIndex(['2020-03-13', '2020-03-13', '2020-03-13', '2020-03-13',\n",
       "               '2020-03-13', '2020-03-13', '2020-03-13', '2020-03-13',\n",
       "               '2020-03-13', '2020-03-13',\n",
       "               ...\n",
       "               '2021-03-19', '2021-03-19', '2021-03-19', '2021-03-19',\n",
       "               '2021-03-19', '2021-03-19', '2021-03-19', '2021-03-19',\n",
       "               '2021-03-19', '2021-03-19'],\n",
       "              dtype='datetime64[ns]', name='Week Ending', length=10600, freq=None)"
      ]
     },
     "execution_count": 10,
     "metadata": {},
     "output_type": "execute_result"
    }
   ],
   "source": [
    "spotify_data = spotify_data.set_index('Week Ending')\n",
    "spotify_data.index"
   ]
  },
  {
   "cell_type": "code",
   "execution_count": 11,
   "id": "comparable-blame",
   "metadata": {},
   "outputs": [
    {
     "name": "stdout",
     "output_type": "stream",
     "text": [
      "<class 'pandas.core.frame.DataFrame'>\n",
      "DatetimeIndex: 10600 entries, 2020-03-13 to 2021-03-19\n",
      "Data columns (total 15 columns):\n",
      " #   Column             Non-Null Count  Dtype         \n",
      "---  ------             --------------  -----         \n",
      " 0   Position           10600 non-null  int64         \n",
      " 1   Stream Count/Week  10600 non-null  int64         \n",
      " 2   release_date       10600 non-null  datetime64[ns]\n",
      " 3   length             10600 non-null  int64         \n",
      " 4   popularity         10600 non-null  int64         \n",
      " 5   danceability       10600 non-null  float64       \n",
      " 6   acousticness       10600 non-null  float64       \n",
      " 7   energy             10600 non-null  float64       \n",
      " 8   instrumentalness   10600 non-null  float64       \n",
      " 9   liveness           10600 non-null  float64       \n",
      " 10  loudness           10600 non-null  float64       \n",
      " 11  speechiness        10600 non-null  float64       \n",
      " 12  tempo              10600 non-null  float64       \n",
      " 13  time_signature     10600 non-null  int64         \n",
      " 14  days elapsed       10600 non-null  int64         \n",
      "dtypes: datetime64[ns](1), float64(8), int64(6)\n",
      "memory usage: 1.3 MB\n"
     ]
    }
   ],
   "source": [
    "spotify_data.info()"
   ]
  },
  {
   "cell_type": "code",
   "execution_count": 12,
   "id": "still-annual",
   "metadata": {},
   "outputs": [
    {
     "name": "stdout",
     "output_type": "stream",
     "text": [
      "features:\n",
      "['length', 'popularity', 'danceability', 'acousticness', 'energy', 'instrumentalness', 'liveness', 'loudness', 'speechiness', 'tempo', 'time_signature', 'days elapsed']\n"
     ]
    }
   ],
   "source": [
    "feature_names = list(spotify_data.columns[3:])\n",
    "print(\"features:\", feature_names, sep=\"\\n\")"
   ]
  },
  {
   "cell_type": "markdown",
   "id": "threatened-province",
   "metadata": {},
   "source": [
    "## 3.4 Train/Test Split<a id='3.4_Train_Test_Split'></a>"
   ]
  },
  {
   "cell_type": "code",
   "execution_count": 13,
   "id": "manufactured-input",
   "metadata": {},
   "outputs": [
    {
     "data": {
      "text/plain": [
       "(7419.999999999999, 3180.0)"
      ]
     },
     "execution_count": 13,
     "metadata": {},
     "output_type": "execute_result"
    }
   ],
   "source": [
    "len(spotify_data) * .7, len(spotify_data) * .3"
   ]
  },
  {
   "cell_type": "code",
   "execution_count": 14,
   "id": "killing-spirituality",
   "metadata": {},
   "outputs": [],
   "source": [
    "X = spotify_data[feature_names]\n",
    "\n",
    "y = spotify_data['Stream Count/Week']"
   ]
  },
  {
   "cell_type": "code",
   "execution_count": 15,
   "id": "clean-toyota",
   "metadata": {},
   "outputs": [],
   "source": [
    "X1 = spotify_data.loc[spotify_data.Position==1,feature_names]\n",
    "y1 = spotify_data.loc[spotify_data.Position==1,'Stream Count/Week']"
   ]
  },
  {
   "cell_type": "code",
   "execution_count": 16,
   "id": "banner-briefing",
   "metadata": {},
   "outputs": [
    {
     "data": {
      "text/plain": [
       "(53,)"
      ]
     },
     "execution_count": 16,
     "metadata": {},
     "output_type": "execute_result"
    }
   ],
   "source": [
    "y1.shape"
   ]
  },
  {
   "cell_type": "code",
   "execution_count": 17,
   "id": "educated-aging",
   "metadata": {},
   "outputs": [
    {
     "data": {
      "text/plain": [
       "Week Ending\n",
       "2020-03-13    41066317\n",
       "2020-03-20    38959007\n",
       "2020-03-27    52375259\n",
       "2020-04-03    46779503\n",
       "2020-04-10    45847200\n",
       "Name: Stream Count/Week, dtype: int64"
      ]
     },
     "execution_count": 17,
     "metadata": {},
     "output_type": "execute_result"
    }
   ],
   "source": [
    "y1.head()"
   ]
  },
  {
   "cell_type": "code",
   "execution_count": 18,
   "id": "complimentary-essence",
   "metadata": {},
   "outputs": [],
   "source": [
    "X_train, X_test, y_train, y_test = train_test_split(X, y, test_size=0.3, random_state=47)"
   ]
  },
  {
   "cell_type": "code",
   "execution_count": 19,
   "id": "fantastic-literature",
   "metadata": {},
   "outputs": [
    {
     "data": {
      "text/plain": [
       "((7420, 12), (3180, 12))"
      ]
     },
     "execution_count": 19,
     "metadata": {},
     "output_type": "execute_result"
    }
   ],
   "source": [
    "X_train.shape, X_test.shape"
   ]
  },
  {
   "cell_type": "code",
   "execution_count": 20,
   "id": "tight-jason",
   "metadata": {},
   "outputs": [
    {
     "data": {
      "text/plain": [
       "((7420,), (3180,))"
      ]
     },
     "execution_count": 20,
     "metadata": {},
     "output_type": "execute_result"
    }
   ],
   "source": [
    "y_train.shape, y_test.shape"
   ]
  },
  {
   "cell_type": "markdown",
   "id": "compound-scoop",
   "metadata": {},
   "source": [
    "## 3.6 Models<a id='3.6_Models'></a>"
   ]
  },
  {
   "cell_type": "markdown",
   "id": "welcome-burton",
   "metadata": {},
   "source": [
    "### 3.6.1 Linear Regression<a id='3.6.1_Linear_Regression'></a>"
   ]
  },
  {
   "cell_type": "markdown",
   "id": "blind-albania",
   "metadata": {},
   "source": [
    "#### 3.6.1.1 Train the model on the train split<a id='3.6.1.1_Train_the_model_on_the_train_split'></a>"
   ]
  },
  {
   "cell_type": "code",
   "execution_count": 21,
   "id": "solar-latino",
   "metadata": {},
   "outputs": [
    {
     "data": {
      "text/plain": [
       "array([-8.25449183e+00,  6.86426635e+04,  1.80431763e+06, -1.52692365e+05,\n",
       "        3.05234708e+06, -4.70391080e+06,  1.48524317e+06, -2.78762713e+05,\n",
       "       -3.33316455e+06,  1.35673206e+04, -1.08763731e+05,  3.61417459e+01])"
      ]
     },
     "execution_count": 21,
     "metadata": {},
     "output_type": "execute_result"
    }
   ],
   "source": [
    "from sklearn.linear_model import LinearRegression\n",
    "reg = LinearRegression().fit(X, y)\n",
    "reg.score(X, y)\n",
    "reg.coef_"
   ]
  },
  {
   "cell_type": "code",
   "execution_count": 22,
   "id": "hollywood-shape",
   "metadata": {},
   "outputs": [],
   "source": [
    "reg = reg.fit(X_train, y_train)"
   ]
  },
  {
   "cell_type": "markdown",
   "id": "compliant-patrick",
   "metadata": {},
   "source": [
    "#### 3.6.1.2 Make predictions using the model on both train and test splits<a id='3.6.1.2_Make_predictions_using_the_model_on_both_train_and_test_splits'></a>"
   ]
  },
  {
   "cell_type": "code",
   "execution_count": 23,
   "id": "professional-trash",
   "metadata": {},
   "outputs": [],
   "source": [
    "reg_train_pred = reg.predict(X_train)\n",
    "\n",
    "reg_test_pred = reg.predict(X_test)"
   ]
  },
  {
   "cell_type": "code",
   "execution_count": 24,
   "id": "fancy-howard",
   "metadata": {},
   "outputs": [
    {
     "data": {
      "text/plain": [
       "LinearRegression()"
      ]
     },
     "execution_count": 24,
     "metadata": {},
     "output_type": "execute_result"
    }
   ],
   "source": [
    "reg_train_pred = pd.Series(reg_train_pred)\n",
    "\n",
    "reg"
   ]
  },
  {
   "cell_type": "markdown",
   "id": "corresponding-diving",
   "metadata": {},
   "source": [
    "#### 3.6.1.3 Assess model performance<a id='3.6.1.3_Assess_model_performance'></a>"
   ]
  },
  {
   "cell_type": "markdown",
   "id": "respiratory-waterproof",
   "metadata": {},
   "source": [
    "##### Training Set"
   ]
  },
  {
   "cell_type": "code",
   "execution_count": 25,
   "id": "fifth-pharmacy",
   "metadata": {},
   "outputs": [
    {
     "name": "stdout",
     "output_type": "stream",
     "text": [
      "explained_variance:  0.0361\n",
      "mean_squared_log_error:  0.2353\n",
      "r2:  0.0361\n",
      "MAE:  3823156.6654\n",
      "MSE:  32053182916372.875\n",
      "RMSE:  5661553.0481\n"
     ]
    }
   ],
   "source": [
    "# Regression metrics\n",
    "explained_variance=metrics.explained_variance_score(y_train, reg_train_pred)\n",
    "mean_absolute_error=metrics.mean_absolute_error(y_train, reg_train_pred) \n",
    "mse=metrics.mean_squared_error(y_train, reg_train_pred) \n",
    "mean_squared_log_error=metrics.mean_squared_log_error(y_train, reg_train_pred)\n",
    "median_absolute_error=metrics.median_absolute_error(y_train, reg_train_pred)\n",
    "r2=metrics.r2_score(y_train, reg_train_pred)\n",
    "\n",
    "print('explained_variance: ', round(explained_variance,4))    \n",
    "print('mean_squared_log_error: ', round(mean_squared_log_error,4))\n",
    "print('r2: ', round(r2,4))\n",
    "print('MAE: ', round(mean_absolute_error,4))\n",
    "print('MSE: ', round(mse,4))\n",
    "print('RMSE: ', round(np.sqrt(mse),4))"
   ]
  },
  {
   "cell_type": "markdown",
   "id": "english-negative",
   "metadata": {},
   "source": [
    "##### Test Set"
   ]
  },
  {
   "cell_type": "code",
   "execution_count": 26,
   "id": "noted-species",
   "metadata": {},
   "outputs": [
    {
     "name": "stdout",
     "output_type": "stream",
     "text": [
      "explained_variance:  0.0436\n",
      "mean_squared_log_error:  0.2331\n",
      "r2:  0.0426\n",
      "MAE:  3839079.8179\n",
      "MSE:  31413852182776.152\n",
      "RMSE:  5604806.1682\n"
     ]
    }
   ],
   "source": [
    "# Regression metrics\n",
    "explained_variance=metrics.explained_variance_score(y_test, reg_test_pred)\n",
    "mean_absolute_error=metrics.mean_absolute_error(y_test, reg_test_pred) \n",
    "mse=metrics.mean_squared_error(y_test, reg_test_pred) \n",
    "mean_squared_log_error=metrics.mean_squared_log_error(y_test, reg_test_pred)\n",
    "median_absolute_error=metrics.median_absolute_error(y_test, reg_test_pred)\n",
    "r2=metrics.r2_score(y_test, reg_test_pred)\n",
    "\n",
    "print('explained_variance: ', round(explained_variance,4))    \n",
    "print('mean_squared_log_error: ', round(mean_squared_log_error,4))\n",
    "print('r2: ', round(r2,4))\n",
    "print('MAE: ', round(mean_absolute_error,4))\n",
    "print('MSE: ', round(mse,4))\n",
    "print('RMSE: ', round(np.sqrt(mse),4))"
   ]
  },
  {
   "cell_type": "markdown",
   "id": "regulated-affair",
   "metadata": {},
   "source": [
    "#### 3.6.1.4 Train the model on the new train split<a id='3.6.1.1_Train_the_model_on_the_train_split'></a>"
   ]
  },
  {
   "cell_type": "code",
   "execution_count": 27,
   "id": "written-masters",
   "metadata": {},
   "outputs": [],
   "source": [
    "X1_train, X1_test, y1_train, y1_test = train_test_split(X1, y1, test_size=0.3, random_state=47)"
   ]
  },
  {
   "cell_type": "code",
   "execution_count": 28,
   "id": "specific-sierra",
   "metadata": {},
   "outputs": [
    {
     "data": {
      "text/plain": [
       "array([-6.46047083e+00,  6.41221954e+04,  2.23449372e+06, -3.58826506e+04,\n",
       "        2.63310216e+06, -4.71003868e+06,  1.56198161e+06, -2.79026745e+05,\n",
       "       -3.05645531e+06,  1.46104689e+04, -6.89213046e+03,  7.00378981e+01])"
      ]
     },
     "execution_count": 28,
     "metadata": {},
     "output_type": "execute_result"
    }
   ],
   "source": [
    "from sklearn.linear_model import LinearRegression\n",
    "reg1 = LinearRegression().fit(X1, y1)\n",
    "reg.score(X1, y1)\n",
    "reg.coef_"
   ]
  },
  {
   "cell_type": "code",
   "execution_count": 29,
   "id": "banned-savannah",
   "metadata": {},
   "outputs": [],
   "source": [
    "reg1 = reg1.fit(X1_train, y1_train)"
   ]
  },
  {
   "cell_type": "markdown",
   "id": "heavy-independence",
   "metadata": {},
   "source": [
    "#### 3.6.1.5 Make predictions using the model on both train and test splits<a id='3.6.1.5_Make_predictions_using_the_model_on_both_train_and_test_splits'></a>"
   ]
  },
  {
   "cell_type": "code",
   "execution_count": 30,
   "id": "ordered-watts",
   "metadata": {},
   "outputs": [
    {
     "data": {
      "text/plain": [
       "LinearRegression()"
      ]
     },
     "execution_count": 30,
     "metadata": {},
     "output_type": "execute_result"
    }
   ],
   "source": [
    "reg1_train_pred = reg1.predict(X1_train)\n",
    "\n",
    "reg1_test_pred = reg1.predict(X1_test)\n",
    "\n",
    "reg1_train_pred = pd.Series(reg1_train_pred)\n",
    "\n",
    "reg1"
   ]
  },
  {
   "cell_type": "markdown",
   "id": "precise-carol",
   "metadata": {},
   "source": [
    "#### 3.6.1.6 Assess model performance<a id='3.6.1.6_Assess_model_performance'></a>"
   ]
  },
  {
   "cell_type": "markdown",
   "id": "studied-sarah",
   "metadata": {},
   "source": [
    "##### Training Set"
   ]
  },
  {
   "cell_type": "code",
   "execution_count": 31,
   "id": "challenging-grounds",
   "metadata": {},
   "outputs": [
    {
     "name": "stdout",
     "output_type": "stream",
     "text": [
      "explained_variance:  0.2736\n",
      "mean_squared_log_error:  0.0212\n",
      "r2:  0.2736\n",
      "MAE:  4112991.1358\n",
      "MSE:  54385096712330.62\n",
      "RMSE:  7374625.1913\n"
     ]
    }
   ],
   "source": [
    "# Regression metrics\n",
    "explained_variance=metrics.explained_variance_score(y1_train, reg1_train_pred)\n",
    "mean_absolute_error=metrics.mean_absolute_error(y1_train, reg1_train_pred) \n",
    "mse=metrics.mean_squared_error(y1_train, reg1_train_pred) \n",
    "mean_squared_log_error=metrics.mean_squared_log_error(y1_train, reg1_train_pred)\n",
    "median_absolute_error=metrics.median_absolute_error(y1_train, reg1_train_pred)\n",
    "r2=metrics.r2_score(y1_train, reg1_train_pred)\n",
    "\n",
    "print('explained_variance: ', round(explained_variance,4))    \n",
    "print('mean_squared_log_error: ', round(mean_squared_log_error,4))\n",
    "print('r2: ', round(r2,4))\n",
    "print('MAE: ', round(mean_absolute_error,4))\n",
    "print('MSE: ', round(mse,4))\n",
    "print('RMSE: ', round(np.sqrt(mse),4))"
   ]
  },
  {
   "cell_type": "markdown",
   "id": "golden-valuable",
   "metadata": {},
   "source": [
    "##### Test Set"
   ]
  },
  {
   "cell_type": "code",
   "execution_count": 32,
   "id": "antique-button",
   "metadata": {},
   "outputs": [
    {
     "name": "stdout",
     "output_type": "stream",
     "text": [
      "explained_variance:  -0.197\n",
      "mean_squared_log_error:  0.044\n",
      "r2:  -0.3199\n",
      "MAE:  6429035.2194\n",
      "MSE:  84886230174460.88\n",
      "RMSE:  9213372.3562\n"
     ]
    }
   ],
   "source": [
    "# Regression metrics\n",
    "explained_variance=metrics.explained_variance_score(y1_test, reg1_test_pred)\n",
    "mean_absolute_error=metrics.mean_absolute_error(y1_test, reg1_test_pred) \n",
    "mse=metrics.mean_squared_error(y1_test, reg1_test_pred) \n",
    "mean_squared_log_error=metrics.mean_squared_log_error(y1_test, reg1_test_pred)\n",
    "median_absolute_error=metrics.median_absolute_error(y1_test, reg1_test_pred)\n",
    "r2=metrics.r2_score(y1_test, reg1_test_pred)\n",
    "\n",
    "print('explained_variance: ', round(explained_variance,4))    \n",
    "print('mean_squared_log_error: ', round(mean_squared_log_error,4))\n",
    "print('r2: ', round(r2,4))\n",
    "print('MAE: ', round(mean_absolute_error,4))\n",
    "print('MSE: ', round(mse,4))\n",
    "print('RMSE: ', round(np.sqrt(mse),4))"
   ]
  },
  {
   "cell_type": "markdown",
   "id": "interior-income",
   "metadata": {},
   "source": [
    "### 3.6.2 ARIMA Model <a id='3.6.2_ARIMA_Model'></a>"
   ]
  },
  {
   "cell_type": "markdown",
   "id": "grand-fields",
   "metadata": {},
   "source": [
    "#### 3.6.2.1 Train the model on the train split<a id='3.6.2.1_Train_the_model_on_the_train_split'></a>"
   ]
  },
  {
   "cell_type": "code",
   "execution_count": 33,
   "id": "interesting-ivory",
   "metadata": {},
   "outputs": [
    {
     "data": {
      "text/plain": [
       "<AxesSubplot:xlabel='Week Ending'>"
      ]
     },
     "execution_count": 33,
     "metadata": {},
     "output_type": "execute_result"
    },
    {
     "data": {
      "image/png": "[encoded data removed]",
      "text/plain": [
       "<Figure size 432x288 with 1 Axes>"
      ]
     },
     "metadata": {
      "needs_background": "light"
     },
     "output_type": "display_data"
    }
   ],
   "source": [
    "from pandas import DataFrame\n",
    "from statsmodels.tsa.arima.model import ARIMA\n",
    "from random import random\n",
    "\n",
    "y1 = DataFrame (spotify_data.loc[spotify_data.Position==1,'Stream Count/Week'])\n",
    "\n",
    "y1.index = pd.DatetimeIndex(y1.index).to_period('W')\n",
    "y1['Stream Count/Week'] = y1['Stream Count/Week'].astype(int)\n",
    "\n",
    "y1.plot()"
   ]
  },
  {
   "cell_type": "code",
   "execution_count": 34,
   "id": "trained-sugar",
   "metadata": {},
   "outputs": [],
   "source": [
    "def find_mse(data, arima_order):\n",
    "    # Needs to be an integer because it is later used as an index.\n",
    "    split = int(len(data) * 0.8)\n",
    "    # Make train and test variables, with 'train, test'\n",
    "    train, test = data[0:split], data[split:len(data)]\n",
    "    past=[x for x in train]\n",
    "    # make predictions. Declare a variable with that name\n",
    "    predictions = list()\n",
    "    for i in range(len(test)):#timestep-wise comparison between test data and one-step prediction ARIMA model.\n",
    "        model = ARIMA(past, order=arima_order)\n",
    "        model_fit = model.fit(disp=0)\n",
    "        future = model_fit.forecast()[0]\n",
    "        predictions.append(future)\n",
    "        past.append(test[i])\n",
    "    # calculate out of sample error\n",
    "    error = mean_squared_error(test, predictions)\n",
    "    # Return the error\n",
    "    return error"
   ]
  },
  {
   "cell_type": "code",
   "execution_count": 35,
   "id": "composite-feature",
   "metadata": {},
   "outputs": [],
   "source": [
    "# Make a function to evaluate different ARIMA models with several different p, d, and q values.\n",
    "def evaluate_models(dataset, p_values, d_values, q_values):\n",
    "    best_score, best_cfg = float(\"inf\"), None\n",
    "    # Iterate through p_values\n",
    "    for p in p_values:\n",
    "        # Iterate through d_values\n",
    "        for d in d_values:\n",
    "            # Iterate through q_values\n",
    "            for q in q_values:\n",
    "                # p, d, q iterator variables in that order\n",
    "                order = (p,d,q)\n",
    "                try:\n",
    "                    # Make a variable called mse for the Mean squared error\n",
    "                    mse = evaluate_arima_model(dataset, order)\n",
    "                    if mse < best_score:\n",
    "                        best_score, best_cfg = mse, order\n",
    "                    print('ARIMA%s MSE=%.3f' % (order,mse))\n",
    "                except:\n",
    "                    continue\n",
    "    return print('Best ARIMA%s MSE=%.3f' % (best_cfg, best_score))"
   ]
  },
  {
   "cell_type": "code",
   "execution_count": 36,
   "id": "tutorial-luxury",
   "metadata": {},
   "outputs": [],
   "source": [
    "# Now, we choose a couple of values to try for each parameter.\n",
    "p_values = [x for x in range(0, 3)]\n",
    "d_values = [x for x in range(0, 3)]\n",
    "q_values = [x for x in range(0, 3)]"
   ]
  },
  {
   "cell_type": "code",
   "execution_count": 37,
   "id": "prompt-wesley",
   "metadata": {},
   "outputs": [
    {
     "name": "stdout",
     "output_type": "stream",
     "text": [
      "Best ARIMANone MSE=inf\n"
     ]
    }
   ],
   "source": [
    "# Finally, we can find the optimum ARIMA model for our data.\n",
    "# Nb. this can take a while...!\n",
    "import warnings\n",
    "warnings.filterwarnings(\"ignore\")\n",
    "evaluate_models(y1, p_values, d_values, q_values)"
   ]
  },
  {
   "cell_type": "markdown",
   "id": "experimental-baptist",
   "metadata": {},
   "source": [
    "#### 3.6.2.2 Make predictions using the model on both train and test splits<a id='3.6.1.2_Make_predictions_using_the_model_on_both_train_and_test_splits'></a>"
   ]
  },
  {
   "cell_type": "code",
   "execution_count": 38,
   "id": "velvet-optimization",
   "metadata": {},
   "outputs": [
    {
     "data": {
      "text/html": [
       "<table class=\"simpletable\">\n",
       "<caption>SARIMAX Results</caption>\n",
       "<tr>\n",
       "  <th>Dep. Variable:</th>   <td>Stream Count/Week</td> <th>  No. Observations:  </th>    <td>53</td>   \n",
       "</tr>\n",
       "<tr>\n",
       "  <th>Model:</th>            <td>ARIMA(1, 1, 1)</td>   <th>  Log Likelihood     </th> <td>-903.606</td>\n",
       "</tr>\n",
       "<tr>\n",
       "  <th>Date:</th>            <td>Wed, 07 Apr 2021</td>  <th>  AIC                </th> <td>1813.211</td>\n",
       "</tr>\n",
       "<tr>\n",
       "  <th>Time:</th>                <td>08:45:51</td>      <th>  BIC                </th> <td>1819.065</td>\n",
       "</tr>\n",
       "<tr>\n",
       "  <th>Sample:</th>             <td>03-15-2020</td>     <th>  HQIC               </th> <td>1815.456</td>\n",
       "</tr>\n",
       "<tr>\n",
       "  <th></th>                   <td>- 03-21-2021</td>    <th>                     </th>     <td> </td>   \n",
       "</tr>\n",
       "<tr>\n",
       "  <th>Covariance Type:</th>        <td>opg</td>        <th>                     </th>     <td> </td>   \n",
       "</tr>\n",
       "</table>\n",
       "<table class=\"simpletable\">\n",
       "<tr>\n",
       "     <td></td>       <th>coef</th>     <th>std err</th>      <th>z</th>      <th>P>|z|</th>  <th>[0.025</th>    <th>0.975]</th>  \n",
       "</tr>\n",
       "<tr>\n",
       "  <th>ar.L1</th>  <td>    0.5472</td> <td>    0.137</td> <td>    3.985</td> <td> 0.000</td> <td>    0.278</td> <td>    0.816</td>\n",
       "</tr>\n",
       "<tr>\n",
       "  <th>ma.L1</th>  <td>   -0.9416</td> <td>    0.105</td> <td>   -8.945</td> <td> 0.000</td> <td>   -1.148</td> <td>   -0.735</td>\n",
       "</tr>\n",
       "<tr>\n",
       "  <th>sigma2</th> <td> 8.007e+13</td> <td> 2.13e-15</td> <td> 3.75e+28</td> <td> 0.000</td> <td> 8.01e+13</td> <td> 8.01e+13</td>\n",
       "</tr>\n",
       "</table>\n",
       "<table class=\"simpletable\">\n",
       "<tr>\n",
       "  <th>Ljung-Box (L1) (Q):</th>     <td>0.10</td> <th>  Jarque-Bera (JB):  </th> <td>438.16</td>\n",
       "</tr>\n",
       "<tr>\n",
       "  <th>Prob(Q):</th>                <td>0.76</td> <th>  Prob(JB):          </th>  <td>0.00</td> \n",
       "</tr>\n",
       "<tr>\n",
       "  <th>Heteroskedasticity (H):</th> <td>4.50</td> <th>  Skew:              </th>  <td>2.91</td> \n",
       "</tr>\n",
       "<tr>\n",
       "  <th>Prob(H) (two-sided):</th>    <td>0.00</td> <th>  Kurtosis:          </th>  <td>15.97</td>\n",
       "</tr>\n",
       "</table><br/><br/>Warnings:<br/>[1] Covariance matrix calculated using the outer product of gradients (complex-step).<br/>[2] Covariance matrix is singular or near-singular, with condition number 5.04e+43. Standard errors may be unstable."
      ],
      "text/plain": [
       "<class 'statsmodels.iolib.summary.Summary'>\n",
       "\"\"\"\n",
       "                               SARIMAX Results                                \n",
       "==============================================================================\n",
       "Dep. Variable:      Stream Count/Week   No. Observations:                   53\n",
       "Model:                 ARIMA(1, 1, 1)   Log Likelihood                -903.606\n",
       "Date:                Wed, 07 Apr 2021   AIC                           1813.211\n",
       "Time:                        08:45:51   BIC                           1819.065\n",
       "Sample:                    03-15-2020   HQIC                          1815.456\n",
       "                         - 03-21-2021                                         \n",
       "Covariance Type:                  opg                                         \n",
       "==============================================================================\n",
       "                 coef    std err          z      P>|z|      [0.025      0.975]\n",
       "------------------------------------------------------------------------------\n",
       "ar.L1          0.5472      0.137      3.985      0.000       0.278       0.816\n",
       "ma.L1         -0.9416      0.105     -8.945      0.000      -1.148      -0.735\n",
       "sigma2      8.007e+13   2.13e-15   3.75e+28      0.000    8.01e+13    8.01e+13\n",
       "===================================================================================\n",
       "Ljung-Box (L1) (Q):                   0.10   Jarque-Bera (JB):               438.16\n",
       "Prob(Q):                              0.76   Prob(JB):                         0.00\n",
       "Heteroskedasticity (H):               4.50   Skew:                             2.91\n",
       "Prob(H) (two-sided):                  0.00   Kurtosis:                        15.97\n",
       "===================================================================================\n",
       "\n",
       "Warnings:\n",
       "[1] Covariance matrix calculated using the outer product of gradients (complex-step).\n",
       "[2] Covariance matrix is singular or near-singular, with condition number 5.04e+43. Standard errors may be unstable.\n",
       "\"\"\""
      ]
     },
     "execution_count": 38,
     "metadata": {},
     "output_type": "execute_result"
    }
   ],
   "source": [
    "p=1\n",
    "d=1\n",
    "q=1\n",
    "model = ARIMA(y1, order=(p,d,q))\n",
    "model_fit = model.fit()\n",
    "forecast = model_fit.forecast(24)\n",
    "model_fit.summary()"
   ]
  },
  {
   "cell_type": "code",
   "execution_count": 39,
   "id": "declared-simon",
   "metadata": {
    "scrolled": true
   },
   "outputs": [
    {
     "data": {
      "text/html": [
       "<table class=\"simpletable\">\n",
       "<caption>SARIMAX Results</caption>\n",
       "<tr>\n",
       "  <th>Dep. Variable:</th>   <td>Stream Count/Week</td> <th>  No. Observations:  </th>    <td>53</td>   \n",
       "</tr>\n",
       "<tr>\n",
       "  <th>Model:</th>            <td>ARIMA(1, 2, 1)</td>   <th>  Log Likelihood     </th> <td>-895.764</td>\n",
       "</tr>\n",
       "<tr>\n",
       "  <th>Date:</th>            <td>Wed, 07 Apr 2021</td>  <th>  AIC                </th> <td>1797.529</td>\n",
       "</tr>\n",
       "<tr>\n",
       "  <th>Time:</th>                <td>08:45:51</td>      <th>  BIC                </th> <td>1803.324</td>\n",
       "</tr>\n",
       "<tr>\n",
       "  <th>Sample:</th>             <td>03-15-2020</td>     <th>  HQIC               </th> <td>1799.743</td>\n",
       "</tr>\n",
       "<tr>\n",
       "  <th></th>                   <td>- 03-21-2021</td>    <th>                     </th>     <td> </td>   \n",
       "</tr>\n",
       "<tr>\n",
       "  <th>Covariance Type:</th>        <td>opg</td>        <th>                     </th>     <td> </td>   \n",
       "</tr>\n",
       "</table>\n",
       "<table class=\"simpletable\">\n",
       "<tr>\n",
       "     <td></td>       <th>coef</th>     <th>std err</th>      <th>z</th>      <th>P>|z|</th>  <th>[0.025</th>    <th>0.975]</th>  \n",
       "</tr>\n",
       "<tr>\n",
       "  <th>ar.L1</th>  <td>   -0.0829</td> <td>    0.167</td> <td>   -0.496</td> <td> 0.620</td> <td>   -0.410</td> <td>    0.245</td>\n",
       "</tr>\n",
       "<tr>\n",
       "  <th>ma.L1</th>  <td>   -0.9538</td> <td>    0.101</td> <td>   -9.429</td> <td> 0.000</td> <td>   -1.152</td> <td>   -0.756</td>\n",
       "</tr>\n",
       "<tr>\n",
       "  <th>sigma2</th> <td>  1.37e+14</td> <td> 5.88e-16</td> <td> 2.33e+29</td> <td> 0.000</td> <td> 1.37e+14</td> <td> 1.37e+14</td>\n",
       "</tr>\n",
       "</table>\n",
       "<table class=\"simpletable\">\n",
       "<tr>\n",
       "  <th>Ljung-Box (L1) (Q):</th>     <td>0.71</td> <th>  Jarque-Bera (JB):  </th> <td>523.19</td>\n",
       "</tr>\n",
       "<tr>\n",
       "  <th>Prob(Q):</th>                <td>0.40</td> <th>  Prob(JB):          </th>  <td>0.00</td> \n",
       "</tr>\n",
       "<tr>\n",
       "  <th>Heteroskedasticity (H):</th> <td>3.93</td> <th>  Skew:              </th>  <td>2.97</td> \n",
       "</tr>\n",
       "<tr>\n",
       "  <th>Prob(H) (two-sided):</th>    <td>0.01</td> <th>  Kurtosis:          </th>  <td>17.52</td>\n",
       "</tr>\n",
       "</table><br/><br/>Warnings:<br/>[1] Covariance matrix calculated using the outer product of gradients (complex-step).<br/>[2] Covariance matrix is singular or near-singular, with condition number 1.15e+45. Standard errors may be unstable."
      ],
      "text/plain": [
       "<class 'statsmodels.iolib.summary.Summary'>\n",
       "\"\"\"\n",
       "                               SARIMAX Results                                \n",
       "==============================================================================\n",
       "Dep. Variable:      Stream Count/Week   No. Observations:                   53\n",
       "Model:                 ARIMA(1, 2, 1)   Log Likelihood                -895.764\n",
       "Date:                Wed, 07 Apr 2021   AIC                           1797.529\n",
       "Time:                        08:45:51   BIC                           1803.324\n",
       "Sample:                    03-15-2020   HQIC                          1799.743\n",
       "                         - 03-21-2021                                         \n",
       "Covariance Type:                  opg                                         \n",
       "==============================================================================\n",
       "                 coef    std err          z      P>|z|      [0.025      0.975]\n",
       "------------------------------------------------------------------------------\n",
       "ar.L1         -0.0829      0.167     -0.496      0.620      -0.410       0.245\n",
       "ma.L1         -0.9538      0.101     -9.429      0.000      -1.152      -0.756\n",
       "sigma2       1.37e+14   5.88e-16   2.33e+29      0.000    1.37e+14    1.37e+14\n",
       "===================================================================================\n",
       "Ljung-Box (L1) (Q):                   0.71   Jarque-Bera (JB):               523.19\n",
       "Prob(Q):                              0.40   Prob(JB):                         0.00\n",
       "Heteroskedasticity (H):               3.93   Skew:                             2.97\n",
       "Prob(H) (two-sided):                  0.01   Kurtosis:                        17.52\n",
       "===================================================================================\n",
       "\n",
       "Warnings:\n",
       "[1] Covariance matrix calculated using the outer product of gradients (complex-step).\n",
       "[2] Covariance matrix is singular or near-singular, with condition number 1.15e+45. Standard errors may be unstable.\n",
       "\"\"\""
      ]
     },
     "execution_count": 39,
     "metadata": {},
     "output_type": "execute_result"
    }
   ],
   "source": [
    "p=1\n",
    "d=2\n",
    "q=1\n",
    "model = ARIMA(y1, order=(p,d,q))\n",
    "model_fit = model.fit()\n",
    "forecast = model_fit.forecast(24)\n",
    "model_fit.summary()"
   ]
  },
  {
   "cell_type": "code",
   "execution_count": 40,
   "id": "graduate-notification",
   "metadata": {},
   "outputs": [
    {
     "data": {
      "text/html": [
       "<table class=\"simpletable\">\n",
       "<caption>SARIMAX Results</caption>\n",
       "<tr>\n",
       "  <th>Dep. Variable:</th>   <td>Stream Count/Week</td> <th>  No. Observations:  </th>    <td>53</td>   \n",
       "</tr>\n",
       "<tr>\n",
       "  <th>Model:</th>            <td>ARIMA(1, 3, 1)</td>   <th>  Log Likelihood     </th> <td>-893.982</td>\n",
       "</tr>\n",
       "<tr>\n",
       "  <th>Date:</th>            <td>Wed, 07 Apr 2021</td>  <th>  AIC                </th> <td>1793.963</td>\n",
       "</tr>\n",
       "<tr>\n",
       "  <th>Time:</th>                <td>08:45:51</td>      <th>  BIC                </th> <td>1799.699</td>\n",
       "</tr>\n",
       "<tr>\n",
       "  <th>Sample:</th>             <td>03-15-2020</td>     <th>  HQIC               </th> <td>1796.148</td>\n",
       "</tr>\n",
       "<tr>\n",
       "  <th></th>                   <td>- 03-21-2021</td>    <th>                     </th>     <td> </td>   \n",
       "</tr>\n",
       "<tr>\n",
       "  <th>Covariance Type:</th>        <td>opg</td>        <th>                     </th>     <td> </td>   \n",
       "</tr>\n",
       "</table>\n",
       "<table class=\"simpletable\">\n",
       "<tr>\n",
       "     <td></td>       <th>coef</th>     <th>std err</th>      <th>z</th>      <th>P>|z|</th>  <th>[0.025</th>    <th>0.975]</th>  \n",
       "</tr>\n",
       "<tr>\n",
       "  <th>ar.L1</th>  <td>   -0.4750</td> <td>    0.105</td> <td>   -4.533</td> <td> 0.000</td> <td>   -0.680</td> <td>   -0.270</td>\n",
       "</tr>\n",
       "<tr>\n",
       "  <th>ma.L1</th>  <td>   -0.9743</td> <td>    0.157</td> <td>   -6.202</td> <td> 0.000</td> <td>   -1.282</td> <td>   -0.666</td>\n",
       "</tr>\n",
       "<tr>\n",
       "  <th>sigma2</th> <td> 2.915e+14</td> <td> 2.28e-16</td> <td> 1.28e+30</td> <td> 0.000</td> <td> 2.92e+14</td> <td> 2.92e+14</td>\n",
       "</tr>\n",
       "</table>\n",
       "<table class=\"simpletable\">\n",
       "<tr>\n",
       "  <th>Ljung-Box (L1) (Q):</th>     <td>4.32</td>  <th>  Jarque-Bera (JB):  </th> <td>186.54</td>\n",
       "</tr>\n",
       "<tr>\n",
       "  <th>Prob(Q):</th>                <td>0.04</td>  <th>  Prob(JB):          </th>  <td>0.00</td> \n",
       "</tr>\n",
       "<tr>\n",
       "  <th>Heteroskedasticity (H):</th> <td>13.78</td> <th>  Skew:              </th>  <td>1.12</td> \n",
       "</tr>\n",
       "<tr>\n",
       "  <th>Prob(H) (two-sided):</th>    <td>0.00</td>  <th>  Kurtosis:          </th>  <td>12.19</td>\n",
       "</tr>\n",
       "</table><br/><br/>Warnings:<br/>[1] Covariance matrix calculated using the outer product of gradients (complex-step).<br/>[2] Covariance matrix is singular or near-singular, with condition number 3.32e+46. Standard errors may be unstable."
      ],
      "text/plain": [
       "<class 'statsmodels.iolib.summary.Summary'>\n",
       "\"\"\"\n",
       "                               SARIMAX Results                                \n",
       "==============================================================================\n",
       "Dep. Variable:      Stream Count/Week   No. Observations:                   53\n",
       "Model:                 ARIMA(1, 3, 1)   Log Likelihood                -893.982\n",
       "Date:                Wed, 07 Apr 2021   AIC                           1793.963\n",
       "Time:                        08:45:51   BIC                           1799.699\n",
       "Sample:                    03-15-2020   HQIC                          1796.148\n",
       "                         - 03-21-2021                                         \n",
       "Covariance Type:                  opg                                         \n",
       "==============================================================================\n",
       "                 coef    std err          z      P>|z|      [0.025      0.975]\n",
       "------------------------------------------------------------------------------\n",
       "ar.L1         -0.4750      0.105     -4.533      0.000      -0.680      -0.270\n",
       "ma.L1         -0.9743      0.157     -6.202      0.000      -1.282      -0.666\n",
       "sigma2      2.915e+14   2.28e-16   1.28e+30      0.000    2.92e+14    2.92e+14\n",
       "===================================================================================\n",
       "Ljung-Box (L1) (Q):                   4.32   Jarque-Bera (JB):               186.54\n",
       "Prob(Q):                              0.04   Prob(JB):                         0.00\n",
       "Heteroskedasticity (H):              13.78   Skew:                             1.12\n",
       "Prob(H) (two-sided):                  0.00   Kurtosis:                        12.19\n",
       "===================================================================================\n",
       "\n",
       "Warnings:\n",
       "[1] Covariance matrix calculated using the outer product of gradients (complex-step).\n",
       "[2] Covariance matrix is singular or near-singular, with condition number 3.32e+46. Standard errors may be unstable.\n",
       "\"\"\""
      ]
     },
     "execution_count": 40,
     "metadata": {},
     "output_type": "execute_result"
    }
   ],
   "source": [
    "p=1\n",
    "d=3\n",
    "q=1\n",
    "model = ARIMA(y1, order=(p,d,q))\n",
    "model_fit = model.fit()\n",
    "forecast = model_fit.forecast(24)\n",
    "model_fit.summary()"
   ]
  },
  {
   "cell_type": "markdown",
   "id": "novel-belle",
   "metadata": {},
   "source": [
    "#### 3.6.1.3 Assess model performance<a id='3.6.1.3_Assess_model_performance'></a>"
   ]
  },
  {
   "cell_type": "code",
   "execution_count": 41,
   "id": "republican-assist",
   "metadata": {},
   "outputs": [],
   "source": [
    "# Make a function to evaluate different ARIMA models with several different p, d, and q values.\n",
    "def evaluate_models(y1, p_values, d_values, q_values):\n",
    "    best_score, best_y1 = float(\"inf\"), None\n",
    "    # Iterate through p_values\n",
    "    for p in p_values:\n",
    "        # Iterate through d_values\n",
    "        for d in d_values:\n",
    "            # Iterate through q_values\n",
    "            for q in q_values:\n",
    "                # p, d, q iterator variables in that order\n",
    "                order = (p,d,q)\n",
    "                try:\n",
    "                    # Make a variable called mse for the Mean squared error\n",
    "                    mse = evaluate_arima_model(dataset, order)\n",
    "                    if mse < best_score:\n",
    "                        best_score, best_y1 = mse, order\n",
    "                    print('ARIMA%s MSE=%.3f' % (order,mse))\n",
    "                except:\n",
    "                    continue\n",
    "    return print('Best ARIMA%s MSE=%.3f' % (best_y1, best_score))"
   ]
  },
  {
   "cell_type": "code",
   "execution_count": 42,
   "id": "neural-navigation",
   "metadata": {},
   "outputs": [],
   "source": [
    "# Now, we choose a couple of values to try for each parameter.\n",
    "p_values = [x for x in range(0, 3)]\n",
    "d_values = [x for x in range(0, 3)]\n",
    "q_values = [x for x in range(0, 3)]"
   ]
  },
  {
   "cell_type": "code",
   "execution_count": 43,
   "id": "distinct-chinese",
   "metadata": {},
   "outputs": [
    {
     "name": "stdout",
     "output_type": "stream",
     "text": [
      "Best ARIMANone MSE=inf\n"
     ]
    }
   ],
   "source": [
    "# Finally, we can find the optimum ARIMA model for our data.\n",
    "# Nb. this can take a while...!\n",
    "import warnings\n",
    "warnings.filterwarnings(\"ignore\")\n",
    "evaluate_models(y1, p_values, d_values, q_values)"
   ]
  },
  {
   "cell_type": "code",
   "execution_count": 44,
   "id": "linear-tooth",
   "metadata": {},
   "outputs": [
    {
     "name": "stdout",
     "output_type": "stream",
     "text": [
      "2021-03-15/2021-03-21    3.644251e+07\n",
      "Freq: W-SUN, dtype: float64\n"
     ]
    }
   ],
   "source": [
    "# fit model\n",
    "model = ARIMA(y1, order=(1, 1, 1))\n",
    "model_fit = model.fit()\n",
    "# make prediction\n",
    "yhat = model_fit.predict(len(y1), len(y1), typ='levels')\n",
    "print(yhat)\n",
    "\n"
   ]
  },
  {
   "cell_type": "code",
   "execution_count": null,
   "id": "turned-daisy",
   "metadata": {},
   "outputs": [],
   "source": []
  }
 ],
 "metadata": {
  "kernelspec": {
   "display_name": "Python 3",
   "language": "python",
   "name": "python3"
  },
  "language_info": {
   "codemirror_mode": {
    "name": "ipython",
    "version": 3
   },
   "file_extension": ".py",
   "mimetype": "text/x-python",
   "name": "python",
   "nbconvert_exporter": "python",
   "pygments_lexer": "ipython3",
   "version": "3.7.10"
  }
 },
 "nbformat": 4,
 "nbformat_minor": 5
}
