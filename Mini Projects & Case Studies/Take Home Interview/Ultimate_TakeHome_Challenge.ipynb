{
 "cells": [
  {
   "cell_type": "code",
   "execution_count": 1,
   "id": "human-affairs",
   "metadata": {},
   "outputs": [],
   "source": [
    "import warnings\n",
    "warnings.filterwarnings(\"ignore\")\n",
    "import pandas as pd \n",
    "import numpy as np\n",
    "import matplotlib.pyplot as plt\n",
    "import seaborn as sns"
   ]
  },
  {
   "cell_type": "markdown",
   "id": "unique-receipt",
   "metadata": {},
   "source": [
    "## Part 1: Exploratory Data Analysis\n",
    "The attached logins.json file contains (simulated) timestamps of user logins in a particular geographic location. Aggregate these login counts based on 15minute time intervals, and visualize and describe the resulting time series of login counts in ways that best characterize the underlying patterns of the demand. Please report/illustrate important features of the demand, such as daily cycles. If there are data quality issues, please report them."
   ]
  },
  {
   "cell_type": "code",
   "execution_count": 2,
   "id": "robust-calcium",
   "metadata": {},
   "outputs": [
    {
     "data": {
      "text/html": [
       "<div>\n",
       "<style scoped>\n",
       "    .dataframe tbody tr th:only-of-type {\n",
       "        vertical-align: middle;\n",
       "    }\n",
       "\n",
       "    .dataframe tbody tr th {\n",
       "        vertical-align: top;\n",
       "    }\n",
       "\n",
       "    .dataframe thead th {\n",
       "        text-align: right;\n",
       "    }\n",
       "</style>\n",
       "<table border=\"1\" class=\"dataframe\">\n",
       "  <thead>\n",
       "    <tr style=\"text-align: right;\">\n",
       "      <th></th>\n",
       "      <th>login_time</th>\n",
       "    </tr>\n",
       "  </thead>\n",
       "  <tbody>\n",
       "    <tr>\n",
       "      <th>0</th>\n",
       "      <td>1970-01-01 20:13:18</td>\n",
       "    </tr>\n",
       "    <tr>\n",
       "      <th>1</th>\n",
       "      <td>1970-01-01 20:16:10</td>\n",
       "    </tr>\n",
       "    <tr>\n",
       "      <th>2</th>\n",
       "      <td>1970-01-01 20:16:37</td>\n",
       "    </tr>\n",
       "    <tr>\n",
       "      <th>3</th>\n",
       "      <td>1970-01-01 20:16:36</td>\n",
       "    </tr>\n",
       "    <tr>\n",
       "      <th>4</th>\n",
       "      <td>1970-01-01 20:26:21</td>\n",
       "    </tr>\n",
       "  </tbody>\n",
       "</table>\n",
       "</div>"
      ],
      "text/plain": [
       "           login_time\n",
       "0 1970-01-01 20:13:18\n",
       "1 1970-01-01 20:16:10\n",
       "2 1970-01-01 20:16:37\n",
       "3 1970-01-01 20:16:36\n",
       "4 1970-01-01 20:26:21"
      ]
     },
     "execution_count": 2,
     "metadata": {},
     "output_type": "execute_result"
    }
   ],
   "source": [
    "df_login = pd.read_json(r'C:\\Users\\ashle\\Documents\\Springboard\\Take Home Challenge\\logins.json')\n",
    "df_login.head()"
   ]
  },
  {
   "cell_type": "code",
   "execution_count": 3,
   "id": "atomic-newfoundland",
   "metadata": {},
   "outputs": [
    {
     "data": {
      "text/plain": [
       "(93142, 1)"
      ]
     },
     "execution_count": 3,
     "metadata": {},
     "output_type": "execute_result"
    }
   ],
   "source": [
    "df_login.shape"
   ]
  },
  {
   "cell_type": "code",
   "execution_count": 4,
   "id": "russian-reducing",
   "metadata": {},
   "outputs": [],
   "source": [
    "df_login['denote']=1"
   ]
  },
  {
   "cell_type": "code",
   "execution_count": 5,
   "id": "nearby-captain",
   "metadata": {},
   "outputs": [
    {
     "data": {
      "text/html": [
       "<div>\n",
       "<style scoped>\n",
       "    .dataframe tbody tr th:only-of-type {\n",
       "        vertical-align: middle;\n",
       "    }\n",
       "\n",
       "    .dataframe tbody tr th {\n",
       "        vertical-align: top;\n",
       "    }\n",
       "\n",
       "    .dataframe thead th {\n",
       "        text-align: right;\n",
       "    }\n",
       "</style>\n",
       "<table border=\"1\" class=\"dataframe\">\n",
       "  <thead>\n",
       "    <tr style=\"text-align: right;\">\n",
       "      <th></th>\n",
       "      <th>login_time</th>\n",
       "      <th>denote</th>\n",
       "    </tr>\n",
       "  </thead>\n",
       "  <tbody>\n",
       "    <tr>\n",
       "      <th>0</th>\n",
       "      <td>1970-01-01 20:13:18</td>\n",
       "      <td>1</td>\n",
       "    </tr>\n",
       "    <tr>\n",
       "      <th>1</th>\n",
       "      <td>1970-01-01 20:16:10</td>\n",
       "      <td>1</td>\n",
       "    </tr>\n",
       "    <tr>\n",
       "      <th>2</th>\n",
       "      <td>1970-01-01 20:16:37</td>\n",
       "      <td>1</td>\n",
       "    </tr>\n",
       "    <tr>\n",
       "      <th>3</th>\n",
       "      <td>1970-01-01 20:16:36</td>\n",
       "      <td>1</td>\n",
       "    </tr>\n",
       "    <tr>\n",
       "      <th>4</th>\n",
       "      <td>1970-01-01 20:26:21</td>\n",
       "      <td>1</td>\n",
       "    </tr>\n",
       "    <tr>\n",
       "      <th>...</th>\n",
       "      <td>...</td>\n",
       "      <td>...</td>\n",
       "    </tr>\n",
       "    <tr>\n",
       "      <th>93137</th>\n",
       "      <td>1970-04-13 18:50:19</td>\n",
       "      <td>1</td>\n",
       "    </tr>\n",
       "    <tr>\n",
       "      <th>93138</th>\n",
       "      <td>1970-04-13 18:43:56</td>\n",
       "      <td>1</td>\n",
       "    </tr>\n",
       "    <tr>\n",
       "      <th>93139</th>\n",
       "      <td>1970-04-13 18:54:02</td>\n",
       "      <td>1</td>\n",
       "    </tr>\n",
       "    <tr>\n",
       "      <th>93140</th>\n",
       "      <td>1970-04-13 18:57:38</td>\n",
       "      <td>1</td>\n",
       "    </tr>\n",
       "    <tr>\n",
       "      <th>93141</th>\n",
       "      <td>1970-04-13 18:54:23</td>\n",
       "      <td>1</td>\n",
       "    </tr>\n",
       "  </tbody>\n",
       "</table>\n",
       "<p>93142 rows × 2 columns</p>\n",
       "</div>"
      ],
      "text/plain": [
       "               login_time  denote\n",
       "0     1970-01-01 20:13:18       1\n",
       "1     1970-01-01 20:16:10       1\n",
       "2     1970-01-01 20:16:37       1\n",
       "3     1970-01-01 20:16:36       1\n",
       "4     1970-01-01 20:26:21       1\n",
       "...                   ...     ...\n",
       "93137 1970-04-13 18:50:19       1\n",
       "93138 1970-04-13 18:43:56       1\n",
       "93139 1970-04-13 18:54:02       1\n",
       "93140 1970-04-13 18:57:38       1\n",
       "93141 1970-04-13 18:54:23       1\n",
       "\n",
       "[93142 rows x 2 columns]"
      ]
     },
     "execution_count": 5,
     "metadata": {},
     "output_type": "execute_result"
    }
   ],
   "source": [
    "df_login"
   ]
  },
  {
   "cell_type": "code",
   "execution_count": 6,
   "id": "tight-tattoo",
   "metadata": {},
   "outputs": [
    {
     "data": {
      "text/plain": [
       "login_time    datetime64[ns]\n",
       "denote                 int64\n",
       "dtype: object"
      ]
     },
     "execution_count": 6,
     "metadata": {},
     "output_type": "execute_result"
    }
   ],
   "source": [
    "# check the data type of each columns \n",
    "df_login.dtypes"
   ]
  },
  {
   "cell_type": "code",
   "execution_count": 7,
   "id": "about-opening",
   "metadata": {},
   "outputs": [
    {
     "data": {
      "text/plain": [
       "login_time\n",
       "1970-03-01 04:30:00    73\n",
       "1970-04-04 05:30:00    66\n",
       "1970-04-04 01:30:00    64\n",
       "1970-04-04 01:15:00    63\n",
       "1970-04-01 23:30:00    60\n",
       "1970-04-04 05:00:00    60\n",
       "1970-04-04 04:45:00    59\n",
       "1970-04-04 05:15:00    59\n",
       "1970-04-04 01:45:00    56\n",
       "1970-03-13 22:15:00    55\n",
       "1970-04-04 01:00:00    54\n",
       "1970-04-04 00:30:00    53\n",
       "1970-03-17 01:30:00    53\n",
       "1970-03-29 04:45:00    52\n",
       "1970-03-08 04:45:00    51\n",
       "1970-03-28 04:30:00    50\n",
       "1970-02-15 04:45:00    50\n",
       "1970-04-03 22:45:00    50\n",
       "1970-03-29 02:15:00    50\n",
       "1970-04-04 00:45:00    50\n",
       "1970-03-01 04:45:00    48\n",
       "1970-04-03 23:15:00    47\n",
       "1970-03-08 05:00:00    47\n",
       "1970-04-04 03:00:00    47\n",
       "1970-03-07 03:00:00    47\n",
       "1970-03-22 01:30:00    46\n",
       "1970-02-08 03:15:00    46\n",
       "1970-02-07 04:30:00    46\n",
       "1970-03-07 04:45:00    46\n",
       "1970-03-22 04:00:00    46\n",
       "Name: denote, dtype: int64"
      ]
     },
     "execution_count": 7,
     "metadata": {},
     "output_type": "execute_result"
    }
   ],
   "source": [
    "#  Aggregate these login counts based on 15minute time intervals\n",
    "login_seq = df_login.resample('15T',on='login_time').denote.sum().sort_values(ascending=False)\n",
    "login_seq.head(30)"
   ]
  },
  {
   "cell_type": "markdown",
   "id": "modular-recycling",
   "metadata": {},
   "source": [
    "#### Finding: From above result, we understand that the most frequent login 15 mins could reach to 73\n",
    "    \n"
   ]
  },
  {
   "cell_type": "code",
   "execution_count": 8,
   "id": "facial-samoa",
   "metadata": {},
   "outputs": [
    {
     "data": {
      "text/plain": [
       "<AxesSubplot:xlabel='login_time'>"
      ]
     },
     "execution_count": 8,
     "metadata": {},
     "output_type": "execute_result"
    },
    {
     "data": {
      "image/png": "[encoded data removed]",
      "text/plain": [
       "<Figure size 1080x1080 with 1 Axes>"
      ]
     },
     "metadata": {
      "needs_background": "light"
     },
     "output_type": "display_data"
    }
   ],
   "source": [
    "login_seq.plot(figsize=(15,15))"
   ]
  },
  {
   "cell_type": "code",
   "execution_count": 9,
   "id": "radical-paraguay",
   "metadata": {},
   "outputs": [],
   "source": [
    "df_login['hour'] = df_login['login_time'].dt.hour"
   ]
  },
  {
   "cell_type": "code",
   "execution_count": 10,
   "id": "adopted-starter",
   "metadata": {},
   "outputs": [
    {
     "data": {
      "text/plain": [
       "<AxesSubplot:xlabel='hour', ylabel='denote'>"
      ]
     },
     "execution_count": 10,
     "metadata": {},
     "output_type": "execute_result"
    },
    {
     "data": {
      "image/png": "[encoded data removed]",
      "text/plain": [
       "<Figure size 1440x1440 with 1 Axes>"
      ]
     },
     "metadata": {
      "needs_background": "light"
     },
     "output_type": "display_data"
    }
   ],
   "source": [
    "# group by the login hours of a day\n",
    "df_hour = df_login[['denote', 'hour']]\n",
    "df_hour = df_hour.groupby('hour').sum().reset_index()\n",
    "\n",
    "#barplot of logins by hour \n",
    "plt.figure(figsize=(20,20))\n",
    "sns.barplot(x='hour', y='denote', data=df_hour)"
   ]
  },
  {
   "cell_type": "markdown",
   "id": "artificial-cover",
   "metadata": {},
   "source": [
    "#### Finding: There are two peaks within a day. One is around midnight and another peak is at 11am， therefore, there are two busy periods for the company in one day."
   ]
  },
  {
   "cell_type": "markdown",
   "id": "material-enclosure",
   "metadata": {},
   "source": [
    "## Part 2 ‑ Experiment and metrics design\n",
    "\n",
    "The neighboring cities of Gotham and Metropolis have complementary circadian rhythms: on weekdays, Ultimate Gotham is most active at night, and Ultimate Metropolis is most active during the day. On weekends, there is reasonable activity in both cities. \n",
    "\n",
    "However, a toll bridge, with a two­way toll, between the two cities causes driver partners to tend to be exclusive to each city. The Ultimate managers of city operations for the two cities have proposed an experiment to encourage driver partners to be available in both cities, by reimbursing all toll costs.\n",
    "\n",
    "\n",
    "What would you choose as the key measure of success of this experiment in encouraging driver partners to serve both cities, and why would you choose this metric?\n",
    "\n",
    "A: Rider retention.  By encouraging rides across bridges, this should increase the amount of rides per driver, the distance of travel, and the number of repeat riders.  By measuring the rider retnetion, it should indicate if the change in policy makes more driver availability and improve the experience for riders to attract more revenue.\n",
    "\n",
    "Describe a practical experiment you would design to compare the effectiveness of the proposed change in relation to the key measure of success. Please provide details on:\n",
    "\n",
    "a. how you will implement the experiment\n",
    "\n",
    "Conduct the A/B test for two groups for the drivers. One group of drivers would receive benefits of reimbursing all toll costs. Another group would not receive the benefits.\n",
    "\n",
    "Hypothesis\n",
    "Null hypothesis: There is no difference about rider retention between two groups\n",
    "Alternate hypothesis: There is an increase in rider retention for the group that receives toll benefits\n",
    "\n",
    "b. what statistical test(s) you will conduct to verify the significance of the observation Answer: T-test / Z-test\n",
    "\n",
    "c. how you would interpret the results and provide recommendations to the city operations team along with any caveats.\n",
    "\n",
    "If the ride frequency per driver has been increased, then it is worthwhile to apply reimbursement policy between two cities travelling."
   ]
  },
  {
   "cell_type": "markdown",
   "id": "dying-experiment",
   "metadata": {},
   "source": [
    "## Part 3 ‑ Experiment and metrics design\n",
    "\n",
    "Ultimate is interested in predicting rider retention. To help explore this question, we have provided a sample dataset of a cohort of users who signed up for an Ultimate account in January 2014. The data was pulled several months later; we consider a user retained if they were “active” (i.e. took a trip) in the preceding 30 days.\n",
    "\n",
    "Users Sample dataset\n",
    "It is a sample dataset of a cohort of users who signed up for an Ultimate account in January 2014. The data was pulled several months later; we consider a user retained if they were “active” (i.e. took a trip) in the preceding 30 days.\n",
    "\n",
    "Data description\n",
    "\n",
    "city: city this user signed up in\n",
    "phone: primary device for this user\n",
    "signup_date: date of account registration; in the form ‘YYYY MM DD’\n",
    "last_trip_date: the last time this user completed a trip; in the form ‘YYYY MM DD’\n",
    "avg_dist: the average distance in miles per trip taken in the first 30 days after signup\n",
    "avg_rating_by_driver: the rider’s average rating over all of their trips\n",
    "avg_rating_of_driver: the rider’s average rating of their drivers over all of their trips\n",
    "surge_pct: the percent of trips taken with surge multiplier > 1\n",
    "avg_surge: The average surge multiplier over all of this user’s trips\n",
    "trips_in_first_30_days: the number of trips this user took in the first 30 days after signing up\n",
    "ultimate_black_user: TRUE if the user took an Ultimate Black in their first 30 days; FALSE otherwise\n",
    "weekday_pct: the percent of the user’s trips occurring during a weekday\n",
    "\n",
    "### Import the data set"
   ]
  },
  {
   "cell_type": "code",
   "execution_count": 11,
   "id": "unknown-founder",
   "metadata": {},
   "outputs": [
    {
     "data": {
      "text/html": [
       "<div>\n",
       "<style scoped>\n",
       "    .dataframe tbody tr th:only-of-type {\n",
       "        vertical-align: middle;\n",
       "    }\n",
       "\n",
       "    .dataframe tbody tr th {\n",
       "        vertical-align: top;\n",
       "    }\n",
       "\n",
       "    .dataframe thead th {\n",
       "        text-align: right;\n",
       "    }\n",
       "</style>\n",
       "<table border=\"1\" class=\"dataframe\">\n",
       "  <thead>\n",
       "    <tr style=\"text-align: right;\">\n",
       "      <th></th>\n",
       "      <th>city</th>\n",
       "      <th>trips_in_first_30_days</th>\n",
       "      <th>signup_date</th>\n",
       "      <th>avg_rating_of_driver</th>\n",
       "      <th>avg_surge</th>\n",
       "      <th>last_trip_date</th>\n",
       "      <th>phone</th>\n",
       "      <th>surge_pct</th>\n",
       "      <th>ultimate_black_user</th>\n",
       "      <th>weekday_pct</th>\n",
       "      <th>avg_dist</th>\n",
       "      <th>avg_rating_by_driver</th>\n",
       "    </tr>\n",
       "  </thead>\n",
       "  <tbody>\n",
       "    <tr>\n",
       "      <th>0</th>\n",
       "      <td>King's Landing</td>\n",
       "      <td>4</td>\n",
       "      <td>2014-01-25</td>\n",
       "      <td>4.7</td>\n",
       "      <td>1.10</td>\n",
       "      <td>2014-06-17</td>\n",
       "      <td>iPhone</td>\n",
       "      <td>15.4</td>\n",
       "      <td>True</td>\n",
       "      <td>46.2</td>\n",
       "      <td>3.67</td>\n",
       "      <td>5.0</td>\n",
       "    </tr>\n",
       "    <tr>\n",
       "      <th>1</th>\n",
       "      <td>Astapor</td>\n",
       "      <td>0</td>\n",
       "      <td>2014-01-29</td>\n",
       "      <td>5.0</td>\n",
       "      <td>1.00</td>\n",
       "      <td>2014-05-05</td>\n",
       "      <td>Android</td>\n",
       "      <td>0.0</td>\n",
       "      <td>False</td>\n",
       "      <td>50.0</td>\n",
       "      <td>8.26</td>\n",
       "      <td>5.0</td>\n",
       "    </tr>\n",
       "    <tr>\n",
       "      <th>2</th>\n",
       "      <td>Astapor</td>\n",
       "      <td>3</td>\n",
       "      <td>2014-01-06</td>\n",
       "      <td>4.3</td>\n",
       "      <td>1.00</td>\n",
       "      <td>2014-01-07</td>\n",
       "      <td>iPhone</td>\n",
       "      <td>0.0</td>\n",
       "      <td>False</td>\n",
       "      <td>100.0</td>\n",
       "      <td>0.77</td>\n",
       "      <td>5.0</td>\n",
       "    </tr>\n",
       "    <tr>\n",
       "      <th>3</th>\n",
       "      <td>King's Landing</td>\n",
       "      <td>9</td>\n",
       "      <td>2014-01-10</td>\n",
       "      <td>4.6</td>\n",
       "      <td>1.14</td>\n",
       "      <td>2014-06-29</td>\n",
       "      <td>iPhone</td>\n",
       "      <td>20.0</td>\n",
       "      <td>True</td>\n",
       "      <td>80.0</td>\n",
       "      <td>2.36</td>\n",
       "      <td>4.9</td>\n",
       "    </tr>\n",
       "    <tr>\n",
       "      <th>4</th>\n",
       "      <td>Winterfell</td>\n",
       "      <td>14</td>\n",
       "      <td>2014-01-27</td>\n",
       "      <td>4.4</td>\n",
       "      <td>1.19</td>\n",
       "      <td>2014-03-15</td>\n",
       "      <td>Android</td>\n",
       "      <td>11.8</td>\n",
       "      <td>False</td>\n",
       "      <td>82.4</td>\n",
       "      <td>3.13</td>\n",
       "      <td>4.9</td>\n",
       "    </tr>\n",
       "  </tbody>\n",
       "</table>\n",
       "</div>"
      ],
      "text/plain": [
       "             city  trips_in_first_30_days signup_date  avg_rating_of_driver  \\\n",
       "0  King's Landing                       4  2014-01-25                   4.7   \n",
       "1         Astapor                       0  2014-01-29                   5.0   \n",
       "2         Astapor                       3  2014-01-06                   4.3   \n",
       "3  King's Landing                       9  2014-01-10                   4.6   \n",
       "4      Winterfell                      14  2014-01-27                   4.4   \n",
       "\n",
       "   avg_surge last_trip_date    phone  surge_pct  ultimate_black_user  \\\n",
       "0       1.10     2014-06-17   iPhone       15.4                 True   \n",
       "1       1.00     2014-05-05  Android        0.0                False   \n",
       "2       1.00     2014-01-07   iPhone        0.0                False   \n",
       "3       1.14     2014-06-29   iPhone       20.0                 True   \n",
       "4       1.19     2014-03-15  Android       11.8                False   \n",
       "\n",
       "   weekday_pct  avg_dist  avg_rating_by_driver  \n",
       "0         46.2      3.67                   5.0  \n",
       "1         50.0      8.26                   5.0  \n",
       "2        100.0      0.77                   5.0  \n",
       "3         80.0      2.36                   4.9  \n",
       "4         82.4      3.13                   4.9  "
      ]
     },
     "execution_count": 11,
     "metadata": {},
     "output_type": "execute_result"
    }
   ],
   "source": [
    "df = pd.read_json(r'C:\\Users\\ashle\\Documents\\Springboard\\Take Home Challenge\\ultimate_data_challenge.json')\n",
    "df.head()"
   ]
  },
  {
   "cell_type": "code",
   "execution_count": 12,
   "id": "insured-crisis",
   "metadata": {},
   "outputs": [
    {
     "data": {
      "text/plain": [
       "0    25526\n",
       "1    15919\n",
       "Name: ultimate_black_user, dtype: int64"
      ]
     },
     "execution_count": 12,
     "metadata": {},
     "output_type": "execute_result"
    }
   ],
   "source": [
    "# drop the rows with missing value\n",
    "df = df.dropna(axis=0)\n",
    "\n",
    "# create dummy variables\n",
    "city_columns = pd.get_dummies(df['city'],prefix='city')\n",
    "df = pd.concat([df,city_columns], axis=1)\n",
    "df= df.drop('city',axis=1)\n",
    "\n",
    "phone_columns = pd.get_dummies(df['phone'],prefix='phone')\n",
    "df = pd.concat([df, phone_columns], axis=1)\n",
    "df = df.drop('phone',axis =1)\n",
    "\n",
    "df['ultimate_black_user'] = [1 if x[1]==True else 0 for x in df['ultimate_black_user'].iteritems()]\n",
    "df['ultimate_black_user'].value_counts()"
   ]
  },
  {
   "cell_type": "code",
   "execution_count": 13,
   "id": "previous-thanks",
   "metadata": {},
   "outputs": [
    {
     "data": {
      "text/plain": [
       "dtype('O')"
      ]
     },
     "execution_count": 13,
     "metadata": {},
     "output_type": "execute_result"
    }
   ],
   "source": [
    "# check the data type of 'signup_date' and understand it is string format in the dataset \n",
    "df['signup_date'].dtypes"
   ]
  },
  {
   "cell_type": "code",
   "execution_count": 14,
   "id": "fallen-treatment",
   "metadata": {},
   "outputs": [
    {
     "data": {
      "text/plain": [
       "'2014-07-01'"
      ]
     },
     "execution_count": 14,
     "metadata": {},
     "output_type": "execute_result"
    }
   ],
   "source": [
    "# Convert signup_date column to be an integer of seconds since the first user signed up \n",
    "df['signup_date'] = pd.to_datetime(df['signup_date'])\n",
    "df['signup_date'] = (df['signup_date'] - min(df['signup_date'])).dt.total_seconds()\n",
    "\n",
    "# Get the lastest date of the 'last_trip_date'. \n",
    "df['last_trip_date'].max()"
   ]
  },
  {
   "cell_type": "code",
   "execution_count": 15,
   "id": "digital-affair",
   "metadata": {},
   "outputs": [
    {
     "data": {
      "text/plain": [
       "0    24410\n",
       "1    17035\n",
       "Name: retained, dtype: int64"
      ]
     },
     "execution_count": 15,
     "metadata": {},
     "output_type": "execute_result"
    }
   ],
   "source": [
    "# make retained column\n",
    "# Rider is retained if they have ridden in the last month, which means they should drive at least one time after '2014-06-01'\n",
    "\n",
    "df['retained'] = np.where(df['last_trip_date']>='2014-06-01', 1,0)\n",
    "\n",
    "df['retained'].value_counts()"
   ]
  },
  {
   "cell_type": "markdown",
   "id": "little-bermuda",
   "metadata": {},
   "source": [
    "### Model the data set"
   ]
  },
  {
   "cell_type": "code",
   "execution_count": 16,
   "id": "automotive-barrier",
   "metadata": {},
   "outputs": [],
   "source": [
    "import matplotlib.pyplot as plt \n",
    "from sklearn import __version__ as sklearn_version\n",
    "from sklearn.decomposition import PCA\n",
    "from sklearn.preprocessing import scale \n",
    "from sklearn.model_selection import train_test_split, cross_validate, GridSearchCV, learning_curve\n",
    "from sklearn.preprocessing import StandardScaler, MinMaxScaler \n",
    "from sklearn.dummy import DummyRegressor\n",
    "from sklearn.linear_model import LinearRegression\n",
    "from sklearn.ensemble import RandomForestRegressor\n",
    "import sklearn.metrics \n",
    "from sklearn.pipeline import make_pipeline\n",
    "from sklearn.impute import SimpleImputer\n",
    "from sklearn.feature_selection import SelectKBest, f_regression\n",
    "import datetime"
   ]
  },
  {
   "cell_type": "code",
   "execution_count": 17,
   "id": "national-scene",
   "metadata": {},
   "outputs": [
    {
     "data": {
      "text/plain": [
       "((12434, 14), (12434, 1))"
      ]
     },
     "execution_count": 17,
     "metadata": {},
     "output_type": "execute_result"
    }
   ],
   "source": [
    "# Define the predicted variables and target varible\n",
    "X = df.drop(['last_trip_date','retained'], axis=1)\n",
    "y = df[['retained']]\n",
    "\n",
    "# Split data into testing dataset and training dataset\n",
    "X_train, X_test, y_train, y_test = train_test_split(X, y, test_size=0.3, random_state = 42)\n",
    "\n",
    "X_test.shape, y_test.shape"
   ]
  },
  {
   "cell_type": "markdown",
   "id": "about-camera",
   "metadata": {},
   "source": [
    "#### Logistic Regression"
   ]
  },
  {
   "cell_type": "code",
   "execution_count": 18,
   "id": "contemporary-pulse",
   "metadata": {},
   "outputs": [
    {
     "name": "stdout",
     "output_type": "stream",
     "text": [
      "{'C': 0.01}\n"
     ]
    }
   ],
   "source": [
    "# Define an empty dictionary to store all the model \n",
    "model_list = {}\n",
    "\n",
    "# Fit the model to the training set\n",
    "from sklearn.linear_model import LogisticRegression\n",
    "param_grid = {'C':[0.01,0.05,0.1,1]}\n",
    "grid = GridSearchCV(LogisticRegression(solver='liblinear'),param_grid, cv=3,scoring='roc_auc')\n",
    "grid.fit(X_train, y_train)\n",
    "print(grid.best_params_)\n",
    "logit_model = LogisticRegression(**grid.best_params_)\n",
    "logit_model.fit(X_train, y_train)\n",
    "model_list['logit_model'] = logit_model"
   ]
  },
  {
   "cell_type": "markdown",
   "id": "useful-longer",
   "metadata": {},
   "source": [
    "#### Random Forest Model"
   ]
  },
  {
   "cell_type": "code",
   "execution_count": 19,
   "id": "published-motion",
   "metadata": {},
   "outputs": [
    {
     "name": "stdout",
     "output_type": "stream",
     "text": [
      "{'max_depth': 8, 'n_estimators': 300}\n"
     ]
    }
   ],
   "source": [
    "from sklearn.ensemble import RandomForestClassifier\n",
    "\n",
    "param_grid = {'max_depth': [2,4,6,8], \"n_estimators\": [100,200,300,500]}\n",
    "grid = GridSearchCV(RandomForestClassifier(), param_grid, cv = 3, scoring = \"roc_auc\")\n",
    "grid.fit(X_train, y_train)\n",
    "print(grid.best_params_)\n",
    "rf_model = RandomForestClassifier(**grid.best_params_)\n",
    "rf_model.fit(X_train, y_train)\n",
    "model_list['rf_model'] = rf_model"
   ]
  },
  {
   "cell_type": "markdown",
   "id": "imperial-circulation",
   "metadata": {},
   "source": [
    "#### XG Boost"
   ]
  },
  {
   "cell_type": "code",
   "execution_count": 20,
   "id": "arabic-montgomery",
   "metadata": {},
   "outputs": [
    {
     "name": "stdout",
     "output_type": "stream",
     "text": [
      "Requirement already satisfied: xgboost in c:\\users\\ashle\\anaconda3\\envs\\sb\\lib\\site-packages (1.3.3)\n",
      "Requirement already satisfied: scipy in c:\\users\\ashle\\anaconda3\\envs\\sb\\lib\\site-packages (from xgboost) (1.6.1)\n",
      "Requirement already satisfied: numpy in c:\\users\\ashle\\anaconda3\\envs\\sb\\lib\\site-packages (from xgboost) (1.19.2)\n"
     ]
    }
   ],
   "source": [
    "!pip install xgboost"
   ]
  },
  {
   "cell_type": "code",
   "execution_count": 21,
   "id": "amber-oliver",
   "metadata": {},
   "outputs": [
    {
     "name": "stdout",
     "output_type": "stream",
     "text": [
      "[17:47:57] WARNING: C:/Users/Administrator/workspace/xgboost-win64_release_1.3.0/src/learner.cc:1061: Starting in XGBoost 1.3.0, the default evaluation metric used with the objective 'binary:logistic' was changed from 'error' to 'logloss'. Explicitly set eval_metric if you'd like to restore the old behavior.\n",
      "[17:47:57] WARNING: C:/Users/Administrator/workspace/xgboost-win64_release_1.3.0/src/learner.cc:1061: Starting in XGBoost 1.3.0, the default evaluation metric used with the objective 'binary:logistic' was changed from 'error' to 'logloss'. Explicitly set eval_metric if you'd like to restore the old behavior.\n",
      "[17:47:58] WARNING: C:/Users/Administrator/workspace/xgboost-win64_release_1.3.0/src/learner.cc:1061: Starting in XGBoost 1.3.0, the default evaluation metric used with the objective 'binary:logistic' was changed from 'error' to 'logloss'. Explicitly set eval_metric if you'd like to restore the old behavior.\n",
      "[17:47:58] WARNING: C:/Users/Administrator/workspace/xgboost-win64_release_1.3.0/src/learner.cc:1061: Starting in XGBoost 1.3.0, the default evaluation metric used with the objective 'binary:logistic' was changed from 'error' to 'logloss'. Explicitly set eval_metric if you'd like to restore the old behavior.\n",
      "[17:48:00] WARNING: C:/Users/Administrator/workspace/xgboost-win64_release_1.3.0/src/learner.cc:1061: Starting in XGBoost 1.3.0, the default evaluation metric used with the objective 'binary:logistic' was changed from 'error' to 'logloss'. Explicitly set eval_metric if you'd like to restore the old behavior.\n",
      "[17:48:01] WARNING: C:/Users/Administrator/workspace/xgboost-win64_release_1.3.0/src/learner.cc:1061: Starting in XGBoost 1.3.0, the default evaluation metric used with the objective 'binary:logistic' was changed from 'error' to 'logloss'. Explicitly set eval_metric if you'd like to restore the old behavior.\n",
      "[17:48:03] WARNING: C:/Users/Administrator/workspace/xgboost-win64_release_1.3.0/src/learner.cc:1061: Starting in XGBoost 1.3.0, the default evaluation metric used with the objective 'binary:logistic' was changed from 'error' to 'logloss'. Explicitly set eval_metric if you'd like to restore the old behavior.\n",
      "[17:48:04] WARNING: C:/Users/Administrator/workspace/xgboost-win64_release_1.3.0/src/learner.cc:1061: Starting in XGBoost 1.3.0, the default evaluation metric used with the objective 'binary:logistic' was changed from 'error' to 'logloss'. Explicitly set eval_metric if you'd like to restore the old behavior.\n",
      "[17:48:06] WARNING: C:/Users/Administrator/workspace/xgboost-win64_release_1.3.0/src/learner.cc:1061: Starting in XGBoost 1.3.0, the default evaluation metric used with the objective 'binary:logistic' was changed from 'error' to 'logloss'. Explicitly set eval_metric if you'd like to restore the old behavior.\n",
      "[17:48:07] WARNING: C:/Users/Administrator/workspace/xgboost-win64_release_1.3.0/src/learner.cc:1061: Starting in XGBoost 1.3.0, the default evaluation metric used with the objective 'binary:logistic' was changed from 'error' to 'logloss'. Explicitly set eval_metric if you'd like to restore the old behavior.\n",
      "[17:48:09] WARNING: C:/Users/Administrator/workspace/xgboost-win64_release_1.3.0/src/learner.cc:1061: Starting in XGBoost 1.3.0, the default evaluation metric used with the objective 'binary:logistic' was changed from 'error' to 'logloss'. Explicitly set eval_metric if you'd like to restore the old behavior.\n",
      "[17:48:12] WARNING: C:/Users/Administrator/workspace/xgboost-win64_release_1.3.0/src/learner.cc:1061: Starting in XGBoost 1.3.0, the default evaluation metric used with the objective 'binary:logistic' was changed from 'error' to 'logloss'. Explicitly set eval_metric if you'd like to restore the old behavior.\n",
      "[17:48:13] WARNING: C:/Users/Administrator/workspace/xgboost-win64_release_1.3.0/src/learner.cc:1061: Starting in XGBoost 1.3.0, the default evaluation metric used with the objective 'binary:logistic' was changed from 'error' to 'logloss'. Explicitly set eval_metric if you'd like to restore the old behavior.\n",
      "[17:48:15] WARNING: C:/Users/Administrator/workspace/xgboost-win64_release_1.3.0/src/learner.cc:1061: Starting in XGBoost 1.3.0, the default evaluation metric used with the objective 'binary:logistic' was changed from 'error' to 'logloss'. Explicitly set eval_metric if you'd like to restore the old behavior.\n",
      "[17:48:16] WARNING: C:/Users/Administrator/workspace/xgboost-win64_release_1.3.0/src/learner.cc:1061: Starting in XGBoost 1.3.0, the default evaluation metric used with the objective 'binary:logistic' was changed from 'error' to 'logloss'. Explicitly set eval_metric if you'd like to restore the old behavior.\n",
      "[17:48:17] WARNING: C:/Users/Administrator/workspace/xgboost-win64_release_1.3.0/src/learner.cc:1061: Starting in XGBoost 1.3.0, the default evaluation metric used with the objective 'binary:logistic' was changed from 'error' to 'logloss'. Explicitly set eval_metric if you'd like to restore the old behavior.\n",
      "[17:48:19] WARNING: C:/Users/Administrator/workspace/xgboost-win64_release_1.3.0/src/learner.cc:1061: Starting in XGBoost 1.3.0, the default evaluation metric used with the objective 'binary:logistic' was changed from 'error' to 'logloss'. Explicitly set eval_metric if you'd like to restore the old behavior.\n",
      "[17:48:22] WARNING: C:/Users/Administrator/workspace/xgboost-win64_release_1.3.0/src/learner.cc:1061: Starting in XGBoost 1.3.0, the default evaluation metric used with the objective 'binary:logistic' was changed from 'error' to 'logloss'. Explicitly set eval_metric if you'd like to restore the old behavior.\n",
      "[17:48:24] WARNING: C:/Users/Administrator/workspace/xgboost-win64_release_1.3.0/src/learner.cc:1061: Starting in XGBoost 1.3.0, the default evaluation metric used with the objective 'binary:logistic' was changed from 'error' to 'logloss'. Explicitly set eval_metric if you'd like to restore the old behavior.\n",
      "[17:48:26] WARNING: C:/Users/Administrator/workspace/xgboost-win64_release_1.3.0/src/learner.cc:1061: Starting in XGBoost 1.3.0, the default evaluation metric used with the objective 'binary:logistic' was changed from 'error' to 'logloss'. Explicitly set eval_metric if you'd like to restore the old behavior.\n",
      "[17:48:29] WARNING: C:/Users/Administrator/workspace/xgboost-win64_release_1.3.0/src/learner.cc:1061: Starting in XGBoost 1.3.0, the default evaluation metric used with the objective 'binary:logistic' was changed from 'error' to 'logloss'. Explicitly set eval_metric if you'd like to restore the old behavior.\n",
      "[17:48:32] WARNING: C:/Users/Administrator/workspace/xgboost-win64_release_1.3.0/src/learner.cc:1061: Starting in XGBoost 1.3.0, the default evaluation metric used with the objective 'binary:logistic' was changed from 'error' to 'logloss'. Explicitly set eval_metric if you'd like to restore the old behavior.\n",
      "[17:48:37] WARNING: C:/Users/Administrator/workspace/xgboost-win64_release_1.3.0/src/learner.cc:1061: Starting in XGBoost 1.3.0, the default evaluation metric used with the objective 'binary:logistic' was changed from 'error' to 'logloss'. Explicitly set eval_metric if you'd like to restore the old behavior.\n",
      "[17:48:42] WARNING: C:/Users/Administrator/workspace/xgboost-win64_release_1.3.0/src/learner.cc:1061: Starting in XGBoost 1.3.0, the default evaluation metric used with the objective 'binary:logistic' was changed from 'error' to 'logloss'. Explicitly set eval_metric if you'd like to restore the old behavior.\n",
      "[17:48:47] WARNING: C:/Users/Administrator/workspace/xgboost-win64_release_1.3.0/src/learner.cc:1061: Starting in XGBoost 1.3.0, the default evaluation metric used with the objective 'binary:logistic' was changed from 'error' to 'logloss'. Explicitly set eval_metric if you'd like to restore the old behavior.\n",
      "[17:48:48] WARNING: C:/Users/Administrator/workspace/xgboost-win64_release_1.3.0/src/learner.cc:1061: Starting in XGBoost 1.3.0, the default evaluation metric used with the objective 'binary:logistic' was changed from 'error' to 'logloss'. Explicitly set eval_metric if you'd like to restore the old behavior.\n",
      "[17:48:50] WARNING: C:/Users/Administrator/workspace/xgboost-win64_release_1.3.0/src/learner.cc:1061: Starting in XGBoost 1.3.0, the default evaluation metric used with the objective 'binary:logistic' was changed from 'error' to 'logloss'. Explicitly set eval_metric if you'd like to restore the old behavior.\n"
     ]
    },
    {
     "name": "stdout",
     "output_type": "stream",
     "text": [
      "[17:48:51] WARNING: C:/Users/Administrator/workspace/xgboost-win64_release_1.3.0/src/learner.cc:1061: Starting in XGBoost 1.3.0, the default evaluation metric used with the objective 'binary:logistic' was changed from 'error' to 'logloss'. Explicitly set eval_metric if you'd like to restore the old behavior.\n",
      "[17:48:53] WARNING: C:/Users/Administrator/workspace/xgboost-win64_release_1.3.0/src/learner.cc:1061: Starting in XGBoost 1.3.0, the default evaluation metric used with the objective 'binary:logistic' was changed from 'error' to 'logloss'. Explicitly set eval_metric if you'd like to restore the old behavior.\n",
      "[17:48:54] WARNING: C:/Users/Administrator/workspace/xgboost-win64_release_1.3.0/src/learner.cc:1061: Starting in XGBoost 1.3.0, the default evaluation metric used with the objective 'binary:logistic' was changed from 'error' to 'logloss'. Explicitly set eval_metric if you'd like to restore the old behavior.\n",
      "[17:48:57] WARNING: C:/Users/Administrator/workspace/xgboost-win64_release_1.3.0/src/learner.cc:1061: Starting in XGBoost 1.3.0, the default evaluation metric used with the objective 'binary:logistic' was changed from 'error' to 'logloss'. Explicitly set eval_metric if you'd like to restore the old behavior.\n",
      "[17:49:01] WARNING: C:/Users/Administrator/workspace/xgboost-win64_release_1.3.0/src/learner.cc:1061: Starting in XGBoost 1.3.0, the default evaluation metric used with the objective 'binary:logistic' was changed from 'error' to 'logloss'. Explicitly set eval_metric if you'd like to restore the old behavior.\n",
      "[17:49:05] WARNING: C:/Users/Administrator/workspace/xgboost-win64_release_1.3.0/src/learner.cc:1061: Starting in XGBoost 1.3.0, the default evaluation metric used with the objective 'binary:logistic' was changed from 'error' to 'logloss'. Explicitly set eval_metric if you'd like to restore the old behavior.\n",
      "[17:49:09] WARNING: C:/Users/Administrator/workspace/xgboost-win64_release_1.3.0/src/learner.cc:1061: Starting in XGBoost 1.3.0, the default evaluation metric used with the objective 'binary:logistic' was changed from 'error' to 'logloss'. Explicitly set eval_metric if you'd like to restore the old behavior.\n",
      "[17:49:15] WARNING: C:/Users/Administrator/workspace/xgboost-win64_release_1.3.0/src/learner.cc:1061: Starting in XGBoost 1.3.0, the default evaluation metric used with the objective 'binary:logistic' was changed from 'error' to 'logloss'. Explicitly set eval_metric if you'd like to restore the old behavior.\n",
      "[17:49:22] WARNING: C:/Users/Administrator/workspace/xgboost-win64_release_1.3.0/src/learner.cc:1061: Starting in XGBoost 1.3.0, the default evaluation metric used with the objective 'binary:logistic' was changed from 'error' to 'logloss'. Explicitly set eval_metric if you'd like to restore the old behavior.\n",
      "[17:49:29] WARNING: C:/Users/Administrator/workspace/xgboost-win64_release_1.3.0/src/learner.cc:1061: Starting in XGBoost 1.3.0, the default evaluation metric used with the objective 'binary:logistic' was changed from 'error' to 'logloss'. Explicitly set eval_metric if you'd like to restore the old behavior.\n",
      "[17:49:30] WARNING: C:/Users/Administrator/workspace/xgboost-win64_release_1.3.0/src/learner.cc:1061: Starting in XGBoost 1.3.0, the default evaluation metric used with the objective 'binary:logistic' was changed from 'error' to 'logloss'. Explicitly set eval_metric if you'd like to restore the old behavior.\n",
      "[17:49:33] WARNING: C:/Users/Administrator/workspace/xgboost-win64_release_1.3.0/src/learner.cc:1061: Starting in XGBoost 1.3.0, the default evaluation metric used with the objective 'binary:logistic' was changed from 'error' to 'logloss'. Explicitly set eval_metric if you'd like to restore the old behavior.\n",
      "[17:49:34] WARNING: C:/Users/Administrator/workspace/xgboost-win64_release_1.3.0/src/learner.cc:1061: Starting in XGBoost 1.3.0, the default evaluation metric used with the objective 'binary:logistic' was changed from 'error' to 'logloss'. Explicitly set eval_metric if you'd like to restore the old behavior.\n",
      "[17:49:38] WARNING: C:/Users/Administrator/workspace/xgboost-win64_release_1.3.0/src/learner.cc:1061: Starting in XGBoost 1.3.0, the default evaluation metric used with the objective 'binary:logistic' was changed from 'error' to 'logloss'. Explicitly set eval_metric if you'd like to restore the old behavior.\n",
      "[17:49:42] WARNING: C:/Users/Administrator/workspace/xgboost-win64_release_1.3.0/src/learner.cc:1061: Starting in XGBoost 1.3.0, the default evaluation metric used with the objective 'binary:logistic' was changed from 'error' to 'logloss'. Explicitly set eval_metric if you'd like to restore the old behavior.\n",
      "[17:49:45] WARNING: C:/Users/Administrator/workspace/xgboost-win64_release_1.3.0/src/learner.cc:1061: Starting in XGBoost 1.3.0, the default evaluation metric used with the objective 'binary:logistic' was changed from 'error' to 'logloss'. Explicitly set eval_metric if you'd like to restore the old behavior.\n",
      "[17:49:50] WARNING: C:/Users/Administrator/workspace/xgboost-win64_release_1.3.0/src/learner.cc:1061: Starting in XGBoost 1.3.0, the default evaluation metric used with the objective 'binary:logistic' was changed from 'error' to 'logloss'. Explicitly set eval_metric if you'd like to restore the old behavior.\n",
      "[17:49:57] WARNING: C:/Users/Administrator/workspace/xgboost-win64_release_1.3.0/src/learner.cc:1061: Starting in XGBoost 1.3.0, the default evaluation metric used with the objective 'binary:logistic' was changed from 'error' to 'logloss'. Explicitly set eval_metric if you'd like to restore the old behavior.\n",
      "[17:50:01] WARNING: C:/Users/Administrator/workspace/xgboost-win64_release_1.3.0/src/learner.cc:1061: Starting in XGBoost 1.3.0, the default evaluation metric used with the objective 'binary:logistic' was changed from 'error' to 'logloss'. Explicitly set eval_metric if you'd like to restore the old behavior.\n",
      "[17:50:10] WARNING: C:/Users/Administrator/workspace/xgboost-win64_release_1.3.0/src/learner.cc:1061: Starting in XGBoost 1.3.0, the default evaluation metric used with the objective 'binary:logistic' was changed from 'error' to 'logloss'. Explicitly set eval_metric if you'd like to restore the old behavior.\n",
      "[17:50:19] WARNING: C:/Users/Administrator/workspace/xgboost-win64_release_1.3.0/src/learner.cc:1061: Starting in XGBoost 1.3.0, the default evaluation metric used with the objective 'binary:logistic' was changed from 'error' to 'logloss'. Explicitly set eval_metric if you'd like to restore the old behavior.\n",
      "[17:50:29] WARNING: C:/Users/Administrator/workspace/xgboost-win64_release_1.3.0/src/learner.cc:1061: Starting in XGBoost 1.3.0, the default evaluation metric used with the objective 'binary:logistic' was changed from 'error' to 'logloss'. Explicitly set eval_metric if you'd like to restore the old behavior.\n",
      "best parameters  through grid search: {'max_depth': 2, 'n_estimators': 200}\n",
      "[17:50:30] WARNING: C:/Users/Administrator/workspace/xgboost-win64_release_1.3.0/src/learner.cc:1061: Starting in XGBoost 1.3.0, the default evaluation metric used with the objective 'binary:logistic' was changed from 'error' to 'logloss'. Explicitly set eval_metric if you'd like to restore the old behavior.\n"
     ]
    }
   ],
   "source": [
    "import warnings\n",
    "warnings.filterwarnings(\"ignore\")\n",
    "\n",
    "from xgboost import XGBClassifier\n",
    "para_grid = {\"learning_rate\":[0.01, 0.1,0.5],\"n_estimators\":[100,300,500], 'max_depth':[3,4,5]}\n",
    "grid = GridSearchCV(XGBClassifier(),param_grid, cv=3, scoring=\"roc_auc\")\n",
    "grid.fit(X_train, y_train)\n",
    "print(\"best parameters  through grid search:\", grid.best_params_)\n",
    "xgb_model = XGBClassifier(**grid.best_params_)\n",
    "xgb_model.fit(X_train,y_train)\n",
    "model_list['xgb_model'] = xgb_model"
   ]
  },
  {
   "cell_type": "markdown",
   "id": "bacterial-granny",
   "metadata": {},
   "source": [
    "#### Support Vector Machines"
   ]
  },
  {
   "cell_type": "code",
   "execution_count": 22,
   "id": "protecting-oliver",
   "metadata": {},
   "outputs": [
    {
     "data": {
      "text/plain": [
       "(41445, 14)"
      ]
     },
     "execution_count": 22,
     "metadata": {},
     "output_type": "execute_result"
    }
   ],
   "source": [
    "from sklearn import preprocessing \n",
    "\n",
    "#normalized the data attributes\n",
    "normalized_X = preprocessing.normalize(X)\n",
    "\n",
    "normalized_X.shape"
   ]
  },
  {
   "cell_type": "code",
   "execution_count": 23,
   "id": "amended-essence",
   "metadata": {},
   "outputs": [
    {
     "data": {
      "text/plain": [
       "((29011, 14), (29011, 1))"
      ]
     },
     "execution_count": 23,
     "metadata": {},
     "output_type": "execute_result"
    }
   ],
   "source": [
    "X_train_nor, X_test_nor, y_train, y_test = train_test_split(normalized_X, y, test_size=0.3, random_state= 42)\n",
    "X_train_nor.shape, y_train.shape"
   ]
  },
  {
   "cell_type": "code",
   "execution_count": 24,
   "id": "unnecessary-breed",
   "metadata": {},
   "outputs": [
    {
     "name": "stdout",
     "output_type": "stream",
     "text": [
      "Fitting 3 folds for each of 9 candidates, totalling 27 fits\n",
      "[CV] END .....................................C=0.1, gamma=1; total time= 2.1min\n",
      "[CV] END .....................................C=0.1, gamma=1; total time= 2.1min\n",
      "[CV] END .....................................C=0.1, gamma=1; total time= 2.8min\n",
      "[CV] END ...................................C=0.1, gamma=0.1; total time= 2.6min\n",
      "[CV] END ...................................C=0.1, gamma=0.1; total time= 2.2min\n",
      "[CV] END ...................................C=0.1, gamma=0.1; total time= 2.4min\n",
      "[CV] END ..................................C=0.1, gamma=0.01; total time= 2.2min\n",
      "[CV] END ..................................C=0.1, gamma=0.01; total time= 2.0min\n",
      "[CV] END ..................................C=0.1, gamma=0.01; total time= 2.1min\n",
      "[CV] END .......................................C=1, gamma=1; total time= 2.2min\n",
      "[CV] END .......................................C=1, gamma=1; total time= 2.3min\n",
      "[CV] END .......................................C=1, gamma=1; total time= 2.4min\n",
      "[CV] END .....................................C=1, gamma=0.1; total time= 2.2min\n",
      "[CV] END .....................................C=1, gamma=0.1; total time= 2.2min\n",
      "[CV] END .....................................C=1, gamma=0.1; total time= 2.2min\n",
      "[CV] END ....................................C=1, gamma=0.01; total time= 2.0min\n",
      "[CV] END ....................................C=1, gamma=0.01; total time= 2.0min\n",
      "[CV] END ....................................C=1, gamma=0.01; total time= 2.1min\n",
      "[CV] END ......................................C=10, gamma=1; total time= 1.9min\n",
      "[CV] END ......................................C=10, gamma=1; total time= 2.0min\n",
      "[CV] END ......................................C=10, gamma=1; total time= 1.9min\n",
      "[CV] END ....................................C=10, gamma=0.1; total time= 2.2min\n",
      "[CV] END ....................................C=10, gamma=0.1; total time= 2.2min\n",
      "[CV] END ....................................C=10, gamma=0.1; total time= 2.2min\n",
      "[CV] END ...................................C=10, gamma=0.01; total time= 2.0min\n",
      "[CV] END ...................................C=10, gamma=0.01; total time= 2.0min\n",
      "[CV] END ...................................C=10, gamma=0.01; total time= 2.0min\n",
      "best hypterparameters through grid search: {'C': 10, 'gamma': 1}\n",
      "Wall time: 1h 7min 55s\n"
     ]
    }
   ],
   "source": [
    "%%time\n",
    "from sklearn import svm\n",
    "from sklearn.svm import SVC\n",
    "param_grid = {'C':[0.1,1,10],'gamma':[1,0.1,0.01]}\n",
    "grid = GridSearchCV(SVC(probability=True), param_grid, cv =3,refit=True, verbose=2)\n",
    "grid.fit(X_train_nor,y_train)\n",
    "print(\"best hypterparameters through grid search:\",grid.best_params_)\n",
    "svm_model = SVC(**grid.best_params_,probability=True)\n",
    "svm_model.fit(X_train_nor, y_train)\n",
    "model_list['svm_model'] = svm_model"
   ]
  },
  {
   "cell_type": "markdown",
   "id": "intermediate-education",
   "metadata": {},
   "source": [
    "#### Model Comparison"
   ]
  },
  {
   "cell_type": "code",
   "execution_count": 25,
   "id": "following-pencil",
   "metadata": {},
   "outputs": [
    {
     "data": {
      "image/png": "[encoded data removed]",
      "text/plain": [
       "<Figure size 432x288 with 1 Axes>"
      ]
     },
     "metadata": {
      "needs_background": "light"
     },
     "output_type": "display_data"
    }
   ],
   "source": [
    "from sklearn import metrics\n",
    "import matplotlib.pyplot as plt\n",
    "plt.figure()\n",
    "\n",
    "# Below for loop iterates through your models list\n",
    "for name, model in model_list.items():\n",
    "    if name == 'svm_model':\n",
    "        a = X_test_nor\n",
    "        # Compute False postive rate, and True positive rate\n",
    "        fpr, tpr, thresholds = metrics.roc_curve(y_test, model.predict_proba(a)[:,1])\n",
    "# Calculate Area under the curve to display on the plot\n",
    "        auc = metrics.roc_auc_score(y_test,model.predict_proba(a)[:,1])\n",
    "# Now, plot the computed values\n",
    "        plt.plot(fpr, tpr, label='%s ROC (area = %0.3f)' % (name, auc))\n",
    "        \n",
    "    else: \n",
    "        a = X_test\n",
    "# Compute False postive rate, and True positive rate\n",
    "        fpr, tpr, thresholds = metrics.roc_curve(y_test, model.predict_proba(a)[:,1])\n",
    "# Calculate Area under the curve to display on the plot\n",
    "        auc = metrics.roc_auc_score(y_test,model.predict_proba(a)[:,1])\n",
    "# Now, plot the computed values\n",
    "        plt.plot(fpr, tpr, label='%s ROC (area = %0.3f)' % (name, auc))\n",
    "# Custom settings for the plot \n",
    "plt.plot([0, 1], [0, 1],'r--')\n",
    "plt.xlim([0.0, 1.0])\n",
    "plt.ylim([0.0, 1.05])\n",
    "plt.xlabel('1-Specificity(False Positive Rate)')\n",
    "plt.ylabel('Sensitivity(True Positive Rate)')\n",
    "plt.title('Receiver Operating Characteristic')\n",
    "plt.legend(loc=\"lower right\")\n",
    "plt.show()   # Display"
   ]
  },
  {
   "cell_type": "markdown",
   "id": "grave-marketplace",
   "metadata": {},
   "source": [
    "XG Boost performs best with the largest ROC area."
   ]
  },
  {
   "cell_type": "code",
   "execution_count": 26,
   "id": "destroyed-disney",
   "metadata": {},
   "outputs": [
    {
     "data": {
      "text/html": [
       "<div>\n",
       "<style scoped>\n",
       "    .dataframe tbody tr th:only-of-type {\n",
       "        vertical-align: middle;\n",
       "    }\n",
       "\n",
       "    .dataframe tbody tr th {\n",
       "        vertical-align: top;\n",
       "    }\n",
       "\n",
       "    .dataframe thead th {\n",
       "        text-align: right;\n",
       "    }\n",
       "</style>\n",
       "<table border=\"1\" class=\"dataframe\">\n",
       "  <thead>\n",
       "    <tr style=\"text-align: right;\">\n",
       "      <th></th>\n",
       "      <th>train_auc</th>\n",
       "      <th>test_auc</th>\n",
       "    </tr>\n",
       "  </thead>\n",
       "  <tbody>\n",
       "    <tr>\n",
       "      <th>logit_model</th>\n",
       "      <td>0.51</td>\n",
       "      <td>0.50</td>\n",
       "    </tr>\n",
       "    <tr>\n",
       "      <th>rf_model</th>\n",
       "      <td>0.86</td>\n",
       "      <td>0.84</td>\n",
       "    </tr>\n",
       "    <tr>\n",
       "      <th>xgb_model</th>\n",
       "      <td>0.87</td>\n",
       "      <td>0.86</td>\n",
       "    </tr>\n",
       "    <tr>\n",
       "      <th>svm_model</th>\n",
       "      <td>0.55</td>\n",
       "      <td>0.55</td>\n",
       "    </tr>\n",
       "  </tbody>\n",
       "</table>\n",
       "</div>"
      ],
      "text/plain": [
       "            train_auc test_auc\n",
       "logit_model      0.51     0.50\n",
       "rf_model         0.86     0.84\n",
       "xgb_model        0.87     0.86\n",
       "svm_model        0.55     0.55"
      ]
     },
     "execution_count": 26,
     "metadata": {},
     "output_type": "execute_result"
    }
   ],
   "source": [
    "auc = pd.DataFrame()\n",
    "for name, model in model_list.items():\n",
    "    if name == 'svm_model':\n",
    "        train_auc = metrics.roc_auc_score(y_train,model.predict_proba(X_train_nor)[:,1])\n",
    "        test_auc = metrics.roc_auc_score(y_test,model.predict_proba(X_test_nor)[:,1])  \n",
    "    else:\n",
    "        train_auc = metrics.roc_auc_score(y_train,model.predict_proba(X_train)[:,1])\n",
    "        test_auc = metrics.roc_auc_score(y_test,model.predict_proba(X_test)[:,1])\n",
    "    auc.at[name, \"train_auc\"] = '{0:.2f}'.format(train_auc)\n",
    "    auc.at[name, \"test_auc\"] = '{0:.2f}'.format(test_auc)\n",
    "\n",
    "auc"
   ]
  },
  {
   "cell_type": "markdown",
   "id": "photographic-tsunami",
   "metadata": {},
   "source": [
    "There appears to be no significant overfitting in any of the models."
   ]
  },
  {
   "cell_type": "code",
   "execution_count": 27,
   "id": "periodic-nightmare",
   "metadata": {},
   "outputs": [
    {
     "name": "stdout",
     "output_type": "stream",
     "text": [
      "logit_model\n",
      "              precision    recall  f1-score   support\n",
      "\n",
      "           0       0.59      1.00      0.74      7293\n",
      "           1       0.00      0.00      0.00      5141\n",
      "\n",
      "    accuracy                           0.59     12434\n",
      "   macro avg       0.29      0.50      0.37     12434\n",
      "weighted avg       0.34      0.59      0.43     12434\n",
      "\n",
      "rf_model\n",
      "              precision    recall  f1-score   support\n",
      "\n",
      "           0       0.78      0.84      0.81      7293\n",
      "           1       0.75      0.67      0.71      5141\n",
      "\n",
      "    accuracy                           0.77     12434\n",
      "   macro avg       0.77      0.76      0.76     12434\n",
      "weighted avg       0.77      0.77      0.77     12434\n",
      "\n",
      "[19:01:37] WARNING: C:/Users/Administrator/workspace/xgboost-win64_release_1.3.0/src/learner.cc:1061: Starting in XGBoost 1.3.0, the default evaluation metric used with the objective 'binary:logistic' was changed from 'error' to 'logloss'. Explicitly set eval_metric if you'd like to restore the old behavior.\n",
      "xgb_model\n",
      "              precision    recall  f1-score   support\n",
      "\n",
      "           0       0.79      0.84      0.82      7293\n",
      "           1       0.75      0.69      0.72      5141\n",
      "\n",
      "    accuracy                           0.78     12434\n",
      "   macro avg       0.77      0.77      0.77     12434\n",
      "weighted avg       0.78      0.78      0.78     12434\n",
      "\n",
      "svm_model\n",
      "              precision    recall  f1-score   support\n",
      "\n",
      "           0       0.59      1.00      0.74      7293\n",
      "           1       0.71      0.02      0.03      5141\n",
      "\n",
      "    accuracy                           0.59     12434\n",
      "   macro avg       0.65      0.51      0.39     12434\n",
      "weighted avg       0.64      0.59      0.45     12434\n",
      "\n"
     ]
    }
   ],
   "source": [
    "warnings.filterwarnings(\"ignore\")\n",
    "from sklearn.metrics import classification_report\n",
    "\n",
    "for name, model in model_list.items():\n",
    "    if name == 'svm_model':\n",
    "        clf = model.fit(X_train_nor, y_train)\n",
    "        y_pred = clf.predict(X_test_nor)\n",
    "        print(name)\n",
    "        print(classification_report(y_test, y_pred))\n",
    "    else:\n",
    "        clf = model.fit(X_train, y_train)\n",
    "        y_pred = clf.predict(X_test)\n",
    "        print(name)\n",
    "        print(classification_report(y_test, y_pred))"
   ]
  },
  {
   "cell_type": "markdown",
   "id": "contrary-galaxy",
   "metadata": {},
   "source": [
    "### Feature Importance"
   ]
  },
  {
   "cell_type": "markdown",
   "id": "royal-beast",
   "metadata": {},
   "source": [
    "#### Random Forest and XGBoost"
   ]
  },
  {
   "cell_type": "code",
   "execution_count": 28,
   "id": "excellent-binary",
   "metadata": {},
   "outputs": [],
   "source": [
    "def feature(name, model, X_train):\n",
    "    series = pd.Series(model.feature_importances_, index=X_train.columns).nlargest(len(X_train.columns))\n",
    "    series.sort_values(ascending=False)[:25].plot(kind='bar',figsize=(10,10))\n",
    "    plt.xticks(rotation = 60,ha = 'right')\n",
    "    plt.title(\"Feature Importance of \"+name, fontsize=15)\n",
    "    plt.show()"
   ]
  },
  {
   "cell_type": "code",
   "execution_count": 29,
   "id": "distinguished-butler",
   "metadata": {},
   "outputs": [
    {
     "data": {
      "image/png": "[encoded data removed]",
      "text/plain": [
       "<Figure size 720x720 with 1 Axes>"
      ]
     },
     "metadata": {
      "needs_background": "light"
     },
     "output_type": "display_data"
    },
    {
     "data": {
      "image/png": "[encoded data removed]",
      "text/plain": [
       "<Figure size 720x720 with 1 Axes>"
      ]
     },
     "metadata": {
      "needs_background": "light"
     },
     "output_type": "display_data"
    }
   ],
   "source": [
    "for name, model in model_list.items():\n",
    "    if name == 'xgb_model' or name =='rf_model':\n",
    "        feature(name, model, X_train)"
   ]
  },
  {
   "cell_type": "markdown",
   "id": "solar-egypt",
   "metadata": {},
   "source": [
    "For random forest model, 'avg_rating_by_driver','surge_pct' and 'city_King's Landing' are the top three most important variables in the model\n",
    "\n",
    "For XGBoost model, 'city_King's Landing','ultimate_black_user','phone_Android' are the top three most important variables in the model."
   ]
  },
  {
   "cell_type": "markdown",
   "id": "incorporate-advantage",
   "metadata": {},
   "source": [
    "#### Logistic Regression"
   ]
  },
  {
   "cell_type": "code",
   "execution_count": 30,
   "id": "cosmetic-communist",
   "metadata": {},
   "outputs": [
    {
     "data": {
      "text/html": [
       "<div>\n",
       "<style scoped>\n",
       "    .dataframe tbody tr th:only-of-type {\n",
       "        vertical-align: middle;\n",
       "    }\n",
       "\n",
       "    .dataframe tbody tr th {\n",
       "        vertical-align: top;\n",
       "    }\n",
       "\n",
       "    .dataframe thead th {\n",
       "        text-align: right;\n",
       "    }\n",
       "</style>\n",
       "<table border=\"1\" class=\"dataframe\">\n",
       "  <thead>\n",
       "    <tr style=\"text-align: right;\">\n",
       "      <th></th>\n",
       "      <th>feature</th>\n",
       "      <th>coeffienct</th>\n",
       "      <th>P_value</th>\n",
       "    </tr>\n",
       "  </thead>\n",
       "  <tbody>\n",
       "    <tr>\n",
       "      <th>0</th>\n",
       "      <td>Intercept</td>\n",
       "      <td>-2.783521e-13</td>\n",
       "      <td>NaN</td>\n",
       "    </tr>\n",
       "    <tr>\n",
       "      <th>1</th>\n",
       "      <td>trips_in_first_30_days</td>\n",
       "      <td>3.016037e-12</td>\n",
       "      <td>1.0</td>\n",
       "    </tr>\n",
       "    <tr>\n",
       "      <th>2</th>\n",
       "      <td>signup_date</td>\n",
       "      <td>-2.219153e-07</td>\n",
       "      <td>0.0</td>\n",
       "    </tr>\n",
       "    <tr>\n",
       "      <th>3</th>\n",
       "      <td>avg_rating_of_driver</td>\n",
       "      <td>-1.307499e-12</td>\n",
       "      <td>1.0</td>\n",
       "    </tr>\n",
       "    <tr>\n",
       "      <th>4</th>\n",
       "      <td>avg_surge</td>\n",
       "      <td>-3.048258e-13</td>\n",
       "      <td>1.0</td>\n",
       "    </tr>\n",
       "    <tr>\n",
       "      <th>5</th>\n",
       "      <td>surge_pct</td>\n",
       "      <td>-1.406564e-12</td>\n",
       "      <td>1.0</td>\n",
       "    </tr>\n",
       "    <tr>\n",
       "      <th>6</th>\n",
       "      <td>ultimate_black_user</td>\n",
       "      <td>3.615145e-13</td>\n",
       "      <td>1.0</td>\n",
       "    </tr>\n",
       "    <tr>\n",
       "      <th>7</th>\n",
       "      <td>weekday_pct</td>\n",
       "      <td>-1.614559e-11</td>\n",
       "      <td>1.0</td>\n",
       "    </tr>\n",
       "    <tr>\n",
       "      <th>8</th>\n",
       "      <td>avg_dist</td>\n",
       "      <td>-3.673356e-12</td>\n",
       "      <td>1.0</td>\n",
       "    </tr>\n",
       "    <tr>\n",
       "      <th>9</th>\n",
       "      <td>avg_rating_by_driver</td>\n",
       "      <td>-1.386631e-12</td>\n",
       "      <td>1.0</td>\n",
       "    </tr>\n",
       "    <tr>\n",
       "      <th>10</th>\n",
       "      <td>city_Astapor</td>\n",
       "      <td>-4.602292e-13</td>\n",
       "      <td>NaN</td>\n",
       "    </tr>\n",
       "    <tr>\n",
       "      <th>11</th>\n",
       "      <td>city_King's Landing</td>\n",
       "      <td>4.114203e-13</td>\n",
       "      <td>NaN</td>\n",
       "    </tr>\n",
       "    <tr>\n",
       "      <th>12</th>\n",
       "      <td>city_Winterfell</td>\n",
       "      <td>-2.295432e-13</td>\n",
       "      <td>NaN</td>\n",
       "    </tr>\n",
       "    <tr>\n",
       "      <th>13</th>\n",
       "      <td>phone_Android</td>\n",
       "      <td>-5.346579e-13</td>\n",
       "      <td>NaN</td>\n",
       "    </tr>\n",
       "    <tr>\n",
       "      <th>14</th>\n",
       "      <td>phone_iPhone</td>\n",
       "      <td>2.563059e-13</td>\n",
       "      <td>NaN</td>\n",
       "    </tr>\n",
       "  </tbody>\n",
       "</table>\n",
       "</div>"
      ],
      "text/plain": [
       "                   feature    coeffienct  P_value\n",
       "0                Intercept -2.783521e-13      NaN\n",
       "1   trips_in_first_30_days  3.016037e-12      1.0\n",
       "2              signup_date -2.219153e-07      0.0\n",
       "3     avg_rating_of_driver -1.307499e-12      1.0\n",
       "4                avg_surge -3.048258e-13      1.0\n",
       "5                surge_pct -1.406564e-12      1.0\n",
       "6      ultimate_black_user  3.615145e-13      1.0\n",
       "7              weekday_pct -1.614559e-11      1.0\n",
       "8                 avg_dist -3.673356e-12      1.0\n",
       "9     avg_rating_by_driver -1.386631e-12      1.0\n",
       "10            city_Astapor -4.602292e-13      NaN\n",
       "11     city_King's Landing  4.114203e-13      NaN\n",
       "12         city_Winterfell -2.295432e-13      NaN\n",
       "13           phone_Android -5.346579e-13      NaN\n",
       "14            phone_iPhone  2.563059e-13      NaN"
      ]
     },
     "execution_count": 30,
     "metadata": {},
     "output_type": "execute_result"
    }
   ],
   "source": [
    "from scipy.stats import norm\n",
    "\n",
    "def logit_pvalue(model, x):\n",
    "    \"\"\" Calculate z-scores for scikit-learn LogisticRegression.\n",
    "    parameters:\n",
    "        model: fitted sklearn.linear_model.LogisticRegression with intercept and large C\n",
    "        x:     matrix on which the model was fit\n",
    "    This function uses asymtptics for maximum likelihood estimates.\n",
    "    \"\"\"\n",
    "    p = model.predict_proba(x)\n",
    "    n = len(p)\n",
    "    m = len(model.coef_[0]) + 1\n",
    "    coefs = np.concatenate([model.intercept_, model.coef_[0]])\n",
    "    x_full = np.matrix(np.insert(np.array(x), 0, 1, axis = 1))\n",
    "    ans = np.zeros((m, m))\n",
    "    for i in range(n):\n",
    "        ans = ans + np.dot(np.transpose(x_full[i, :]), x_full[i, :]) * p[i,1] * p[i, 0]\n",
    "    vcov = np.linalg.inv(np.matrix(ans))\n",
    "    se = np.sqrt(np.diag(vcov))\n",
    "    t =  coefs/se\n",
    "    p = (1 - norm.cdf(abs(t))) * 2\n",
    "    return coefs, p\n",
    "\n",
    "coefs, p = logit_pvalue(logit_model, X_train)\n",
    "X_cols_inc = X.columns.tolist()\n",
    "X_cols_inc.insert(0,'Intercept')\n",
    "p_value = pd.DataFrame({'feature':X_cols_inc, 'coeffienct':coefs, 'P_value':p.round(6)})\n",
    "p_value"
   ]
  },
  {
   "cell_type": "code",
   "execution_count": 31,
   "id": "downtown-consequence",
   "metadata": {},
   "outputs": [
    {
     "data": {
      "text/html": [
       "<div>\n",
       "<style scoped>\n",
       "    .dataframe tbody tr th:only-of-type {\n",
       "        vertical-align: middle;\n",
       "    }\n",
       "\n",
       "    .dataframe tbody tr th {\n",
       "        vertical-align: top;\n",
       "    }\n",
       "\n",
       "    .dataframe thead th {\n",
       "        text-align: right;\n",
       "    }\n",
       "</style>\n",
       "<table border=\"1\" class=\"dataframe\">\n",
       "  <thead>\n",
       "    <tr style=\"text-align: right;\">\n",
       "      <th></th>\n",
       "      <th>feature</th>\n",
       "      <th>coeffienct</th>\n",
       "      <th>P_value</th>\n",
       "    </tr>\n",
       "  </thead>\n",
       "  <tbody>\n",
       "    <tr>\n",
       "      <th>2</th>\n",
       "      <td>signup_date</td>\n",
       "      <td>-2.219153e-07</td>\n",
       "      <td>0.0</td>\n",
       "    </tr>\n",
       "    <tr>\n",
       "      <th>1</th>\n",
       "      <td>trips_in_first_30_days</td>\n",
       "      <td>3.016037e-12</td>\n",
       "      <td>1.0</td>\n",
       "    </tr>\n",
       "    <tr>\n",
       "      <th>3</th>\n",
       "      <td>avg_rating_of_driver</td>\n",
       "      <td>-1.307499e-12</td>\n",
       "      <td>1.0</td>\n",
       "    </tr>\n",
       "    <tr>\n",
       "      <th>4</th>\n",
       "      <td>avg_surge</td>\n",
       "      <td>-3.048258e-13</td>\n",
       "      <td>1.0</td>\n",
       "    </tr>\n",
       "    <tr>\n",
       "      <th>5</th>\n",
       "      <td>surge_pct</td>\n",
       "      <td>-1.406564e-12</td>\n",
       "      <td>1.0</td>\n",
       "    </tr>\n",
       "    <tr>\n",
       "      <th>6</th>\n",
       "      <td>ultimate_black_user</td>\n",
       "      <td>3.615145e-13</td>\n",
       "      <td>1.0</td>\n",
       "    </tr>\n",
       "    <tr>\n",
       "      <th>7</th>\n",
       "      <td>weekday_pct</td>\n",
       "      <td>-1.614559e-11</td>\n",
       "      <td>1.0</td>\n",
       "    </tr>\n",
       "    <tr>\n",
       "      <th>8</th>\n",
       "      <td>avg_dist</td>\n",
       "      <td>-3.673356e-12</td>\n",
       "      <td>1.0</td>\n",
       "    </tr>\n",
       "    <tr>\n",
       "      <th>9</th>\n",
       "      <td>avg_rating_by_driver</td>\n",
       "      <td>-1.386631e-12</td>\n",
       "      <td>1.0</td>\n",
       "    </tr>\n",
       "    <tr>\n",
       "      <th>0</th>\n",
       "      <td>Intercept</td>\n",
       "      <td>-2.783521e-13</td>\n",
       "      <td>NaN</td>\n",
       "    </tr>\n",
       "    <tr>\n",
       "      <th>10</th>\n",
       "      <td>city_Astapor</td>\n",
       "      <td>-4.602292e-13</td>\n",
       "      <td>NaN</td>\n",
       "    </tr>\n",
       "    <tr>\n",
       "      <th>11</th>\n",
       "      <td>city_King's Landing</td>\n",
       "      <td>4.114203e-13</td>\n",
       "      <td>NaN</td>\n",
       "    </tr>\n",
       "    <tr>\n",
       "      <th>12</th>\n",
       "      <td>city_Winterfell</td>\n",
       "      <td>-2.295432e-13</td>\n",
       "      <td>NaN</td>\n",
       "    </tr>\n",
       "    <tr>\n",
       "      <th>13</th>\n",
       "      <td>phone_Android</td>\n",
       "      <td>-5.346579e-13</td>\n",
       "      <td>NaN</td>\n",
       "    </tr>\n",
       "    <tr>\n",
       "      <th>14</th>\n",
       "      <td>phone_iPhone</td>\n",
       "      <td>2.563059e-13</td>\n",
       "      <td>NaN</td>\n",
       "    </tr>\n",
       "  </tbody>\n",
       "</table>\n",
       "</div>"
      ],
      "text/plain": [
       "                   feature    coeffienct  P_value\n",
       "2              signup_date -2.219153e-07      0.0\n",
       "1   trips_in_first_30_days  3.016037e-12      1.0\n",
       "3     avg_rating_of_driver -1.307499e-12      1.0\n",
       "4                avg_surge -3.048258e-13      1.0\n",
       "5                surge_pct -1.406564e-12      1.0\n",
       "6      ultimate_black_user  3.615145e-13      1.0\n",
       "7              weekday_pct -1.614559e-11      1.0\n",
       "8                 avg_dist -3.673356e-12      1.0\n",
       "9     avg_rating_by_driver -1.386631e-12      1.0\n",
       "0                Intercept -2.783521e-13      NaN\n",
       "10            city_Astapor -4.602292e-13      NaN\n",
       "11     city_King's Landing  4.114203e-13      NaN\n",
       "12         city_Winterfell -2.295432e-13      NaN\n",
       "13           phone_Android -5.346579e-13      NaN\n",
       "14            phone_iPhone  2.563059e-13      NaN"
      ]
     },
     "execution_count": 31,
     "metadata": {},
     "output_type": "execute_result"
    }
   ],
   "source": [
    "p_value.sort_values(by=['P_value'])"
   ]
  }
 ],
 "metadata": {
  "kernelspec": {
   "display_name": "Python 3",
   "language": "python",
   "name": "python3"
  },
  "language_info": {
   "codemirror_mode": {
    "name": "ipython",
    "version": 3
   },
   "file_extension": ".py",
   "mimetype": "text/x-python",
   "name": "python",
   "nbconvert_exporter": "python",
   "pygments_lexer": "ipython3",
   "version": "3.7.10"
  }
 },
 "nbformat": 4,
 "nbformat_minor": 5
}
