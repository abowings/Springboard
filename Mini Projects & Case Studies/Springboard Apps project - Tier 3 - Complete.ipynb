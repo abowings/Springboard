{
 "cells": [
  {
   "cell_type": "markdown",
   "metadata": {
    "colab_type": "text",
    "id": "i2RUFW7TFcuh"
   },
   "source": [
    "# Springboard Apps project - Tier 3 - Complete\n",
    "\n",
    "Welcome to the Apps project! To give you a taste of your future career, we're going to walk through exactly the kind of notebook that you'd write as a data scientist. In the process, we'll be sure to signpost the general framework for our investigation - the Data Science Pipeline - as well as give reasons for why we're doing what we're doing. We're also going to apply some of the skills and knowledge you've built up in the previous unit when reading Professor Spiegelhalter's *The Art of Statistics* (hereinafter *AoS*). \n",
    "\n",
    "So let's get cracking!\n",
    "\n",
    "**Brief**\n",
    "\n",
    "Did Apple Store apps receive better reviews than Google Play apps?\n",
    "\n",
    "## Stages of the project\n",
    "\n",
    "1. Sourcing and loading \n",
    "    * Load the two datasets\n",
    "    * Pick the columns that we are going to work with \n",
    "    * Subsetting the data on this basis \n",
    " \n",
    " \n",
    "2. Cleaning, transforming and visualizing\n",
    "    * Check the data types and fix them\n",
    "    * Add a `platform` column to both the `Apple` and the `Google` dataframes\n",
    "    * Changing the column names to prepare for a join \n",
    "    * Join the two data sets\n",
    "    * Eliminate the `NaN` values\n",
    "    * Filter only those apps that have been reviewed at least once\n",
    "    * Summarize the data visually and analytically (by the column `platform`)  \n",
    "  \n",
    "  \n",
    "3. Modelling \n",
    "    * Hypothesis formulation\n",
    "    * Getting the distribution of the data\n",
    "    * Permutation test \n",
    "\n",
    "\n",
    "4. Evaluating and concluding \n",
    "    * What is our conclusion?\n",
    "    * What is our decision?\n",
    "    * Other models we could have used. \n",
    "    "
   ]
  },
  {
   "cell_type": "markdown",
   "metadata": {
    "colab_type": "text",
    "id": "QLUAXtl1Fcuk"
   },
   "source": [
    "## Importing the libraries\n",
    "\n",
    "In this case we are going to import pandas, numpy, scipy, random and matplotlib.pyplot"
   ]
  },
  {
   "cell_type": "code",
   "execution_count": 1,
   "metadata": {
    "colab": {},
    "colab_type": "code",
    "id": "XeXJOlGiFcum"
   },
   "outputs": [],
   "source": [
    "import pandas as pd\n",
    "import numpy as np\n",
    "import matplotlib.pyplot as plt\n",
    "# scipi is a library for statistical tests and visualizations \n",
    "from scipy import stats\n",
    "# random enables us to generate random numbers\n",
    "import random"
   ]
  },
  {
   "cell_type": "markdown",
   "metadata": {
    "colab_type": "text",
    "id": "zVD7NlPAFcup"
   },
   "source": [
    "## Stage 1 -  Sourcing and loading data"
   ]
  },
  {
   "cell_type": "markdown",
   "metadata": {
    "colab_type": "text",
    "id": "KU8bdbImFcuq"
   },
   "source": [
    "### 1a. Source and load the data\n",
    "Let's download the data from Kaggle. Kaggle is a fantastic resource: a kind of social medium for data scientists, it boasts projects, datasets and news on the freshest libraries and technologies all in one place. The data from the Apple Store can be found [here](https://www.kaggle.com/ramamet4/app-store-apple-data-set-10k-apps) and the data from Google Store can be found [here](https://www.kaggle.com/lava18/google-play-store-apps).\n",
    "Download the datasets and save them in your working directory."
   ]
  },
  {
   "cell_type": "code",
   "execution_count": 2,
   "metadata": {
    "colab": {},
    "colab_type": "code",
    "id": "laM1PB76Fcur"
   },
   "outputs": [
    {
     "data": {
      "text/html": [
       "<div>\n",
       "<style scoped>\n",
       "    .dataframe tbody tr th:only-of-type {\n",
       "        vertical-align: middle;\n",
       "    }\n",
       "\n",
       "    .dataframe tbody tr th {\n",
       "        vertical-align: top;\n",
       "    }\n",
       "\n",
       "    .dataframe thead th {\n",
       "        text-align: right;\n",
       "    }\n",
       "</style>\n",
       "<table border=\"1\" class=\"dataframe\">\n",
       "  <thead>\n",
       "    <tr style=\"text-align: right;\">\n",
       "      <th></th>\n",
       "      <th>App</th>\n",
       "      <th>Category</th>\n",
       "      <th>Rating</th>\n",
       "      <th>Reviews</th>\n",
       "      <th>Size</th>\n",
       "      <th>Installs</th>\n",
       "      <th>Type</th>\n",
       "      <th>Price</th>\n",
       "      <th>Content Rating</th>\n",
       "      <th>Genres</th>\n",
       "      <th>Last Updated</th>\n",
       "      <th>Current Ver</th>\n",
       "      <th>Android Ver</th>\n",
       "    </tr>\n",
       "  </thead>\n",
       "  <tbody>\n",
       "    <tr>\n",
       "      <th>0</th>\n",
       "      <td>Photo Editor &amp; Candy Camera &amp; Grid &amp; ScrapBook</td>\n",
       "      <td>ART_AND_DESIGN</td>\n",
       "      <td>4.1</td>\n",
       "      <td>159</td>\n",
       "      <td>19M</td>\n",
       "      <td>10,000+</td>\n",
       "      <td>Free</td>\n",
       "      <td>0</td>\n",
       "      <td>Everyone</td>\n",
       "      <td>Art &amp; Design</td>\n",
       "      <td>January 7, 2018</td>\n",
       "      <td>1.0.0</td>\n",
       "      <td>4.0.3 and up</td>\n",
       "    </tr>\n",
       "    <tr>\n",
       "      <th>1</th>\n",
       "      <td>Coloring book moana</td>\n",
       "      <td>ART_AND_DESIGN</td>\n",
       "      <td>3.9</td>\n",
       "      <td>967</td>\n",
       "      <td>14M</td>\n",
       "      <td>500,000+</td>\n",
       "      <td>Free</td>\n",
       "      <td>0</td>\n",
       "      <td>Everyone</td>\n",
       "      <td>Art &amp; Design;Pretend Play</td>\n",
       "      <td>January 15, 2018</td>\n",
       "      <td>2.0.0</td>\n",
       "      <td>4.0.3 and up</td>\n",
       "    </tr>\n",
       "    <tr>\n",
       "      <th>2</th>\n",
       "      <td>U Launcher Lite – FREE Live Cool Themes, Hide ...</td>\n",
       "      <td>ART_AND_DESIGN</td>\n",
       "      <td>4.7</td>\n",
       "      <td>87510</td>\n",
       "      <td>8.7M</td>\n",
       "      <td>5,000,000+</td>\n",
       "      <td>Free</td>\n",
       "      <td>0</td>\n",
       "      <td>Everyone</td>\n",
       "      <td>Art &amp; Design</td>\n",
       "      <td>August 1, 2018</td>\n",
       "      <td>1.2.4</td>\n",
       "      <td>4.0.3 and up</td>\n",
       "    </tr>\n",
       "  </tbody>\n",
       "</table>\n",
       "</div>"
      ],
      "text/plain": [
       "                                                 App        Category  Rating  \\\n",
       "0     Photo Editor & Candy Camera & Grid & ScrapBook  ART_AND_DESIGN     4.1   \n",
       "1                                Coloring book moana  ART_AND_DESIGN     3.9   \n",
       "2  U Launcher Lite – FREE Live Cool Themes, Hide ...  ART_AND_DESIGN     4.7   \n",
       "\n",
       "  Reviews  Size    Installs  Type Price Content Rating  \\\n",
       "0     159   19M     10,000+  Free     0       Everyone   \n",
       "1     967   14M    500,000+  Free     0       Everyone   \n",
       "2   87510  8.7M  5,000,000+  Free     0       Everyone   \n",
       "\n",
       "                      Genres      Last Updated Current Ver   Android Ver  \n",
       "0               Art & Design   January 7, 2018       1.0.0  4.0.3 and up  \n",
       "1  Art & Design;Pretend Play  January 15, 2018       2.0.0  4.0.3 and up  \n",
       "2               Art & Design    August 1, 2018       1.2.4  4.0.3 and up  "
      ]
     },
     "execution_count": 2,
     "metadata": {},
     "output_type": "execute_result"
    }
   ],
   "source": [
    "# Now that the files are saved, we want to load them into Python using read_csv and pandas.\n",
    "\n",
    "# Create a variable called google, and store in it the path of the csv file that contains your google dataset. \n",
    "# If your dataset is in the same folder as this notebook, the path will simply be the name of the file. \n",
    "google = 'googleplaystore.csv'\n",
    "\n",
    "# Read the csv file into a data frame called Google using the read_csv() pandas method.\n",
    "Google = pd.read_csv(google)\n",
    "\n",
    "# Using the head() pandas method, observe the first three entries.\n",
    "Google.head(3)"
   ]
  },
  {
   "cell_type": "code",
   "execution_count": 3,
   "metadata": {
    "colab": {},
    "colab_type": "code",
    "id": "3AW8EA1wFcuu"
   },
   "outputs": [
    {
     "data": {
      "text/html": [
       "<div>\n",
       "<style scoped>\n",
       "    .dataframe tbody tr th:only-of-type {\n",
       "        vertical-align: middle;\n",
       "    }\n",
       "\n",
       "    .dataframe tbody tr th {\n",
       "        vertical-align: top;\n",
       "    }\n",
       "\n",
       "    .dataframe thead th {\n",
       "        text-align: right;\n",
       "    }\n",
       "</style>\n",
       "<table border=\"1\" class=\"dataframe\">\n",
       "  <thead>\n",
       "    <tr style=\"text-align: right;\">\n",
       "      <th></th>\n",
       "      <th>Unnamed: 0</th>\n",
       "      <th>id</th>\n",
       "      <th>track_name</th>\n",
       "      <th>size_bytes</th>\n",
       "      <th>currency</th>\n",
       "      <th>price</th>\n",
       "      <th>rating_count_tot</th>\n",
       "      <th>rating_count_ver</th>\n",
       "      <th>user_rating</th>\n",
       "      <th>user_rating_ver</th>\n",
       "      <th>ver</th>\n",
       "      <th>cont_rating</th>\n",
       "      <th>prime_genre</th>\n",
       "      <th>sup_devices.num</th>\n",
       "      <th>ipadSc_urls.num</th>\n",
       "      <th>lang.num</th>\n",
       "      <th>vpp_lic</th>\n",
       "    </tr>\n",
       "  </thead>\n",
       "  <tbody>\n",
       "    <tr>\n",
       "      <th>0</th>\n",
       "      <td>1</td>\n",
       "      <td>281656475</td>\n",
       "      <td>PAC-MAN Premium</td>\n",
       "      <td>100788224</td>\n",
       "      <td>USD</td>\n",
       "      <td>3.99</td>\n",
       "      <td>21292</td>\n",
       "      <td>26</td>\n",
       "      <td>4.0</td>\n",
       "      <td>4.5</td>\n",
       "      <td>6.3.5</td>\n",
       "      <td>4+</td>\n",
       "      <td>Games</td>\n",
       "      <td>38</td>\n",
       "      <td>5</td>\n",
       "      <td>10</td>\n",
       "      <td>1</td>\n",
       "    </tr>\n",
       "    <tr>\n",
       "      <th>1</th>\n",
       "      <td>2</td>\n",
       "      <td>281796108</td>\n",
       "      <td>Evernote - stay organized</td>\n",
       "      <td>158578688</td>\n",
       "      <td>USD</td>\n",
       "      <td>0.00</td>\n",
       "      <td>161065</td>\n",
       "      <td>26</td>\n",
       "      <td>4.0</td>\n",
       "      <td>3.5</td>\n",
       "      <td>8.2.2</td>\n",
       "      <td>4+</td>\n",
       "      <td>Productivity</td>\n",
       "      <td>37</td>\n",
       "      <td>5</td>\n",
       "      <td>23</td>\n",
       "      <td>1</td>\n",
       "    </tr>\n",
       "    <tr>\n",
       "      <th>2</th>\n",
       "      <td>3</td>\n",
       "      <td>281940292</td>\n",
       "      <td>WeatherBug - Local Weather, Radar, Maps, Alerts</td>\n",
       "      <td>100524032</td>\n",
       "      <td>USD</td>\n",
       "      <td>0.00</td>\n",
       "      <td>188583</td>\n",
       "      <td>2822</td>\n",
       "      <td>3.5</td>\n",
       "      <td>4.5</td>\n",
       "      <td>5.0.0</td>\n",
       "      <td>4+</td>\n",
       "      <td>Weather</td>\n",
       "      <td>37</td>\n",
       "      <td>5</td>\n",
       "      <td>3</td>\n",
       "      <td>1</td>\n",
       "    </tr>\n",
       "  </tbody>\n",
       "</table>\n",
       "</div>"
      ],
      "text/plain": [
       "   Unnamed: 0         id                                       track_name  \\\n",
       "0           1  281656475                                  PAC-MAN Premium   \n",
       "1           2  281796108                        Evernote - stay organized   \n",
       "2           3  281940292  WeatherBug - Local Weather, Radar, Maps, Alerts   \n",
       "\n",
       "   size_bytes currency  price  rating_count_tot  rating_count_ver  \\\n",
       "0   100788224      USD   3.99             21292                26   \n",
       "1   158578688      USD   0.00            161065                26   \n",
       "2   100524032      USD   0.00            188583              2822   \n",
       "\n",
       "   user_rating  user_rating_ver    ver cont_rating   prime_genre  \\\n",
       "0          4.0              4.5  6.3.5          4+         Games   \n",
       "1          4.0              3.5  8.2.2          4+  Productivity   \n",
       "2          3.5              4.5  5.0.0          4+       Weather   \n",
       "\n",
       "   sup_devices.num  ipadSc_urls.num  lang.num  vpp_lic  \n",
       "0               38                5        10        1  \n",
       "1               37                5        23        1  \n",
       "2               37                5         3        1  "
      ]
     },
     "execution_count": 3,
     "metadata": {},
     "output_type": "execute_result"
    }
   ],
   "source": [
    "# Create a variable called apple, and store in it the path of the csv file that contains your apple dataset. \n",
    "apple = 'AppleStore.csv'\n",
    "\n",
    "# Read the csv file into a pandas DataFrame object called Apple.\n",
    "Apple = pd.read_csv(apple)\n",
    "\n",
    "# Observe the first three entries like you did with your other data. \n",
    "Apple.head(3)"
   ]
  },
  {
   "cell_type": "markdown",
   "metadata": {
    "colab_type": "text",
    "id": "vljOHKNTFcuw"
   },
   "source": [
    "### 1b. Pick the columns we'll work with\n",
    "\n",
    "From the documentation of these datasets, we can infer that the most appropriate columns to answer the brief are:\n",
    "\n",
    "1. Google:\n",
    "    * `Category` # Do we need this?\n",
    "    * `Rating`\n",
    "    * `Reviews`\n",
    "    * `Price` (maybe)\n",
    "2. Apple:    \n",
    "    * `prime_genre` # Do we need this?\n",
    "    * `user_rating` \n",
    "    * `rating_count_tot`\n",
    "    * `price` (maybe)"
   ]
  },
  {
   "cell_type": "markdown",
   "metadata": {
    "colab_type": "text",
    "id": "uf69AeTvFcux"
   },
   "source": [
    "### 1c. Subsetting accordingly\n",
    "\n",
    "Let's select only those columns that we want to work with from both datasets. We'll overwrite the subsets in the original variables."
   ]
  },
  {
   "cell_type": "code",
   "execution_count": 4,
   "metadata": {
    "colab": {},
    "colab_type": "code",
    "id": "LNSDXyjdFcuy"
   },
   "outputs": [
    {
     "data": {
      "text/html": [
       "<div>\n",
       "<style scoped>\n",
       "    .dataframe tbody tr th:only-of-type {\n",
       "        vertical-align: middle;\n",
       "    }\n",
       "\n",
       "    .dataframe tbody tr th {\n",
       "        vertical-align: top;\n",
       "    }\n",
       "\n",
       "    .dataframe thead th {\n",
       "        text-align: right;\n",
       "    }\n",
       "</style>\n",
       "<table border=\"1\" class=\"dataframe\">\n",
       "  <thead>\n",
       "    <tr style=\"text-align: right;\">\n",
       "      <th></th>\n",
       "      <th>Category</th>\n",
       "      <th>Rating</th>\n",
       "      <th>Reviews</th>\n",
       "      <th>Price</th>\n",
       "    </tr>\n",
       "  </thead>\n",
       "  <tbody>\n",
       "    <tr>\n",
       "      <th>0</th>\n",
       "      <td>ART_AND_DESIGN</td>\n",
       "      <td>4.1</td>\n",
       "      <td>159</td>\n",
       "      <td>0</td>\n",
       "    </tr>\n",
       "    <tr>\n",
       "      <th>1</th>\n",
       "      <td>ART_AND_DESIGN</td>\n",
       "      <td>3.9</td>\n",
       "      <td>967</td>\n",
       "      <td>0</td>\n",
       "    </tr>\n",
       "    <tr>\n",
       "      <th>2</th>\n",
       "      <td>ART_AND_DESIGN</td>\n",
       "      <td>4.7</td>\n",
       "      <td>87510</td>\n",
       "      <td>0</td>\n",
       "    </tr>\n",
       "  </tbody>\n",
       "</table>\n",
       "</div>"
      ],
      "text/plain": [
       "         Category  Rating Reviews Price\n",
       "0  ART_AND_DESIGN     4.1     159     0\n",
       "1  ART_AND_DESIGN     3.9     967     0\n",
       "2  ART_AND_DESIGN     4.7   87510     0"
      ]
     },
     "execution_count": 4,
     "metadata": {},
     "output_type": "execute_result"
    }
   ],
   "source": [
    "# Subset our DataFrame object Google by selecting just the variables ['Category', 'Rating', 'Reviews', 'Price']\n",
    "Google= Google[['Category', 'Rating', 'Reviews', 'Price']]\n",
    "\n",
    "# Check the first three entries\n",
    "Google.head(3)"
   ]
  },
  {
   "cell_type": "code",
   "execution_count": 5,
   "metadata": {
    "colab": {},
    "colab_type": "code",
    "id": "AVCtENPtFcu0"
   },
   "outputs": [
    {
     "data": {
      "text/html": [
       "<div>\n",
       "<style scoped>\n",
       "    .dataframe tbody tr th:only-of-type {\n",
       "        vertical-align: middle;\n",
       "    }\n",
       "\n",
       "    .dataframe tbody tr th {\n",
       "        vertical-align: top;\n",
       "    }\n",
       "\n",
       "    .dataframe thead th {\n",
       "        text-align: right;\n",
       "    }\n",
       "</style>\n",
       "<table border=\"1\" class=\"dataframe\">\n",
       "  <thead>\n",
       "    <tr style=\"text-align: right;\">\n",
       "      <th></th>\n",
       "      <th>prime_genre</th>\n",
       "      <th>user_rating</th>\n",
       "      <th>rating_count_tot</th>\n",
       "      <th>price</th>\n",
       "    </tr>\n",
       "  </thead>\n",
       "  <tbody>\n",
       "    <tr>\n",
       "      <th>0</th>\n",
       "      <td>Games</td>\n",
       "      <td>4.0</td>\n",
       "      <td>21292</td>\n",
       "      <td>3.99</td>\n",
       "    </tr>\n",
       "    <tr>\n",
       "      <th>1</th>\n",
       "      <td>Productivity</td>\n",
       "      <td>4.0</td>\n",
       "      <td>161065</td>\n",
       "      <td>0.00</td>\n",
       "    </tr>\n",
       "    <tr>\n",
       "      <th>2</th>\n",
       "      <td>Weather</td>\n",
       "      <td>3.5</td>\n",
       "      <td>188583</td>\n",
       "      <td>0.00</td>\n",
       "    </tr>\n",
       "  </tbody>\n",
       "</table>\n",
       "</div>"
      ],
      "text/plain": [
       "    prime_genre  user_rating  rating_count_tot  price\n",
       "0         Games          4.0             21292   3.99\n",
       "1  Productivity          4.0            161065   0.00\n",
       "2       Weather          3.5            188583   0.00"
      ]
     },
     "execution_count": 5,
     "metadata": {},
     "output_type": "execute_result"
    }
   ],
   "source": [
    "# Do the same with our Apple object, selecting just the variables ['prime_genre', 'user_rating', 'rating_count_tot', 'price']\n",
    "Apple = Apple[['prime_genre', 'user_rating', 'rating_count_tot', 'price']]\n",
    "\n",
    "# Let's check the first three entries\n",
    "Apple.head(3)"
   ]
  },
  {
   "cell_type": "markdown",
   "metadata": {
    "colab_type": "text",
    "id": "wwK2wH-rFcu2"
   },
   "source": [
    "## Stage 2 -  Cleaning, transforming and visualizing"
   ]
  },
  {
   "cell_type": "markdown",
   "metadata": {
    "colab_type": "text",
    "id": "NsoE5x0JFcu3"
   },
   "source": [
    "### 2a. Check the data types for both Apple and Google, and fix them\n",
    "\n",
    "Types are crucial for data science in Python. Let's determine whether the variables we selected in the previous section belong to the types they should do, or whether there are any errors here. "
   ]
  },
  {
   "cell_type": "code",
   "execution_count": 6,
   "metadata": {
    "colab": {},
    "colab_type": "code",
    "id": "ymw10SaWFcu4"
   },
   "outputs": [
    {
     "data": {
      "text/plain": [
       "prime_genre          object\n",
       "user_rating         float64\n",
       "rating_count_tot      int64\n",
       "price               float64\n",
       "dtype: object"
      ]
     },
     "execution_count": 6,
     "metadata": {},
     "output_type": "execute_result"
    }
   ],
   "source": [
    "# Using the dtypes feature of pandas DataFrame objects, check out the data types within our Apple dataframe.\n",
    "# Are they what you expect?\n",
    "Apple.dtypes"
   ]
  },
  {
   "cell_type": "markdown",
   "metadata": {
    "colab_type": "text",
    "id": "VAiM6jIxFcu6"
   },
   "source": [
    "This is looking healthy. But what about our Google data frame?"
   ]
  },
  {
   "cell_type": "code",
   "execution_count": 7,
   "metadata": {
    "colab": {},
    "colab_type": "code",
    "id": "kmP8MhqyFcu7"
   },
   "outputs": [
    {
     "data": {
      "text/plain": [
       "Category     object\n",
       "Rating      float64\n",
       "Reviews      object\n",
       "Price        object\n",
       "dtype: object"
      ]
     },
     "execution_count": 7,
     "metadata": {},
     "output_type": "execute_result"
    }
   ],
   "source": [
    "# Using the same dtypes feature, check out the data types of our Google dataframe. \n",
    "Google.dtypes"
   ]
  },
  {
   "cell_type": "markdown",
   "metadata": {
    "colab_type": "text",
    "id": "O-dxAy0WFcu9"
   },
   "source": [
    "Weird. The data type for the column 'Price' is 'object', not a numeric data type like a float or an integer. Let's investigate the unique values of this column. "
   ]
  },
  {
   "cell_type": "code",
   "execution_count": 8,
   "metadata": {
    "colab": {},
    "colab_type": "code",
    "id": "Hu08K9y7Fcu9"
   },
   "outputs": [
    {
     "data": {
      "text/plain": [
       "array(['0', '$4.99', '$3.99', '$6.99', '$1.49', '$2.99', '$7.99', '$5.99',\n",
       "       '$3.49', '$1.99', '$9.99', '$7.49', '$0.99', '$9.00', '$5.49',\n",
       "       '$10.00', '$24.99', '$11.99', '$79.99', '$16.99', '$14.99',\n",
       "       '$1.00', '$29.99', '$12.99', '$2.49', '$10.99', '$1.50', '$19.99',\n",
       "       '$15.99', '$33.99', '$74.99', '$39.99', '$3.95', '$4.49', '$1.70',\n",
       "       '$8.99', '$2.00', '$3.88', '$25.99', '$399.99', '$17.99',\n",
       "       '$400.00', '$3.02', '$1.76', '$4.84', '$4.77', '$1.61', '$2.50',\n",
       "       '$1.59', '$6.49', '$1.29', '$5.00', '$13.99', '$299.99', '$379.99',\n",
       "       '$37.99', '$18.99', '$389.99', '$19.90', '$8.49', '$1.75',\n",
       "       '$14.00', '$4.85', '$46.99', '$109.99', '$154.99', '$3.08',\n",
       "       '$2.59', '$4.80', '$1.96', '$19.40', '$3.90', '$4.59', '$15.46',\n",
       "       '$3.04', '$4.29', '$2.60', '$3.28', '$4.60', '$28.99', '$2.95',\n",
       "       '$2.90', '$1.97', '$200.00', '$89.99', '$2.56', '$30.99', '$3.61',\n",
       "       '$394.99', '$1.26', 'Everyone', '$1.20', '$1.04'], dtype=object)"
      ]
     },
     "execution_count": 8,
     "metadata": {},
     "output_type": "execute_result"
    }
   ],
   "source": [
    "# Use the unique() pandas method on the Price column to check its unique values. \n",
    "Google['Price'].unique()"
   ]
  },
  {
   "cell_type": "markdown",
   "metadata": {
    "colab_type": "text",
    "id": "w_7nkogFFcu_"
   },
   "source": [
    "Aha! Fascinating. There are actually two issues here. \n",
    "\n",
    "- Firstly, there's a price called `Everyone`. That is a massive mistake! \n",
    "- Secondly, there are dollar symbols everywhere! \n",
    "\n",
    "\n",
    "Let's address the first issue first. Let's check the datapoints that have the price value `Everyone`"
   ]
  },
  {
   "cell_type": "code",
   "execution_count": 9,
   "metadata": {
    "colab": {},
    "colab_type": "code",
    "id": "E75WWmhdFcvA"
   },
   "outputs": [
    {
     "data": {
      "text/html": [
       "<div>\n",
       "<style scoped>\n",
       "    .dataframe tbody tr th:only-of-type {\n",
       "        vertical-align: middle;\n",
       "    }\n",
       "\n",
       "    .dataframe tbody tr th {\n",
       "        vertical-align: top;\n",
       "    }\n",
       "\n",
       "    .dataframe thead th {\n",
       "        text-align: right;\n",
       "    }\n",
       "</style>\n",
       "<table border=\"1\" class=\"dataframe\">\n",
       "  <thead>\n",
       "    <tr style=\"text-align: right;\">\n",
       "      <th></th>\n",
       "      <th>Category</th>\n",
       "      <th>Rating</th>\n",
       "      <th>Reviews</th>\n",
       "      <th>Price</th>\n",
       "    </tr>\n",
       "  </thead>\n",
       "  <tbody>\n",
       "    <tr>\n",
       "      <th>10472</th>\n",
       "      <td>1.9</td>\n",
       "      <td>19.0</td>\n",
       "      <td>3.0M</td>\n",
       "      <td>Everyone</td>\n",
       "    </tr>\n",
       "  </tbody>\n",
       "</table>\n",
       "</div>"
      ],
      "text/plain": [
       "      Category  Rating Reviews     Price\n",
       "10472      1.9    19.0    3.0M  Everyone"
      ]
     },
     "execution_count": 9,
     "metadata": {},
     "output_type": "execute_result"
    }
   ],
   "source": [
    "# Let's check which data points have the value 'Everyone' for the 'Price' column by subsetting our Google dataframe.\n",
    "\n",
    "# Subset the Google dataframe on the price column. \n",
    "# To be sure: you want to pick out just those rows whose value for the 'Price' column is just 'Everyone'. \n",
    "Google[Google['Price']=='Everyone']"
   ]
  },
  {
   "cell_type": "markdown",
   "metadata": {
    "colab_type": "text",
    "id": "ezfLshdRFcvC"
   },
   "source": [
    "Thankfully, it's just one row. We've gotta get rid of it. "
   ]
  },
  {
   "cell_type": "code",
   "execution_count": 10,
   "metadata": {
    "colab": {},
    "colab_type": "code",
    "id": "DBmjUQUkFcvD"
   },
   "outputs": [
    {
     "data": {
      "text/plain": [
       "array(['0', '$4.99', '$3.99', '$6.99', '$1.49', '$2.99', '$7.99', '$5.99',\n",
       "       '$3.49', '$1.99', '$9.99', '$7.49', '$0.99', '$9.00', '$5.49',\n",
       "       '$10.00', '$24.99', '$11.99', '$79.99', '$16.99', '$14.99',\n",
       "       '$1.00', '$29.99', '$12.99', '$2.49', '$10.99', '$1.50', '$19.99',\n",
       "       '$15.99', '$33.99', '$74.99', '$39.99', '$3.95', '$4.49', '$1.70',\n",
       "       '$8.99', '$2.00', '$3.88', '$25.99', '$399.99', '$17.99',\n",
       "       '$400.00', '$3.02', '$1.76', '$4.84', '$4.77', '$1.61', '$2.50',\n",
       "       '$1.59', '$6.49', '$1.29', '$5.00', '$13.99', '$299.99', '$379.99',\n",
       "       '$37.99', '$18.99', '$389.99', '$19.90', '$8.49', '$1.75',\n",
       "       '$14.00', '$4.85', '$46.99', '$109.99', '$154.99', '$3.08',\n",
       "       '$2.59', '$4.80', '$1.96', '$19.40', '$3.90', '$4.59', '$15.46',\n",
       "       '$3.04', '$4.29', '$2.60', '$3.28', '$4.60', '$28.99', '$2.95',\n",
       "       '$2.90', '$1.97', '$200.00', '$89.99', '$2.56', '$30.99', '$3.61',\n",
       "       '$394.99', '$1.26', '$1.20', '$1.04'], dtype=object)"
      ]
     },
     "execution_count": 10,
     "metadata": {},
     "output_type": "execute_result"
    }
   ],
   "source": [
    "# Let's eliminate that row. \n",
    "\n",
    "# Subset our Google dataframe to pick out just those rows whose value for the 'Price' column is NOT 'Everyone'. \n",
    "# Reassign that subset to the Google variable. \n",
    "# You can do this in two lines or one. Your choice! \n",
    "Google = Google[Google['Price']!='Everyone']\n",
    "# Check again the unique values of Google\n",
    "Google['Price'].unique()"
   ]
  },
  {
   "cell_type": "markdown",
   "metadata": {
    "colab_type": "text",
    "id": "T43TB4qFFcvF"
   },
   "source": [
    "Our second problem remains: I'm seeing dollar symbols when I close my eyes! (And not in a good way). \n",
    "\n",
    "This is a problem because Python actually considers these values strings. So we can't do mathematical and statistical operations on them until we've made them into numbers. "
   ]
  },
  {
   "cell_type": "code",
   "execution_count": 11,
   "metadata": {
    "colab": {},
    "colab_type": "code",
    "id": "W87gVS9BFcvG"
   },
   "outputs": [],
   "source": [
    "# Let's create a variable called nosymb.\n",
    "# This variable will take the Price column of Google and apply the str.replace() method. \n",
    "Google['Price'] = Google['Price'].str.replace('$','')\n",
    "\n",
    "# Now we need to do two things:\n",
    "# i. Make the values in the nosymb variable numeric using the to_numeric() pandas method.\n",
    "# ii. Assign this new set of numeric, dollar-sign-less values to Google['Price']. \n",
    "# You can do this in one line if you wish.\n",
    "Google['Price'] = pd.to_numeric(Google['Price'])"
   ]
  },
  {
   "cell_type": "markdown",
   "metadata": {
    "colab_type": "text",
    "id": "LxpJQ9yyFcvI"
   },
   "source": [
    "Now let's check the data types for our Google dataframe again, to verify that the 'Price' column really is numeric now."
   ]
  },
  {
   "cell_type": "code",
   "execution_count": 12,
   "metadata": {
    "colab": {},
    "colab_type": "code",
    "id": "Fn5Gt-QbFcvI"
   },
   "outputs": [
    {
     "data": {
      "text/plain": [
       "Category     object\n",
       "Rating      float64\n",
       "Reviews      object\n",
       "Price       float64\n",
       "dtype: object"
      ]
     },
     "execution_count": 12,
     "metadata": {},
     "output_type": "execute_result"
    }
   ],
   "source": [
    "# Use the function dtypes. \n",
    "Google.dtypes"
   ]
  },
  {
   "cell_type": "markdown",
   "metadata": {
    "colab_type": "text",
    "id": "FgfuiVo0FcvK"
   },
   "source": [
    "Notice that the column `Reviews` is still an object column. We actually need this column to be a numeric column, too. "
   ]
  },
  {
   "cell_type": "code",
   "execution_count": 13,
   "metadata": {
    "colab": {},
    "colab_type": "code",
    "id": "MiVEWsWBFcvL"
   },
   "outputs": [],
   "source": [
    "# Convert the 'Reviews' column to a numeric data type. \n",
    "Google['Reviews'] = pd.to_numeric(Google['Reviews'])"
   ]
  },
  {
   "cell_type": "code",
   "execution_count": 14,
   "metadata": {
    "colab": {},
    "colab_type": "code",
    "id": "wWJdXXTTFcvN"
   },
   "outputs": [
    {
     "data": {
      "text/plain": [
       "Category     object\n",
       "Rating      float64\n",
       "Reviews       int64\n",
       "Price       float64\n",
       "dtype: object"
      ]
     },
     "execution_count": 14,
     "metadata": {},
     "output_type": "execute_result"
    }
   ],
   "source": [
    "# Let's check the data types of Google again\n",
    "Google.dtypes"
   ]
  },
  {
   "cell_type": "markdown",
   "metadata": {
    "colab_type": "text",
    "id": "OiLm2GEKFcvP"
   },
   "source": [
    "### 2b. Add a `platform` column to both the `Apple` and the `Google` dataframes\n",
    "Let's add a new column to both dataframe objects called `platform`: all of its values in the Google dataframe will be just 'google', and all of its values for the Apple dataframe will be just 'apple'. \n",
    "\n",
    "The reason we're making this column is so that we can ultimately join our Apple and Google data together, and actually test out some hypotheses to solve the problem in our brief. "
   ]
  },
  {
   "cell_type": "code",
   "execution_count": 15,
   "metadata": {
    "colab": {},
    "colab_type": "code",
    "id": "mF-sOcx2FcvQ"
   },
   "outputs": [],
   "source": [
    "# Create a column called 'platform' in both the Apple and Google dataframes. \n",
    "# Add the value 'apple' and the value 'google' as appropriate. \n",
    "Google['platform']='google'\n",
    "Apple['platform'] = 'apple'"
   ]
  },
  {
   "cell_type": "markdown",
   "metadata": {
    "colab_type": "text",
    "id": "EJcry17IFcvS"
   },
   "source": [
    "### 2c. Changing the column names to prepare for our join of the two datasets \n",
    "Since the easiest way to join two datasets is if they have both:\n",
    "- the same number of columns\n",
    "- the same column names\n",
    "we need to rename the columns of `Apple` so that they're the same as the ones of `Google`, or vice versa.\n",
    "\n",
    "In this case, we're going to change the `Apple` columns names to the names of the `Google` columns. \n",
    "\n",
    "This is an important step to unify the two datasets!"
   ]
  },
  {
   "cell_type": "code",
   "execution_count": 16,
   "metadata": {
    "colab": {},
    "colab_type": "code",
    "id": "bdt9XH2KFcvT"
   },
   "outputs": [],
   "source": [
    "# Create a variable called old_names where you'll store the column names of the Apple dataframe. \n",
    "# Use the feature .columns.\n",
    "old_names = list(Apple.columns)\n",
    "\n",
    "# Create a variable called new_names where you'll store the column names of the Google dataframe. \n",
    "new_names = list(Google.columns)\n",
    "\n",
    "# Use the rename() DataFrame method to change the columns names. \n",
    "Apple.rename(columns= {i:j for i,j in zip(old_names, new_names)},inplace= True)"
   ]
  },
  {
   "cell_type": "markdown",
   "metadata": {
    "colab_type": "text",
    "id": "qewPiLrRFcvX"
   },
   "source": [
    "### 2d. Join the two datasets \n",
    "Let's combine the two datasets into a single data frame called `df`."
   ]
  },
  {
   "cell_type": "code",
   "execution_count": 17,
   "metadata": {
    "colab": {},
    "colab_type": "code",
    "id": "jq6fGfvyFcvY"
   },
   "outputs": [
    {
     "data": {
      "text/html": [
       "<div>\n",
       "<style scoped>\n",
       "    .dataframe tbody tr th:only-of-type {\n",
       "        vertical-align: middle;\n",
       "    }\n",
       "\n",
       "    .dataframe tbody tr th {\n",
       "        vertical-align: top;\n",
       "    }\n",
       "\n",
       "    .dataframe thead th {\n",
       "        text-align: right;\n",
       "    }\n",
       "</style>\n",
       "<table border=\"1\" class=\"dataframe\">\n",
       "  <thead>\n",
       "    <tr style=\"text-align: right;\">\n",
       "      <th></th>\n",
       "      <th>Category</th>\n",
       "      <th>Rating</th>\n",
       "      <th>Reviews</th>\n",
       "      <th>Price</th>\n",
       "      <th>platform</th>\n",
       "    </tr>\n",
       "  </thead>\n",
       "  <tbody>\n",
       "    <tr>\n",
       "      <th>2326</th>\n",
       "      <td>MEDICAL</td>\n",
       "      <td>4.0</td>\n",
       "      <td>3803</td>\n",
       "      <td>0.00</td>\n",
       "      <td>google</td>\n",
       "    </tr>\n",
       "    <tr>\n",
       "      <th>3733</th>\n",
       "      <td>NEWS_AND_MAGAZINES</td>\n",
       "      <td>4.1</td>\n",
       "      <td>185058</td>\n",
       "      <td>0.00</td>\n",
       "      <td>google</td>\n",
       "    </tr>\n",
       "    <tr>\n",
       "      <th>1953</th>\n",
       "      <td>GAME</td>\n",
       "      <td>4.1</td>\n",
       "      <td>347883</td>\n",
       "      <td>0.00</td>\n",
       "      <td>google</td>\n",
       "    </tr>\n",
       "    <tr>\n",
       "      <th>4056</th>\n",
       "      <td>SPORTS</td>\n",
       "      <td>4.6</td>\n",
       "      <td>9873470</td>\n",
       "      <td>0.00</td>\n",
       "      <td>google</td>\n",
       "    </tr>\n",
       "    <tr>\n",
       "      <th>2282</th>\n",
       "      <td>Games</td>\n",
       "      <td>4.0</td>\n",
       "      <td>1784</td>\n",
       "      <td>4.99</td>\n",
       "      <td>apple</td>\n",
       "    </tr>\n",
       "    <tr>\n",
       "      <th>4784</th>\n",
       "      <td>GAME</td>\n",
       "      <td>4.5</td>\n",
       "      <td>10748</td>\n",
       "      <td>0.00</td>\n",
       "      <td>google</td>\n",
       "    </tr>\n",
       "    <tr>\n",
       "      <th>3721</th>\n",
       "      <td>Games</td>\n",
       "      <td>4.0</td>\n",
       "      <td>5</td>\n",
       "      <td>0.00</td>\n",
       "      <td>apple</td>\n",
       "    </tr>\n",
       "    <tr>\n",
       "      <th>477</th>\n",
       "      <td>Social Networking</td>\n",
       "      <td>4.5</td>\n",
       "      <td>164249</td>\n",
       "      <td>0.00</td>\n",
       "      <td>apple</td>\n",
       "    </tr>\n",
       "    <tr>\n",
       "      <th>3778</th>\n",
       "      <td>NEWS_AND_MAGAZINES</td>\n",
       "      <td>3.9</td>\n",
       "      <td>6105</td>\n",
       "      <td>0.00</td>\n",
       "      <td>google</td>\n",
       "    </tr>\n",
       "    <tr>\n",
       "      <th>2409</th>\n",
       "      <td>MEDICAL</td>\n",
       "      <td>4.4</td>\n",
       "      <td>8</td>\n",
       "      <td>12.99</td>\n",
       "      <td>google</td>\n",
       "    </tr>\n",
       "    <tr>\n",
       "      <th>798</th>\n",
       "      <td>EDUCATION</td>\n",
       "      <td>4.7</td>\n",
       "      <td>142632</td>\n",
       "      <td>0.00</td>\n",
       "      <td>google</td>\n",
       "    </tr>\n",
       "    <tr>\n",
       "      <th>139</th>\n",
       "      <td>Games</td>\n",
       "      <td>4.5</td>\n",
       "      <td>21416</td>\n",
       "      <td>0.99</td>\n",
       "      <td>apple</td>\n",
       "    </tr>\n",
       "  </tbody>\n",
       "</table>\n",
       "</div>"
      ],
      "text/plain": [
       "                Category  Rating  Reviews  Price platform\n",
       "2326             MEDICAL     4.0     3803   0.00   google\n",
       "3733  NEWS_AND_MAGAZINES     4.1   185058   0.00   google\n",
       "1953                GAME     4.1   347883   0.00   google\n",
       "4056              SPORTS     4.6  9873470   0.00   google\n",
       "2282               Games     4.0     1784   4.99    apple\n",
       "4784                GAME     4.5    10748   0.00   google\n",
       "3721               Games     4.0        5   0.00    apple\n",
       "477    Social Networking     4.5   164249   0.00    apple\n",
       "3778  NEWS_AND_MAGAZINES     3.9     6105   0.00   google\n",
       "2409             MEDICAL     4.4        8  12.99   google\n",
       "798            EDUCATION     4.7   142632   0.00   google\n",
       "139                Games     4.5    21416   0.99    apple"
      ]
     },
     "execution_count": 17,
     "metadata": {},
     "output_type": "execute_result"
    }
   ],
   "source": [
    "# Let's use the append() method to append Apple to Google. \n",
    "df= Google.append(Apple)\n",
    "\n",
    "# Using the sample() method with the number 12 passed to it, check 12 random points of your dataset.\n",
    "df.sample(12)"
   ]
  },
  {
   "cell_type": "markdown",
   "metadata": {
    "colab_type": "text",
    "id": "FjqsHugWFcvb"
   },
   "source": [
    "### 2e. Eliminate the NaN values\n",
    "\n",
    "As you can see there are some `NaN` values. We want to eliminate all these `NaN` values from the table."
   ]
  },
  {
   "cell_type": "code",
   "execution_count": 18,
   "metadata": {
    "colab": {},
    "colab_type": "code",
    "id": "Gp2q6GLyFcvb"
   },
   "outputs": [
    {
     "data": {
      "text/plain": [
       "(16563, 5)"
      ]
     },
     "execution_count": 18,
     "metadata": {},
     "output_type": "execute_result"
    }
   ],
   "source": [
    "# Lets check first the dimesions of df before droping `NaN` values. Use the .shape feature. \n",
    "df.shape\n",
    "\n",
    "# Use the dropna() method to eliminate all the NaN values, and overwrite the same dataframe with the result. \n",
    "df.dropna(axis=0,how='any',inplace=True)\n",
    "\n",
    "# Check the new dimesions of our dataframe. \n",
    "df.shape"
   ]
  },
  {
   "cell_type": "markdown",
   "metadata": {
    "colab_type": "text",
    "id": "qtfeQKtAFcvd"
   },
   "source": [
    "### 2f. Filter the data so that we only see whose apps that have been reviewed at least once\n",
    "\n",
    "Apps that haven't been reviewed yet can't help us solve our brief. \n",
    "\n",
    "So let's check to see if any apps have no reviews at all. "
   ]
  },
  {
   "cell_type": "code",
   "execution_count": 19,
   "metadata": {
    "colab": {},
    "colab_type": "code",
    "id": "Ge9OKXLNFcvd"
   },
   "outputs": [
    {
     "data": {
      "text/plain": [
       "Category    929\n",
       "Rating      929\n",
       "Reviews     929\n",
       "Price       929\n",
       "platform    929\n",
       "dtype: int64"
      ]
     },
     "execution_count": 19,
     "metadata": {},
     "output_type": "execute_result"
    }
   ],
   "source": [
    "# Subset your df to pick out just those rows whose value for 'Reviews' is equal to 0. \n",
    "# Do a count() on the result. \n",
    "df[df['Reviews']==0].count()"
   ]
  },
  {
   "cell_type": "markdown",
   "metadata": {
    "colab_type": "text",
    "id": "05f7H0kAFcvg"
   },
   "source": [
    "929 apps do not have reviews, we need to eliminate these points!"
   ]
  },
  {
   "cell_type": "code",
   "execution_count": 20,
   "metadata": {
    "colab": {},
    "colab_type": "code",
    "id": "pD8vmPjkFcvg"
   },
   "outputs": [
    {
     "data": {
      "text/plain": [
       "(15634, 5)"
      ]
     },
     "execution_count": 20,
     "metadata": {},
     "output_type": "execute_result"
    }
   ],
   "source": [
    "# Eliminate the points that have 0 reviews.\n",
    "df = df[df['Reviews'] != 0]\n",
    "df.shape"
   ]
  },
  {
   "cell_type": "markdown",
   "metadata": {
    "colab_type": "text",
    "id": "ApnKES_bFcvi"
   },
   "source": [
    "### 2g. Summarize the data visually and analytically (by the column `platform`)"
   ]
  },
  {
   "cell_type": "markdown",
   "metadata": {
    "colab_type": "text",
    "id": "2smt9UocFcvj"
   },
   "source": [
    "What we need to solve our brief is a summary of the `Rating` column, but separated by the different platforms."
   ]
  },
  {
   "cell_type": "code",
   "execution_count": 21,
   "metadata": {
    "colab": {},
    "colab_type": "code",
    "id": "Vqckt347Fcvj"
   },
   "outputs": [
    {
     "data": {
      "text/plain": [
       "platform\n",
       "apple     4.049697\n",
       "google    4.191757\n",
       "Name: Rating, dtype: float64"
      ]
     },
     "execution_count": 21,
     "metadata": {},
     "output_type": "execute_result"
    }
   ],
   "source": [
    "# To summarize analytically, let's use the groupby() method on our df.\n",
    "df['Rating'].groupby(df['platform']).mean()"
   ]
  },
  {
   "cell_type": "markdown",
   "metadata": {
    "colab_type": "text",
    "id": "8f9TqMtKFcvl"
   },
   "source": [
    "Interesting! Our means of 4.049697 and 4.191757 don't **seem** all that different! Perhaps we've solved our brief already: there's no significant difference between Google Play app reviews and Apple Store app reviews. We have an ***observed difference*** here: which is simply (4.191757 - 4.049697) = 0.14206. This is just the actual difference that we observed between the mean rating for apps from Google Play, and the mean rating for apps from the Apple Store. Let's look at how we're going to use this observed difference to solve our problem using a statistical test. \n",
    "\n",
    "**Outline of our method:**\n",
    "1. We'll assume that platform (i.e, whether the app was Google or Apple) really doesn’t impact on ratings. \n",
    "\n",
    "\n",
    "2. Given this assumption, we should actually be able to get a difference in mean rating for Apple apps and mean rating for Google apps that's pretty similar to the one we actually got (0.14206) just by: \n",
    "a. shuffling the ratings column, \n",
    "b. keeping the platform column the same,\n",
    "c. calculating the difference between the mean rating for Apple and the mean rating for Google. \n",
    "\n",
    "\n",
    "3. We can make the shuffle more useful by doing it many times, each time calculating the mean rating for Apple apps and the mean rating for Google apps, and the difference between these means. \n",
    "\n",
    "\n",
    "4. We can then take the mean of all these differences, and this will be called our permutation difference. This permutation difference will be great indicator of what the difference would be if our initial assumption were true and platform really doesn’t impact on ratings. \n",
    "\n",
    "\n",
    "5. Now we do a comparison. If the observed difference looks just like the permutation difference, then we stick with the claim that actually, platform doesn’t impact on ratings. If instead, however, the permutation difference differs significantly from the observed difference, we'll conclude: something's going on; the platform does in fact impact on ratings. \n",
    "\n",
    "\n",
    "6. As for what the definition of *significantly* is, we'll get to that. But there’s a brief summary of what we're going to do. Exciting!\n",
    "\n",
    "If you want to look more deeply at the statistics behind this project, check out [this resource](https://www.springboard.com/archeio/download/4ea4d453b0b84014bcef287c50f47f00/)."
   ]
  },
  {
   "cell_type": "markdown",
   "metadata": {
    "colab_type": "text",
    "id": "d6EhTxArFcvm"
   },
   "source": [
    "Let's also get a **visual summary** of the `Rating` column, separated by the different platforms. \n",
    "\n",
    "A good tool to use here is the boxplot!"
   ]
  },
  {
   "cell_type": "code",
   "execution_count": 22,
   "metadata": {
    "colab": {},
    "colab_type": "code",
    "id": "hFKjrlWgFcvm"
   },
   "outputs": [
    {
     "data": {
      "text/plain": [
       "<AxesSubplot:>"
      ]
     },
     "execution_count": 22,
     "metadata": {},
     "output_type": "execute_result"
    },
    {
     "data": {
      "image/png": "[encoded data removed]",
      "text/plain": [
       "<Figure size 432x288 with 1 Axes>"
      ]
     },
     "metadata": {
      "needs_background": "light"
     },
     "output_type": "display_data"
    }
   ],
   "source": [
    "# Call the boxplot() method on our df.\n",
    "df.boxplot()"
   ]
  },
  {
   "cell_type": "markdown",
   "metadata": {
    "colab_type": "text",
    "id": "FqTlAjnmFcvo"
   },
   "source": [
    "Here we see the same information as in the analytical summary, but with a boxplot. Can you see how the boxplot is working here? If you need to revise your boxplots, check out this this [link](https://www.kaggle.com/ramamet4/app-store-apple-data-set-10k-apps). "
   ]
  },
  {
   "cell_type": "markdown",
   "metadata": {
    "colab_type": "text",
    "id": "O8L-s1fgFcvp"
   },
   "source": [
    "## Stage 3 - Modelling"
   ]
  },
  {
   "cell_type": "markdown",
   "metadata": {
    "colab_type": "text",
    "id": "5fbRq2MZFcvq"
   },
   "source": [
    "### 3a. Hypothesis formulation\n",
    "\n",
    "Our **Null hypothesis** is just:\n",
    "\n",
    "**H<sub>null</sub>**: the observed difference in the mean rating of Apple Store and Google Play apps is due to chance (and thus not due to the platform).\n",
    "\n",
    "The more interesting hypothesis is called the **Alternate hypothesis**:\n",
    "\n",
    "**H<sub>alternative</sub>**: the observed difference in the average ratings of apple and google users is not due to chance (and is actually due to platform)\n",
    "\n",
    "We're also going to pick a **significance level** of 0.05. "
   ]
  },
  {
   "cell_type": "markdown",
   "metadata": {
    "colab_type": "text",
    "id": "TjBqkabaFcvq"
   },
   "source": [
    "### 3b. Getting the distribution of the data\n",
    "Now that the hypotheses and significance level are defined, we can select a statistical test to determine which hypothesis to accept. \n",
    "\n",
    "There are many different statistical tests, all with different assumptions. You'll generate an excellent judgement about when to use which statistical tests over the Data Science Career Track course. But in general, one of the most important things to determine is the **distribution of the data**.   "
   ]
  },
  {
   "cell_type": "code",
   "execution_count": 23,
   "metadata": {
    "colab": {},
    "colab_type": "code",
    "id": "bFwVhkeWFcvr"
   },
   "outputs": [
    {
     "data": {
      "text/html": [
       "<div>\n",
       "<style scoped>\n",
       "    .dataframe tbody tr th:only-of-type {\n",
       "        vertical-align: middle;\n",
       "    }\n",
       "\n",
       "    .dataframe tbody tr th {\n",
       "        vertical-align: top;\n",
       "    }\n",
       "\n",
       "    .dataframe thead th {\n",
       "        text-align: right;\n",
       "    }\n",
       "</style>\n",
       "<table border=\"1\" class=\"dataframe\">\n",
       "  <thead>\n",
       "    <tr style=\"text-align: right;\">\n",
       "      <th></th>\n",
       "      <th>Category</th>\n",
       "      <th>Rating</th>\n",
       "      <th>Reviews</th>\n",
       "      <th>Price</th>\n",
       "      <th>platform</th>\n",
       "    </tr>\n",
       "  </thead>\n",
       "  <tbody>\n",
       "    <tr>\n",
       "      <th>0</th>\n",
       "      <td>ART_AND_DESIGN</td>\n",
       "      <td>4.1</td>\n",
       "      <td>159</td>\n",
       "      <td>0.0</td>\n",
       "      <td>google</td>\n",
       "    </tr>\n",
       "    <tr>\n",
       "      <th>1</th>\n",
       "      <td>ART_AND_DESIGN</td>\n",
       "      <td>3.9</td>\n",
       "      <td>967</td>\n",
       "      <td>0.0</td>\n",
       "      <td>google</td>\n",
       "    </tr>\n",
       "    <tr>\n",
       "      <th>2</th>\n",
       "      <td>ART_AND_DESIGN</td>\n",
       "      <td>4.7</td>\n",
       "      <td>87510</td>\n",
       "      <td>0.0</td>\n",
       "      <td>google</td>\n",
       "    </tr>\n",
       "  </tbody>\n",
       "</table>\n",
       "</div>"
      ],
      "text/plain": [
       "         Category  Rating  Reviews  Price platform\n",
       "0  ART_AND_DESIGN     4.1      159    0.0   google\n",
       "1  ART_AND_DESIGN     3.9      967    0.0   google\n",
       "2  ART_AND_DESIGN     4.7    87510    0.0   google"
      ]
     },
     "execution_count": 23,
     "metadata": {},
     "output_type": "execute_result"
    }
   ],
   "source": [
    "# Create a subset of the column 'Rating' by the different platforms.\n",
    "# Call the subsets 'apple' and 'google' \n",
    "df.head(3)\n"
   ]
  },
  {
   "cell_type": "code",
   "execution_count": 25,
   "metadata": {
    "colab": {},
    "colab_type": "code",
    "id": "oPPFpwPvFcvu"
   },
   "outputs": [
    {
     "name": "stdout",
     "output_type": "stream",
     "text": [
      "NormaltestResult(statistic=1778.9974234584017, pvalue=0.0)\n"
     ]
    }
   ],
   "source": [
    "# Using the stats.normaltest() method, get an indication of whether the apple data are normally distributed\n",
    "# Save the result in a variable called apple_normal, and print it out\n",
    "apple = df.loc[df['platform']=='apple', 'Rating']\n",
    "apple_normal = stats.normaltest(apple)\n",
    "print(apple_normal)"
   ]
  },
  {
   "cell_type": "code",
   "execution_count": 26,
   "metadata": {
    "colab": {},
    "colab_type": "code",
    "id": "rCdh8a8KFcvw"
   },
   "outputs": [
    {
     "name": "stdout",
     "output_type": "stream",
     "text": [
      "NormaltestResult(statistic=3678.6157187516856, pvalue=0.0)\n"
     ]
    }
   ],
   "source": [
    "# Do the same with the google data. \n",
    "google = df.loc[df['platform']=='google','Rating']\n",
    "google_normal = stats.normaltest(google)\n",
    "print(google_normal)"
   ]
  },
  {
   "cell_type": "markdown",
   "metadata": {
    "colab_type": "text",
    "id": "9gDqu21yFcv0"
   },
   "source": [
    "Since the null hypothesis of the normaltest() is that the data are normally distributed, the lower the p-value in the result of this test, the more likely the data are to be non-normal. \n",
    "\n",
    "Since the p-values is 0 for both tests, regardless of what we pick for the significance level, our conclusion is that the data are not normally distributed. \n",
    "\n",
    "We can actually also check out the distribution of the data visually with a histogram. A normal distribution has the following visual characteristics:\n",
    "    - symmetric\n",
    "    - unimodal (one hump)\n",
    "As well as a roughly identical mean, median and mode. "
   ]
  },
  {
   "cell_type": "code",
   "execution_count": 27,
   "metadata": {
    "colab": {},
    "colab_type": "code",
    "id": "P9tT9RjNFcv1"
   },
   "outputs": [
    {
     "data": {
      "image/png": "[encoded data removed]",
      "text/plain": [
       "<Figure size 432x288 with 1 Axes>"
      ]
     },
     "metadata": {
      "needs_background": "light"
     },
     "output_type": "display_data"
    }
   ],
   "source": [
    "# Create a histogram of the apple reviews distribution\n",
    "_ = plt.hist(apple)\n",
    "_ = plt.xlabel('Apple Review')\n",
    "_ = plt.ylabel('Count')\n",
    "plt.show()"
   ]
  },
  {
   "cell_type": "code",
   "execution_count": 28,
   "metadata": {
    "colab": {},
    "colab_type": "code",
    "id": "8dE1uC5iFcv2"
   },
   "outputs": [
    {
     "data": {
      "image/png": "[encoded data removed]",
      "text/plain": [
       "<Figure size 432x288 with 1 Axes>"
      ]
     },
     "metadata": {
      "needs_background": "light"
     },
     "output_type": "display_data"
    }
   ],
   "source": [
    "# Create a histogram of the google data\n",
    "_ = plt.hist(google)\n",
    "_ = plt.xlabel('Google Review')\n",
    "_ = plt.ylabel('Count')\n",
    "plt.show()"
   ]
  },
  {
   "cell_type": "markdown",
   "metadata": {
    "colab_type": "text",
    "id": "QhZV89FzFcv5"
   },
   "source": [
    "### 3c. Permutation test\n",
    "Since the data aren't normally distributed, we're using a *non-parametric* test here. This is simply a label for statistical tests used when the data aren't normally distributed. These tests are extraordinarily powerful due to how few assumptions we need to make.  \n",
    "\n",
    "Check out more about permutations [here.](http://rasbt.github.io/mlxtend/user_guide/evaluate/permutation_test/)"
   ]
  },
  {
   "cell_type": "code",
   "execution_count": 29,
   "metadata": {
    "colab": {},
    "colab_type": "code",
    "id": "bxNhQgpqFcv6"
   },
   "outputs": [
    {
     "data": {
      "text/html": [
       "<div>\n",
       "<style scoped>\n",
       "    .dataframe tbody tr th:only-of-type {\n",
       "        vertical-align: middle;\n",
       "    }\n",
       "\n",
       "    .dataframe tbody tr th {\n",
       "        vertical-align: top;\n",
       "    }\n",
       "\n",
       "    .dataframe thead th {\n",
       "        text-align: right;\n",
       "    }\n",
       "</style>\n",
       "<table border=\"1\" class=\"dataframe\">\n",
       "  <thead>\n",
       "    <tr style=\"text-align: right;\">\n",
       "      <th></th>\n",
       "      <th>count</th>\n",
       "      <th>mean</th>\n",
       "      <th>std</th>\n",
       "      <th>min</th>\n",
       "      <th>25%</th>\n",
       "      <th>50%</th>\n",
       "      <th>75%</th>\n",
       "      <th>max</th>\n",
       "    </tr>\n",
       "    <tr>\n",
       "      <th>platform</th>\n",
       "      <th></th>\n",
       "      <th></th>\n",
       "      <th></th>\n",
       "      <th></th>\n",
       "      <th></th>\n",
       "      <th></th>\n",
       "      <th></th>\n",
       "      <th></th>\n",
       "    </tr>\n",
       "  </thead>\n",
       "  <tbody>\n",
       "    <tr>\n",
       "      <th>apple</th>\n",
       "      <td>6268.0</td>\n",
       "      <td>4.130105</td>\n",
       "      <td>0.618794</td>\n",
       "      <td>1.0</td>\n",
       "      <td>4.0</td>\n",
       "      <td>4.3</td>\n",
       "      <td>4.5</td>\n",
       "      <td>5.0</td>\n",
       "    </tr>\n",
       "    <tr>\n",
       "      <th>google</th>\n",
       "      <td>9366.0</td>\n",
       "      <td>4.137946</td>\n",
       "      <td>0.609026</td>\n",
       "      <td>1.0</td>\n",
       "      <td>4.0</td>\n",
       "      <td>4.3</td>\n",
       "      <td>4.5</td>\n",
       "      <td>5.0</td>\n",
       "    </tr>\n",
       "  </tbody>\n",
       "</table>\n",
       "</div>"
      ],
      "text/plain": [
       "           count      mean       std  min  25%  50%  75%  max\n",
       "platform                                                     \n",
       "apple     6268.0  4.130105  0.618794  1.0  4.0  4.3  4.5  5.0\n",
       "google    9366.0  4.137946  0.609026  1.0  4.0  4.3  4.5  5.0"
      ]
     },
     "execution_count": 29,
     "metadata": {},
     "output_type": "execute_result"
    }
   ],
   "source": [
    "# Create a column called `Permutation1`, and assign to it the result of permuting (shuffling) the Rating column\n",
    "# This assignment will use our numpy object's random.permutation() method\n",
    "df['Permutation1'] = np.random.permutation(df['Rating'])\n",
    "\n",
    "# Call the describe() method on our permutation grouped by 'platform'. \n",
    "df['Permutation1'].groupby(df['platform']).describe()"
   ]
  },
  {
   "cell_type": "code",
   "execution_count": 30,
   "metadata": {
    "colab": {},
    "colab_type": "code",
    "id": "AaGNfPGTFcv7"
   },
   "outputs": [
    {
     "data": {
      "text/html": [
       "<div>\n",
       "<style scoped>\n",
       "    .dataframe tbody tr th:only-of-type {\n",
       "        vertical-align: middle;\n",
       "    }\n",
       "\n",
       "    .dataframe tbody tr th {\n",
       "        vertical-align: top;\n",
       "    }\n",
       "\n",
       "    .dataframe thead th {\n",
       "        text-align: right;\n",
       "    }\n",
       "</style>\n",
       "<table border=\"1\" class=\"dataframe\">\n",
       "  <thead>\n",
       "    <tr style=\"text-align: right;\">\n",
       "      <th></th>\n",
       "      <th>count</th>\n",
       "      <th>mean</th>\n",
       "      <th>std</th>\n",
       "      <th>min</th>\n",
       "      <th>25%</th>\n",
       "      <th>50%</th>\n",
       "      <th>75%</th>\n",
       "      <th>max</th>\n",
       "    </tr>\n",
       "    <tr>\n",
       "      <th>platform</th>\n",
       "      <th></th>\n",
       "      <th></th>\n",
       "      <th></th>\n",
       "      <th></th>\n",
       "      <th></th>\n",
       "      <th></th>\n",
       "      <th></th>\n",
       "      <th></th>\n",
       "    </tr>\n",
       "  </thead>\n",
       "  <tbody>\n",
       "    <tr>\n",
       "      <th>apple</th>\n",
       "      <td>6268.0</td>\n",
       "      <td>4.049697</td>\n",
       "      <td>0.726943</td>\n",
       "      <td>1.0</td>\n",
       "      <td>4.0</td>\n",
       "      <td>4.5</td>\n",
       "      <td>4.5</td>\n",
       "      <td>5.0</td>\n",
       "    </tr>\n",
       "    <tr>\n",
       "      <th>google</th>\n",
       "      <td>9366.0</td>\n",
       "      <td>4.191757</td>\n",
       "      <td>0.515219</td>\n",
       "      <td>1.0</td>\n",
       "      <td>4.0</td>\n",
       "      <td>4.3</td>\n",
       "      <td>4.5</td>\n",
       "      <td>5.0</td>\n",
       "    </tr>\n",
       "  </tbody>\n",
       "</table>\n",
       "</div>"
      ],
      "text/plain": [
       "           count      mean       std  min  25%  50%  75%  max\n",
       "platform                                                     \n",
       "apple     6268.0  4.049697  0.726943  1.0  4.0  4.5  4.5  5.0\n",
       "google    9366.0  4.191757  0.515219  1.0  4.0  4.3  4.5  5.0"
      ]
     },
     "execution_count": 30,
     "metadata": {},
     "output_type": "execute_result"
    }
   ],
   "source": [
    "# Lets compare with the previous analytical summary:\n",
    "df['Rating'].groupby(df['platform']).describe()"
   ]
  },
  {
   "cell_type": "code",
   "execution_count": 32,
   "metadata": {},
   "outputs": [
    {
     "data": {
      "text/html": [
       "<div>\n",
       "<style scoped>\n",
       "    .dataframe tbody tr th:only-of-type {\n",
       "        vertical-align: middle;\n",
       "    }\n",
       "\n",
       "    .dataframe tbody tr th {\n",
       "        vertical-align: top;\n",
       "    }\n",
       "\n",
       "    .dataframe thead th {\n",
       "        text-align: right;\n",
       "    }\n",
       "</style>\n",
       "<table border=\"1\" class=\"dataframe\">\n",
       "  <thead>\n",
       "    <tr style=\"text-align: right;\">\n",
       "      <th></th>\n",
       "      <th>count</th>\n",
       "      <th>mean</th>\n",
       "      <th>std</th>\n",
       "      <th>min</th>\n",
       "      <th>25%</th>\n",
       "      <th>50%</th>\n",
       "      <th>75%</th>\n",
       "      <th>max</th>\n",
       "    </tr>\n",
       "    <tr>\n",
       "      <th>platform</th>\n",
       "      <th></th>\n",
       "      <th></th>\n",
       "      <th></th>\n",
       "      <th></th>\n",
       "      <th></th>\n",
       "      <th></th>\n",
       "      <th></th>\n",
       "      <th></th>\n",
       "    </tr>\n",
       "  </thead>\n",
       "  <tbody>\n",
       "    <tr>\n",
       "      <th>apple</th>\n",
       "      <td>6268.0</td>\n",
       "      <td>4.049697</td>\n",
       "      <td>0.726943</td>\n",
       "      <td>1.0</td>\n",
       "      <td>4.0</td>\n",
       "      <td>4.5</td>\n",
       "      <td>4.5</td>\n",
       "      <td>5.0</td>\n",
       "    </tr>\n",
       "    <tr>\n",
       "      <th>google</th>\n",
       "      <td>9366.0</td>\n",
       "      <td>4.191757</td>\n",
       "      <td>0.515219</td>\n",
       "      <td>1.0</td>\n",
       "      <td>4.0</td>\n",
       "      <td>4.3</td>\n",
       "      <td>4.5</td>\n",
       "      <td>5.0</td>\n",
       "    </tr>\n",
       "  </tbody>\n",
       "</table>\n",
       "</div>"
      ],
      "text/plain": [
       "           count      mean       std  min  25%  50%  75%  max\n",
       "platform                                                     \n",
       "apple     6268.0  4.049697  0.726943  1.0  4.0  4.5  4.5  5.0\n",
       "google    9366.0  4.191757  0.515219  1.0  4.0  4.3  4.5  5.0"
      ]
     },
     "execution_count": 32,
     "metadata": {},
     "output_type": "execute_result"
    }
   ],
   "source": [
    "a = df['Rating'].groupby(df['platform']).describe()\n",
    "a = pd.DataFrame(a)\n",
    "a"
   ]
  },
  {
   "cell_type": "code",
   "execution_count": 33,
   "metadata": {},
   "outputs": [
    {
     "data": {
      "text/plain": [
       "-0.14206054745123442"
      ]
     },
     "execution_count": 33,
     "metadata": {},
     "output_type": "execute_result"
    }
   ],
   "source": [
    "a.loc['apple','mean']-a.loc['google','mean']"
   ]
  },
  {
   "cell_type": "code",
   "execution_count": 34,
   "metadata": {
    "colab": {},
    "colab_type": "code",
    "id": "aJPNpX0JFcv-"
   },
   "outputs": [
    {
     "data": {
      "text/plain": [
       "[-0.008351164533385358,\n",
       " -0.0005216596956731934,\n",
       " 0.013113396348262363,\n",
       " 0.007227952235537849,\n",
       " -0.008351164533403121,\n",
       " -0.00014882613194533434,\n",
       " -0.0003618738826611789,\n",
       " 0.001475662967011182,\n",
       " -0.004143471457332737,\n",
       " -0.008963676816622801,\n",
       " -0.013650727331707024,\n",
       " -0.004036947581993466,\n",
       " 0.005177367635182506,\n",
       " -0.002039624919319749,\n",
       " 0.0028338423776412824,\n",
       " 0.007520892892730835,\n",
       " 0.001342508122837316,\n",
       " -0.004702721802903653,\n",
       " 0.018306435271251864,\n",
       " 0.01513734997978844,\n",
       " -0.006992985122779238,\n",
       " -0.0003086119449857705,\n",
       " 0.01260740794037396,\n",
       " 0.008133405175953179,\n",
       " 3.759064990038752e-05,\n",
       " -0.00297170882856701,\n",
       " 0.0051507366663736676,\n",
       " -0.0035309591741219393,\n",
       " -0.022944935455415205,\n",
       " 0.010450299464675794,\n",
       " 0.009997572994488557,\n",
       " 0.00523062957287479,\n",
       " -0.000787969384022702,\n",
       " 0.004564855351964603,\n",
       " 0.003925712099910328,\n",
       " -0.01961606435093355,\n",
       " 0.0011294603721561103,\n",
       " 0.01396558735099962,\n",
       " 0.004804534071480404,\n",
       " -0.013570834425197909,\n",
       " -0.011200678198823866,\n",
       " 0.01827980430242082,\n",
       " 0.00022400743173189852,\n",
       " 0.0034463546608600737,\n",
       " 0.0013158771539929504,\n",
       " -0.002891815922061447,\n",
       " -0.022891673517756672,\n",
       " -0.00496903149124428,\n",
       " 0.008479607770815356,\n",
       " -0.006620151559069143,\n",
       " -0.00539512699262179,\n",
       " 0.006375761232800592,\n",
       " -0.004729352771729367,\n",
       " -0.010295225258408536,\n",
       " -0.0007613384151889946,\n",
       " -0.01303821504848468,\n",
       " 0.011701954999971953,\n",
       " -0.018257884940314995,\n",
       " -0.00683319930973969,\n",
       " -0.014742597054001827,\n",
       " -0.00654025865256358,\n",
       " -0.01658013390367241,\n",
       " 0.016175957764382076,\n",
       " -0.0017733152309400424,\n",
       " -0.010641427853276042,\n",
       " 0.00570998701190728,\n",
       " -0.007525604499474703,\n",
       " 0.008532869708510304,\n",
       " -0.018257884940315883,\n",
       " 0.0042985456636159824,\n",
       " -0.0004151358203356992,\n",
       " -0.0001488261319719797,\n",
       " 0.006322499295148276,\n",
       " -0.014502918334476256,\n",
       " 0.014551468665397138,\n",
       " 0.0010495674656434417,\n",
       " 0.004484962445482132,\n",
       " 0.002274592032079248,\n",
       " 0.015057457073265113,\n",
       " 0.002780580439989855,\n",
       " 0.002674056564614169,\n",
       " -0.002785292046724841,\n",
       " 0.009651370399598846,\n",
       " 0.0001973764629070729,\n",
       " -0.014689335116297997,\n",
       " 0.0033664617543536224,\n",
       " -0.007392449655311495,\n",
       " 0.0006767339019599916,\n",
       " 0.0060828205756005005,\n",
       " 0.009571477493110159,\n",
       " -0.016473610028326924,\n",
       " 0.02903871571206107,\n",
       " 0.021129317967827355,\n",
       " 0.00501758182218115,\n",
       " -0.014689335116309543,\n",
       " 0.011941633719492195,\n",
       " 0.00842634583315327,\n",
       " 0.00011748355638463437,\n",
       " -0.002971708828561681,\n",
       " -0.0049690314912513855,\n",
       " -0.01642034809065418,\n",
       " 0.009917680087981218,\n",
       " 0.0012626152163388582,\n",
       " 0.0012093532786581207,\n",
       " 0.019504828868853963,\n",
       " 0.003206675941331838,\n",
       " 0.0006234719642597142,\n",
       " -0.011120785292315638,\n",
       " -0.00989576072586118,\n",
       " 0.003233306910169098,\n",
       " -0.009309879411497413,\n",
       " -0.018204623002659126,\n",
       " -0.006726675434396867,\n",
       " 0.010157358807497907,\n",
       " 0.0029936281906621787,\n",
       " -0.007658759343668997,\n",
       " -0.013144738923821286,\n",
       " -0.007712021281335524,\n",
       " -0.006753306403243897,\n",
       " 0.008719286490352474,\n",
       " -0.007978330969698355,\n",
       " 0.011701954999952413,\n",
       " -0.009016938754291104,\n",
       " -0.004649459865229133,\n",
       " -0.016979598436209997,\n",
       " 0.013938956382173018,\n",
       " 0.005390415385873482,\n",
       " 0.010423668495833205,\n",
       " -0.022225899296850926,\n",
       " -0.009389772317982548,\n",
       " -0.005341865054952599,\n",
       " 0.011835109844149372,\n",
       " 0.0004370551824228741,\n",
       " -0.016154038402284243,\n",
       " -0.010401749133747806,\n",
       " 0.00895896520986561,\n",
       " -0.006380472839561335,\n",
       " 0.010024203963322265,\n",
       " 0.00027726936939487246,\n",
       " -0.004196733395012586,\n",
       " -0.012532226640614041,\n",
       " -0.013038215048512214,\n",
       " 0.0036061404738685354,\n",
       " 0.0059496657314275225,\n",
       " -0.012132762108075568,\n",
       " -0.0058744844316667155,\n",
       " -0.008830521972437388,\n",
       " -0.015514895150227304,\n",
       " 0.006908380609529807,\n",
       " 0.0066154399523279395,\n",
       " 0.011568800155790093,\n",
       " -0.0017200532932681867,\n",
       " -0.005395126992628896,\n",
       " 0.007227952235550283,\n",
       " -0.012399071796434846,\n",
       " 0.010982918841368594,\n",
       " 0.011169335623255172,\n",
       " -0.005315234086098464,\n",
       " 0.00531052247938657,\n",
       " 0.016761839078736962,\n",
       " 0.0008631506837790681,\n",
       " 0.017054779735955705,\n",
       " -0.011040892385808299,\n",
       " 0.01045029946466336,\n",
       " -0.008537581315249732,\n",
       " 0.012341098252020899,\n",
       " -0.008723998097088348,\n",
       " 0.0036061404738578773,\n",
       " -0.002705399140189968,\n",
       " -0.0025456133271895,\n",
       " -0.006726675434411078,\n",
       " 0.0011294603721472285,\n",
       " -0.0040369475820138945,\n",
       " -0.014156715739610526,\n",
       " -0.004755983740555081,\n",
       " -0.006460365746064234,\n",
       " -0.012372440827578934,\n",
       " 0.01148890724927476,\n",
       " 0.0058697728249175185,\n",
       " -0.0007080764775162507,\n",
       " 0.01311339634824904,\n",
       " 0.008719286490338263,\n",
       " -0.010082177507726442,\n",
       " -0.0023325655765100706,\n",
       " 0.0018218655618733592,\n",
       " 0.002487639782777329,\n",
       " 0.0020881752502521778,\n",
       " -0.005288603117277191,\n",
       " -0.00440978114570445,\n",
       " 0.0065089160769913335,\n",
       " -0.021320446356445366,\n",
       " -0.007339187717628981,\n",
       " 0.004032235975252263,\n",
       " 0.007414369017396005,\n",
       " 0.004325176632456795,\n",
       " -0.003770637893625306,\n",
       " -0.012585488578276127,\n",
       " 0.0012626152163566218,\n",
       " -0.006833199309776994,\n",
       " 0.0032066759413398316,\n",
       " 0.0130335034417417,\n",
       " -0.01570131193207569,\n",
       " 0.012394360189691866,\n",
       " -0.01642034809065951,\n",
       " 0.011781847906472187,\n",
       " 0.0014490319981721456,\n",
       " 0.010956287872563308,\n",
       " -0.005155448273109542,\n",
       " 0.0012892461851512493,\n",
       " 0.0040588669441063985,\n",
       " 0.001289246185159243,\n",
       " -0.0015070055426082973,\n",
       " 0.01918525724282638,\n",
       " 3.759064989417027e-05,\n",
       " 0.000729995839620301,\n",
       " -0.0025722442960205427,\n",
       " -0.017325801031053523,\n",
       " -0.016553502934844033,\n",
       " 0.00539041538588414,\n",
       " -0.0028119230155354558,\n",
       " -0.014556180272154329,\n",
       " 0.0017153416865447468,\n",
       " 0.00014411452522455903,\n",
       " -0.002598875264869349,\n",
       " 0.005443677323557772,\n",
       " 0.007467630955075855,\n",
       " 0.0044317005077845195,\n",
       " 0.0004903171200751899,\n",
       " 0.01308676537943132,\n",
       " -0.009949022663561458,\n",
       " -0.02054814826018081,\n",
       " 0.0006767339019386753,\n",
       " -0.0022260417011521483,\n",
       " -0.006753306403243897,\n",
       " -0.01250559567179188,\n",
       " -0.0005482906645024599,\n",
       " -0.007126139966955769,\n",
       " -0.011759928544369025,\n",
       " 0.001022936496813287,\n",
       " 0.010903025934895005,\n",
       " 0.010423668495841198,\n",
       " 0.00230122300090585,\n",
       " -0.002758661077877811,\n",
       " -0.0036907449871268483,\n",
       " 0.011355752405119546,\n",
       " -0.0036374830494505517,\n",
       " -0.015541526119050353,\n",
       " 0.005816510887257209,\n",
       " -0.0014803745737577145,\n",
       " 0.013539491849632768,\n",
       " 0.0029403662529920993,\n",
       " 0.010317144620504592,\n",
       " 0.0008897816526483027,\n",
       " 0.014711254478408264,\n",
       " 0.004431700507780967,\n",
       " -0.012265916952254763,\n",
       " -0.0023325655765038533,\n",
       " 0.00613608251328035,\n",
       " 0.015803124200679974,\n",
       " -0.0004950287268510323,\n",
       " -0.0007347074463677217,\n",
       " -0.004196733395014363,\n",
       " 0.0028871043153158027,\n",
       " -0.0045961979275386255,\n",
       " -0.0021195178258324177,\n",
       " -0.008324533564556091,\n",
       " -0.000787969384022702,\n",
       " 0.00219469912559056,\n",
       " 0.0046181172896355704,\n",
       " -0.0026255062336932866,\n",
       " -0.01615403840228158,\n",
       " -0.015674680963249088,\n",
       " -0.01612740743343366,\n",
       " -0.003131494641571031,\n",
       " -0.012106131139246301,\n",
       " -0.0069929851227801265,\n",
       " -0.0022793036388373267,\n",
       " 0.001475662967011182,\n",
       " 0.010796502059541524,\n",
       " -0.01511543061768883,\n",
       " 0.009811156212614414,\n",
       " -0.01197297629506533,\n",
       " 0.011382383373927496,\n",
       " 0.0038191882245470765,\n",
       " 0.01103618077906976,\n",
       " -0.003797268862457237,\n",
       " 0.000277269369412636,\n",
       " 0.005390415385871705,\n",
       " -0.011546880793713576,\n",
       " -0.008297902595734818,\n",
       " 0.014737885447241084,\n",
       " 0.001608817811199259,\n",
       " 0.002594163658120152,\n",
       " 0.0001707454940680364,\n",
       " 0.002327853969757321,\n",
       " 0.012261205345517112,\n",
       " 0.006988273516022048,\n",
       " 0.0021148062190565753,\n",
       " 0.00035716227591020555,\n",
       " 0.00578987991842439,\n",
       " 0.008879072303378699,\n",
       " -0.006700044465564936,\n",
       " 0.011781847906459753,\n",
       " -0.010907737541652196,\n",
       " 0.01319328925475638,\n",
       " 0.004671379227310091,\n",
       " 0.0025142707516012663,\n",
       " 0.01793360170752667,\n",
       " -0.008990307785460061,\n",
       " 0.012101419532482893,\n",
       " 0.0011028294033090802,\n",
       " 0.002727318502297571,\n",
       " 0.0011028294032975339,\n",
       " 0.0061094515444422015,\n",
       " 0.0038191882245666164,\n",
       " 0.0027539494711374957,\n",
       " 0.008133405175954067,\n",
       " 0.0025675326892997674,\n",
       " -0.0020928868569889403,\n",
       " 0.022407604471950116,\n",
       " -0.0031314946415728073,\n",
       " 0.005763248949579136,\n",
       " 0.011968264688339225,\n",
       " -0.002119517825828865,\n",
       " -0.009363141349176374,\n",
       " 0.007121428360195026,\n",
       " 0.0011827223098253015,\n",
       " -0.0012939577919146572,\n",
       " 0.012607407940380178,\n",
       " -0.0021727797634891743,\n",
       " 0.011169335623262278,\n",
       " 0.011249228529750965,\n",
       " 0.01798686364522517,\n",
       " -0.0005749216333450491,\n",
       " -0.004942400522402579,\n",
       " -0.009709343944011906,\n",
       " 0.005363784417052209,\n",
       " -0.002199410732298901,\n",
       " -0.007445711592974469,\n",
       " -0.019589433382093624,\n",
       " 0.011116073685564665,\n",
       " -0.015781204838603458,\n",
       " 0.004964319884513735,\n",
       " 0.004937688915677363,\n",
       " -0.014902382867008512,\n",
       " 0.029065346680918758,\n",
       " -0.0064071038083941545,\n",
       " -0.00315812561041362,\n",
       " -0.002865184953209976,\n",
       " 0.0013425081228319868,\n",
       " -0.01253222664061493,\n",
       " -0.005981008307021085,\n",
       " -0.00909683166079489,\n",
       " 0.010689978184196036,\n",
       " 0.015563445481157956,\n",
       " -0.0002553500073139148,\n",
       " -0.00835116453339868,\n",
       " 0.0006767339019440044,\n",
       " 0.01079650205954863,\n",
       " 0.0028604733464776544,\n",
       " 0.013885694444477181,\n",
       " -0.004036947582009454,\n",
       " 0.0031534140036519887,\n",
       " 0.008958965209870051,\n",
       " 3.759064988795302e-05,\n",
       " 0.005470308292396808,\n",
       " 0.006615439952338598,\n",
       " -0.0006814455086869842,\n",
       " -0.0050755553666128606,\n",
       " 0.0017952345930334346,\n",
       " -0.012798536328985755,\n",
       " -0.002891815922047236,\n",
       " -0.011120785292320967,\n",
       " 0.01242099115853712,\n",
       " 0.00251427075159949,\n",
       " 0.0005702100266047339,\n",
       " 0.004857796009178017,\n",
       " -0.0021994107323068945,\n",
       " 0.002381115907450493,\n",
       " -0.012478964702945738,\n",
       " -0.009469665224488999,\n",
       " -0.011653404669025313,\n",
       " 0.008852441334525452,\n",
       " -0.005395126992619126,\n",
       " 0.013060134410595836,\n",
       " -0.0007347074463535108,\n",
       " 0.010503561402370742,\n",
       " 0.0065621780146649655,\n",
       " -0.005235341179613329,\n",
       " -0.00755223546831818,\n",
       " -0.00672667543441019,\n",
       " -0.006194056057693409,\n",
       " -0.008324533564543657,\n",
       " -0.02126718441876374,\n",
       " 0.0010761984344780373,\n",
       " 0.01633574357737455,\n",
       " 0.007281214173211481,\n",
       " -0.006300579933045114,\n",
       " -0.004303257270367844,\n",
       " -0.0007347074463472936,\n",
       " -0.01295832214199688,\n",
       " -0.007578866437139453,\n",
       " -0.004090209519652888,\n",
       " 0.011462276280454375,\n",
       " -0.0077386522501710076,\n",
       " -0.0026521372025403167,\n",
       " 0.009251905867094123,\n",
       " -0.002918446890879167,\n",
       " -0.0020396249193064264,\n",
       " -0.011520249824862105,\n",
       " -0.0032380185169209597,\n",
       " -0.006433734777224309,\n",
       " -0.00827127162685759,\n",
       " -0.0051021863354190344,\n",
       " 0.003153414003668864,\n",
       " -0.00036187388264874443,\n",
       " 0.0042719146947893805,\n",
       " -0.018976921098872168,\n",
       " 0.01223457437667097,\n",
       " -0.005714698618657366,\n",
       " 0.001049567465645218,\n",
       " 0.011915002750656711,\n",
       " 0.0042719146947645115,\n",
       " 0.002088175250257507,\n",
       " 0.008026881300615685,\n",
       " -0.003344542392258454,\n",
       " -0.0050222934289294585,\n",
       " -0.005608174743304772,\n",
       " -0.0008944932593788479,\n",
       " 0.020223865027428012,\n",
       " 0.01343296797430682,\n",
       " -0.0016401603867590708,\n",
       " -0.006913092216269234,\n",
       " -0.0031048636727417644,\n",
       " -0.001320588760735042,\n",
       " 0.0021680681567470828,\n",
       " -0.008990307785459173,\n",
       " 0.009012227147537466,\n",
       " 0.0016088178111965945,\n",
       " -0.010028915570040375,\n",
       " 0.011994895657158722,\n",
       " -0.020175314696491142,\n",
       " -0.00041513582032948193,\n",
       " -0.009150093598454312,\n",
       " 0.011622062093444185,\n",
       " 0.01191500275064783,\n",
       " 0.014125373164009858,\n",
       " 0.0070681664225134,\n",
       " -0.017885051376608452,\n",
       " 0.0030202591594941097,\n",
       " -0.01173329757555397,\n",
       " -0.004249995332678225,\n",
       " 0.002434377845115243,\n",
       " 0.005816510887238557,\n",
       " 0.0034996165985221594,\n",
       " 0.00432517663244969,\n",
       " -0.006460365746060681,\n",
       " 0.0032865688478604937,\n",
       " -0.007632128374833513,\n",
       " -0.0036374830494745325,\n",
       " -0.004569566958702254,\n",
       " -0.011893083388556214,\n",
       " 0.005496939261217193,\n",
       " 0.009012227147549012,\n",
       " 0.00035716227592264005,\n",
       " 0.00195502040605966,\n",
       " -0.0038771617689805637,\n",
       " -0.013118107954999125,\n",
       " 0.013859063475675448,\n",
       " 0.0029403662529920993,\n",
       " 0.010050834932150643,\n",
       " 0.013619384756146324,\n",
       " 0.006482285108141639,\n",
       " -0.0013205887607394828,\n",
       " 0.011462276280436612,\n",
       " -0.0077386522501754484,\n",
       " 0.002247961063267745,\n",
       " 0.009038858116380055,\n",
       " -0.00022871903848109554,\n",
       " -0.007765283219005603,\n",
       " 0.009438322648920305,\n",
       " -0.0037706378936341878,\n",
       " -0.011174047229997264,\n",
       " -0.008431057439908685,\n",
       " -0.0004950287268323805,\n",
       " -0.007978330969688585,\n",
       " -0.03365058492742712,\n",
       " 0.002194699125584343,\n",
       " 0.007467630955077631,\n",
       " 0.008825810365705955,\n",
       " 0.017480875237325222,\n",
       " -0.006194056057688968,\n",
       " -0.004542935989880981,\n",
       " 0.016921624891767628,\n",
       " -0.009283248442645942,\n",
       " -0.006433734777193223,\n",
       " -0.004409781145697345,\n",
       " -0.004063578550806746,\n",
       " 0.006588808983455152,\n",
       " 0.0042719146947796105,\n",
       " 0.00176860362418374,\n",
       " 0.007867095487595677,\n",
       " -0.007951700000857542,\n",
       " 0.0003305313070853799,\n",
       " 0.008053512269463603,\n",
       " -0.0060609012135177665,\n",
       " 0.0030468901283287053,\n",
       " 0.0050442127910121926,\n",
       " 0.010263882682839842,\n",
       " -0.0020396249193170846,\n",
       " -0.0043298882392068805,\n",
       " 0.008745917459192398,\n",
       " -0.01532847836839224,\n",
       " 0.000596840995432224,\n",
       " 0.006775225765344395,\n",
       " 0.012713931815715895,\n",
       " -0.006140794120025106,\n",
       " -0.00875062906594426,\n",
       " 0.009411691680083933,\n",
       " -0.003238018516928065,\n",
       " -0.00803159290737021,\n",
       " 0.017933601707533775,\n",
       " 0.012314467283185415,\n",
       " -0.008351164533392463,\n",
       " 0.014418313821221496,\n",
       " -0.0029717088285687865,\n",
       " 0.00903885811639249,\n",
       " 0.005230629572861467,\n",
       " -0.0035309591741130575,\n",
       " 0.0057366179807401,\n",
       " -0.009949022663549911,\n",
       " -0.006673413496742775,\n",
       " -0.0006015526021592166,\n",
       " -0.016180669371126832,\n",
       " 0.006109451544455524,\n",
       " 0.0015289249046750442,\n",
       " -0.006593520590231883,\n",
       " 0.008612762614992775,\n",
       " 0.0015022939358448895,\n",
       " 0.002727318502306453,\n",
       " -0.01892365916120564,\n",
       " -0.0005482906645219998,\n",
       " -0.007445711592968252,\n",
       " -0.011573511762543731,\n",
       " 0.00701490448485842,\n",
       " 0.003845819193410094,\n",
       " -0.00278529204673017,\n",
       " 0.00831982195783798,\n",
       " -0.0031048636727462053,\n",
       " -0.009762605881707742,\n",
       " -0.0018532081374420528,\n",
       " 0.00509747472869293,\n",
       " 0.00805351226946538,\n",
       " -0.004889138584765362,\n",
       " 0.0020615442813980422,\n",
       " -0.006220687026524452,\n",
       " -0.014529549303281541,\n",
       " 0.002114806219074339,\n",
       " -0.013703989269391315,\n",
       " 0.0010229364968168397,\n",
       " 0.015483552574646176,\n",
       " -0.004409781145688463,\n",
       " 0.0029936281906621787,\n",
       " 0.012181312439002667,\n",
       " -0.010588165915611292,\n",
       " -0.007019616091626268,\n",
       " 0.012287836314343714,\n",
       " 0.004192021788261613,\n",
       " -0.006087532182332822,\n",
       " 0.007520892892745934,\n",
       " -0.010881106572790955,\n",
       " 0.01423189703938732,\n",
       " -0.02145360120061479,\n",
       " 0.01356612281846381,\n",
       " -0.00012219516312228507,\n",
       " 0.01268730084689107,\n",
       " 0.014152004132852447,\n",
       " -0.0063538418707258515,\n",
       " -0.0005216596956580943,\n",
       " -0.005288603117286961,\n",
       " -0.00598100830700421,\n",
       " 0.0048844269779770855,\n",
       " -0.006087532182369237,\n",
       " 0.005923034762614243,\n",
       " 0.00568335604307002,\n",
       " 0.012847086659895979,\n",
       " 0.002221330094420715,\n",
       " -0.0221726373591995,\n",
       " -0.008404426471075865,\n",
       " -0.026433592372894665,\n",
       " -0.006433734777227862,\n",
       " 0.016016171951371838,\n",
       " -0.01253222664060516,\n",
       " 0.011249228529759847,\n",
       " -0.008510950346406254,\n",
       " -0.0038505308001672844,\n",
       " 0.014391682852384236,\n",
       " 0.01308676537942599,\n",
       " 0.0022479610632499814,\n",
       " -0.013064846017349474,\n",
       " 0.009438322648939845,\n",
       " -0.0011341719788875437,\n",
       " -0.0006281835710320038,\n",
       " -0.030108666072259815,\n",
       " 0.007946988394110122,\n",
       " 0.01737435136200105,\n",
       " 0.014897671260250434,\n",
       " -0.01516869255537312,\n",
       " 0.0007299958396194128,\n",
       " 0.0033131998166870957,\n",
       " 0.011755216937637591,\n",
       " 0.0020082823437270747,\n",
       " 0.0027273185023002355,\n",
       " -0.01301158407966696,\n",
       " 0.011675324031112488,\n",
       " 0.010210620745178645,\n",
       " 0.000729995839595432,\n",
       " -0.005901115400504864,\n",
       " 0.004271914694770729,\n",
       " 0.002913735284173491,\n",
       " -0.001933101043962715,\n",
       " -0.0001488261319710915,\n",
       " 0.0074143690174022225,\n",
       " 0.009358429742409413,\n",
       " 0.012953610535253901,\n",
       " 0.0052838915105368756,\n",
       " -0.0018265771686385435,\n",
       " -0.0014004816672565923,\n",
       " -0.003051601735076126,\n",
       " 0.006162713482123827,\n",
       " 0.0026207946269574123,\n",
       " 0.002780580439974756,\n",
       " -0.0007347074463535108,\n",
       " -0.0037440069248022567,\n",
       " 0.012074788563660732,\n",
       " -0.015994252589283775,\n",
       " 0.016841731985281605,\n",
       " 0.0009696745591183387,\n",
       " 0.0074676309550554265,\n",
       " -0.004542935989872987,\n",
       " -0.003477697236436761,\n",
       " -1.5671287781238163e-05,\n",
       " -0.007951700000852213,\n",
       " 0.00232785396974311,\n",
       " 0.0008098887461160942,\n",
       " 0.005283891510548422,\n",
       " 0.003952343068744035,\n",
       " -0.02201285154617949,\n",
       " 0.016069433889038365,\n",
       " 0.011195966592082662,\n",
       " -0.004223364363846294,\n",
       " 0.005283891510543981,\n",
       " -0.004649459865238015,\n",
       " 0.0024077468762593313,\n",
       " 0.008293190988977628,\n",
       " -0.0016135294179218107,\n",
       " -0.011307202074163136,\n",
       " 0.003366461754350958,\n",
       " -0.0032113875481023513,\n",
       " 0.0031001520659934556,\n",
       " 0.0017153416865474114,\n",
       " 0.016389005515063282,\n",
       " -0.0019331010439600504,\n",
       " -0.02651348527940378,\n",
       " 0.005523570230054453,\n",
       " 0.003952343068751141,\n",
       " -0.014715966085159238,\n",
       " 0.0068284877030260205,\n",
       " -0.011999607263879497,\n",
       " 0.0074409999862385945,\n",
       " -0.0020396249193126437,\n",
       " -0.0030249707662273195,\n",
       " 0.0019017584683949096,\n",
       " -0.006034270244708928,\n",
       " 0.0018751274995576495,\n",
       " -0.0024657204206768313,\n",
       " 0.012660669878052921,\n",
       " 0.014178635101686154,\n",
       " 0.003100152066009443,\n",
       " -0.0006015526021689865,\n",
       " 0.007787202581083896,\n",
       " -0.0023059346076683696,\n",
       " -0.011440356918364536,\n",
       " -0.0062739489642211765,\n",
       " 0.003899081131074844,\n",
       " 0.00837308389548852,\n",
       " -0.005368496023777425,\n",
       " 0.004112128881753385,\n",
       " -0.004809245678233154,\n",
       " 0.0017952345930432045,\n",
       " 0.0010761984344709319,\n",
       " 0.0019816513749084663,\n",
       " -0.01064142785327249,\n",
       " 0.0011294603721516694,\n",
       " -0.011999607263890155,\n",
       " 0.001022936496803517,\n",
       " 0.01740098233084364,\n",
       " 0.003952343068733377,\n",
       " -0.007845176125506725,\n",
       " 0.003792557255742679,\n",
       " -0.011466987887177815,\n",
       " 0.005124105697524861,\n",
       " -0.007072878029301677,\n",
       " -0.00946966522450321,\n",
       " -0.011546880793695813,\n",
       " 0.007893726456441819,\n",
       " 3.75906498764067e-05,\n",
       " -0.019003552067711205,\n",
       " 0.006455654139291944,\n",
       " -0.005688067649813,\n",
       " 0.004777903102661796,\n",
       " 0.004724641164989052,\n",
       " -0.010934368510461923,\n",
       " 0.017986863645212736,\n",
       " -0.007578866437157217,\n",
       " -0.0012406958542365842,\n",
       " 0.014072111226343331,\n",
       " 0.0005169480889231082,\n",
       " -0.020361731478357292,\n",
       " 0.0041121288817596025,\n",
       " -0.008431057439900691,\n",
       " 0.007680678705750843,\n",
       " -9.556419431255847e-05,\n",
       " -0.003211387548075706,\n",
       " -0.006513627683714773,\n",
       " 0.002434377845109914,\n",
       " 0.007094797391359542,\n",
       " -0.0012406958542197088,\n",
       " -0.00401031661315443,\n",
       " 0.013353075067788822,\n",
       " -0.017006229405029494,\n",
       " 0.001955020406055219,\n",
       " 0.012074788563667838,\n",
       " -0.01753884878173917,\n",
       " -0.00901693875430265,\n",
       " -0.005155448273091778,\n",
       " -0.0010010171347190067,\n",
       " 0.001555555873536285,\n",
       " 0.012580776971553576,\n",
       " 0.009491584586604596,\n",
       " 0.0010761984344878073,\n",
       " 0.0013957700605029544,\n",
       " -0.0050755553666075315,\n",
       " 0.0007832577772814986,\n",
       " 0.008319821957821105,\n",
       " -0.0020662558881570092,\n",
       " 0.011595431124635347,\n",
       " -0.017858420407780073,\n",
       " 0.0009696745591512013,\n",
       " -0.012292547921099128,\n",
       " 0.0029403662529725594,\n",
       " -0.010801213666304932,\n",
       " -6.893322545398206e-05,\n",
       " 0.004618117289639123,\n",
       " 0.0012626152163139892,\n",
       " 0.01569660032533271,\n",
       " 0.0017952345930574154,\n",
       " -0.010827844635122652,\n",
       " 0.019877662432555177,\n",
       " -0.004249995332690659,\n",
       " 0.006855118671846405,\n",
       " 0.00477790310266446,\n",
       " -0.01080121366628184,\n",
       " 0.010876394966057745,\n",
       " -0.00635384187071697,\n",
       " 0.013246551192438893,\n",
       " -0.006700044465579147,\n",
       " -0.009629451037529435,\n",
       " -0.007871807094363525,\n",
       " -0.0017999461997932897,\n",
       " -0.005235341179599118,\n",
       " -0.005528281836808091,\n",
       " 0.006242606388628502,\n",
       " -0.0135442034563793,\n",
       " 0.015243873855121493,\n",
       " -0.010907737541643314,\n",
       " 0.0068284877030064806,\n",
       " -0.004969031491264708,\n",
       " 0.0073078451420558466,\n",
       " 0.016815101016430134,\n",
       " -0.011653404669034195,\n",
       " -0.0035309591741183866,\n",
       " 0.0007299958396034256,\n",
       " 0.015323766761633273,\n",
       " 6.422161871366683e-05,\n",
       " 0.013006872472928421,\n",
       " 0.012154681470176065,\n",
       " 0.007307845142048741,\n",
       " -0.01186645241972073,\n",
       " 0.01897220949214784,\n",
       " 0.006562178014641873,\n",
       " 0.0012359842474900518,\n",
       " 0.006215975419793018,\n",
       " -0.0027586610778707055,\n",
       " 0.004245283725941462,\n",
       " 0.0036061404738738645,\n",
       " 0.016575422296903675,\n",
       " 0.012847086659883544,\n",
       " 0.000836519714951578,\n",
       " 0.0124742530962072,\n",
       " 0.01441831382120995,\n",
       " -0.0005482906645051244,\n",
       " -0.009629451037518777,\n",
       " -0.0025456133272090398,\n",
       " 0.005470308292384374,\n",
       " -0.0001488261319710915,\n",
       " -0.00297170882855724,\n",
       " 0.0070149044848477615,\n",
       " 0.002407746876273542,\n",
       " -0.006966354153925991,\n",
       " 0.006269237357484414,\n",
       " 0.013086765379451748,\n",
       " -0.024090067115352554,\n",
       " -0.027179259500313968,\n",
       " 0.0053105224793679184,\n",
       " -0.0045163050210481614,\n",
       " 0.001821865561886682,\n",
       " 0.008879072303360935,\n",
       " 0.004538224383124678,\n",
       " -0.012585488578276127,\n",
       " -0.004835876647065973,\n",
       " -0.022811780611222687,\n",
       " 0.025283749106209896,\n",
       " -0.014875751898154377,\n",
       " 0.011755216937639368,\n",
       " 0.016548791328074408,\n",
       " -0.009309879411469879,\n",
       " 0.008879072303360935,\n",
       " 0.002780580439964986,\n",
       " 0.012527515033872838,\n",
       " -0.0038771617689832283,\n",
       " 0.00041042421358739034,\n",
       " -0.016420348090660397,\n",
       " 0.00043705518241754504,\n",
       " -0.005981008306991775,\n",
       " 0.004857796009173576,\n",
       " 0.005496939261221634,\n",
       " 0.00810677420714967,\n",
       " -0.010241963320740233,\n",
       " -0.009949022663549023,\n",
       " 0.024431558103479745,\n",
       " 0.005124105697523973,\n",
       " 0.017747184925673842,\n",
       " -0.0005749216333326146,\n",
       " -0.010987630448130226,\n",
       " -0.00611416315119051,\n",
       " 0.001369139091664806,\n",
       " -0.008617474221754406,\n",
       " -0.0063804728395675525,\n",
       " -0.009070200691951413,\n",
       " -0.004090209519659993,\n",
       " 0.00182186556188757,\n",
       " -0.013198000861502024,\n",
       " 0.0011560913410004758,\n",
       " 0.012154681470186723,\n",
       " -0.014183346708466438,\n",
       " -0.011413725949529052,\n",
       " 0.0005435790577719146,\n",
       " 0.012261205345509119,\n",
       " -0.002146148794625269,\n",
       " 0.007041535453690351,\n",
       " -0.0012140648853957714,\n",
       " -0.001347219729572302,\n",
       " 0.002487639782778217,\n",
       " -0.0015868984491085314,\n",
       " -0.008644105190597884,\n",
       " -0.013810513144740355,\n",
       " -0.015594788056741749,\n",
       " -0.0070462470604431005,\n",
       " 0.0016620797488808847,\n",
       " 0.006642070921170529,\n",
       " 0.015323766761618174,\n",
       " 0.006642070921158094,\n",
       " -0.0015070055425878692,\n",
       " -0.003690744987134842,\n",
       " -0.013490941518697674,\n",
       " 0.033166515881629444,\n",
       " 0.01905210239864452,\n",
       " 0.0031534140036812985,\n",
       " 0.004005605006407009,\n",
       " -0.00329128045461502,\n",
       " 0.0004903171200920653,\n",
       " -0.0005482906645148944,\n",
       " 0.016602053265751593,\n",
       " 0.013379706036596772,\n",
       " -0.00992239169470821,\n",
       " -0.01833777784682944,\n",
       " 0.003339830785519915,\n",
       " 0.018652637866117594,\n",
       " 0.006855118671840188,\n",
       " 0.011329121436266298,\n",
       " -0.009949022663534812,\n",
       " -0.001214064885388666,\n",
       " 0.003206675941326509,\n",
       " 0.016948255860626205,\n",
       " -0.025315091681805235,\n",
       " 0.0036061404738791936,\n",
       " -0.011307202074158695,\n",
       " -0.0032646494857573316,\n",
       " -0.012612119547139145,\n",
       " 0.010903025934887012,\n",
       " -0.008431057439929113,\n",
       " -0.02062804116668815,\n",
       " -0.0006015526021752038,\n",
       " -0.015568157087885837,\n",
       " -0.007099508998120285,\n",
       " 0.005390415385880587,\n",
       " 0.014524837696542114,\n",
       " -0.007978330969690361,\n",
       " -0.012532226640631805,\n",
       " 0.0013691390916701351,\n",
       " -0.013970298957747929,\n",
       " 0.007654047736904701,\n",
       " 0.0004903171200911771,\n",
       " -0.004542935989880981,\n",
       " -1.5671287785679056e-05,\n",
       " 0.0013425081228204405,\n",
       " -0.014236608646114313,\n",
       " 0.00019737646291151378,\n",
       " 0.011116073685559336,\n",
       " -0.0019597320128319495,\n",
       " -0.005794591525158488,\n",
       " -0.0028119230155398967,\n",
       " -0.006273948964195419,\n",
       " 0.015190611917461183,\n",
       " 0.006668701889983808,\n",
       " -0.0073658186864680175,\n",
       " 0.01931841208699936,\n",
       " -0.006380472839548901,\n",
       " -0.0052353411796124405,\n",
       " -0.005794591525178028,\n",
       " -0.00241245848300764,\n",
       " 0.004591486320796534,\n",
       " -0.008297902595735707,\n",
       " -0.002279303638843544,\n",
       " -0.007951700000854878,\n",
       " -0.0027320301090547616,\n",
       " -0.013277893768017357,\n",
       " -0.010481642040266692,\n",
       " 0.004325176632447025,\n",
       " 0.003446354660856521,\n",
       " -0.002625506233694175,\n",
       " 0.002514270751604819,\n",
       " -0.013490941518718103,\n",
       " 0.01298024150408228,\n",
       " 0.009092120054056352,\n",
       " 0.002274592032120104,\n",
       " -0.0237438645205037,\n",
       " -0.009203355536151925,\n",
       " 0.003712664349213135,\n",
       " 0.007467630955067861,\n",
       " 0.00019737646289108568,\n",
       " -0.009016938754284887,\n",
       " 0.01819991139590016,\n",
       " -0.014502918334454051,\n",
       " -0.0041967333950090335,\n",
       " -0.004063578550825397,\n",
       " -0.0058744844316764855,\n",
       " 0.0024610088139489505,\n",
       " -0.012106131139256071,\n",
       " 0.009784525243770936,\n",
       " -0.0010276481035456086,\n",
       " -0.004356519208035259,\n",
       " -0.010295225258412977,\n",
       " 0.005789879918419061,\n",
       " -0.015008906742337125,\n",
       " 0.0046713792273243016,\n",
       " 0.011968264688313468,\n",
       " 0.011462276280450823,\n",
       " -0.0021195178258253122,\n",
       " -0.003664114018293141,\n",
       " 0.005417046354708077,\n",
       " -0.0158078358074345,\n",
       " -0.0015070055425798756,\n",
       " 0.010183989776312963,\n",
       " 0.017081410704772537,\n",
       " 0.014871040291433602,\n",
       " -0.010508273009099511,\n",
       " 0.0029936281906559614,\n",
       " 0.0015821868423886443,\n",
       " 0.004431700507791625,\n",
       " 0.020143972120910902,\n",
       " 0.010610085277698467,\n",
       " -0.00808485484503052,\n",
       " 0.0030468901283038363,\n",
       " 0.00027726936939576063,\n",
       " 0.024058724539790077,\n",
       " 0.011941633719483313,\n",
       " 0.008692655521533865,\n",
       " 0.0010495674656292309,\n",
       " -0.00861747422175263,\n",
       " -0.013224631830355271,\n",
       " 0.02240760447194745,\n",
       " -0.003610852080615956,\n",
       " 0.011542169186935958,\n",
       " 0.0034197236920379126,\n",
       " -0.007685390312511586,\n",
       " 0.031249086125442638,\n",
       " -0.010401749133742477,\n",
       " -0.001400481667235276,\n",
       " ...]"
      ]
     },
     "execution_count": 34,
     "metadata": {},
     "output_type": "execute_result"
    }
   ],
   "source": [
    "# The difference in the means for Permutation1 (0.001103) now looks hugely different to our observed difference of 0.14206. \n",
    "# It's sure starting to look like our observed difference is significant, and that the Null is false; platform does impact on ratings\n",
    "# But to be sure, let's create 10,000 permutations, calculate the mean ratings for Google and Apple apps and the difference between \n",
    "#these for each one, and then take the average of all of these differences.\n",
    "# Let's create a vector with the differences - that will be the distibution of the Null.\n",
    "\n",
    "# First, make a list called difference.\n",
    "difference = []\n",
    "\n",
    "# Now make a for loop that does the following 10,000 times:\n",
    "# 1. makes a permutation of the 'Rating' as you did above\n",
    "# 2. calculates the difference in the mean rating for apple and the mean rating for google. \n",
    "for i in range(10000):\n",
    "    df['Permutation'] =np.random.permutation(df['Rating'])\n",
    "    a = df['Permutation'].groupby(df['platform']).describe()\n",
    "    a = pd.DataFrame(a)\n",
    "    difference.append((a.loc['google','mean']-a.loc['apple','mean']))\n",
    "    \n",
    "difference"
   ]
  },
  {
   "cell_type": "code",
   "execution_count": 35,
   "metadata": {
    "colab": {},
    "colab_type": "code",
    "id": "VlzpYTkYFcv_"
   },
   "outputs": [
    {
     "data": {
      "image/png": "[encoded data removed]",
      "text/plain": [
       "<Figure size 432x288 with 1 Axes>"
      ]
     },
     "metadata": {
      "needs_background": "light"
     },
     "output_type": "display_data"
    }
   ],
   "source": [
    "# Make a variable called 'histo', and assign to it the result of plotting a histogram of the difference list. \n",
    "histo = plt.hist(difference)"
   ]
  },
  {
   "cell_type": "code",
   "execution_count": 36,
   "metadata": {
    "colab": {},
    "colab_type": "code",
    "id": "KhqgDFd3FcwB"
   },
   "outputs": [
    {
     "name": "stdout",
     "output_type": "stream",
     "text": [
      "0.14206054745123442\n"
     ]
    }
   ],
   "source": [
    "# Now make a variable called obs_difference, and assign it the result of the mean of our 'apple' variable and the mean of our 'google variable'\n",
    "obs_difference = apple.mean()- google.mean()\n",
    "\n",
    "# Make this difference absolute with the built-in abs() function. \n",
    "obs_difference = abs(obs_difference)\n",
    "\n",
    "# Print out this value; it should be 0.1420605474512291. \n",
    "print(obs_difference)"
   ]
  },
  {
   "cell_type": "markdown",
   "metadata": {
    "colab_type": "text",
    "id": "QUNuuSgDFcwE"
   },
   "source": [
    "## Stage 4 -  Evaluating and concluding\n",
    "### 4a. What is our conclusion?"
   ]
  },
  {
   "cell_type": "markdown",
   "metadata": {
    "colab": {},
    "colab_type": "code",
    "id": "XMQHnqx1FcwF"
   },
   "source": [
    "'''\n",
    "What do we know? \n",
    "\n",
    "Recall: The p-value of our observed data is just the proportion of the data given the null that's at least as extreme as that observed data.\n",
    "\n",
    "As a result, we're going to count how many of the differences in our difference list are at least as extreme as our observed difference.\n",
    "\n",
    "If less than or equal to 5% of them are, then we will reject the Null. \n",
    "'''\n",
    "# There is a difference between two platfroms in regards to rating, because the vaule of 0.14206 locates extremely right\n",
    "# on above histogram and the p-value approximately equals to 0."
   ]
  },
  {
   "cell_type": "markdown",
   "metadata": {
    "colab_type": "text",
    "id": "4RTofY9wFcwI"
   },
   "source": [
    "### 4b. What is our decision?\n",
    "So actually, zero differences are at least as extreme as our observed difference!\n",
    "\n",
    "So the p-value of our observed data is 0. \n",
    "\n",
    "It doesn't matter which significance level we pick; our observed data is statistically significant, and we reject the Null.\n",
    "\n",
    "We conclude that platform does impact on ratings. Specifically, we should advise our client to integrate **only Google Play** into their operating system interface. "
   ]
  },
  {
   "cell_type": "markdown",
   "metadata": {
    "colab_type": "text",
    "id": "Cu_eh7fTFcwJ"
   },
   "source": [
    "### 4c. Other statistical tests, and next steps\n",
    "The test we used here is the Permutation test. This was appropriate because our data were not normally distributed! \n",
    "\n",
    "As we've seen in Professor Spiegelhalter's book, there are actually many different statistical tests, all with different assumptions. How many of these different statistical tests can you remember? How much do you remember about what the appropriate conditions are under which to use them? \n",
    "\n",
    "Make a note of your answers to these questions, and discuss them with your mentor at your next call. \n"
   ]
  }
 ],
 "metadata": {
  "colab": {
   "collapsed_sections": [
    "5fbRq2MZFcvq",
    "4RTofY9wFcwI",
    "Cu_eh7fTFcwJ"
   ],
   "name": "Springboard Apps project - Tier 3 - Complete.ipynb",
   "provenance": []
  },
  "kernelspec": {
   "display_name": "Python 3",
   "language": "python",
   "name": "python3"
  },
  "language_info": {
   "codemirror_mode": {
    "name": "ipython",
    "version": 3
   },
   "file_extension": ".py",
   "mimetype": "text/x-python",
   "name": "python",
   "nbconvert_exporter": "python",
   "pygments_lexer": "ipython3",
   "version": "3.7.9"
  }
 },
 "nbformat": 4,
 "nbformat_minor": 4
}
